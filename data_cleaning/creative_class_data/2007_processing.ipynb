{
 "cells": [
  {
   "cell_type": "code",
   "execution_count": 1,
   "metadata": {},
   "outputs": [],
   "source": [
    "import pandas as pd \n",
    "import numpy as np"
   ]
  },
  {
   "cell_type": "code",
   "execution_count": 2,
   "metadata": {},
   "outputs": [],
   "source": [
    "#read in the prepared 2002 data that was semi processed using spark\n",
    "_2007 = pd.read_csv('_2007_updated_pd.csv')"
   ]
  },
  {
   "cell_type": "code",
   "execution_count": 4,
   "metadata": {},
   "outputs": [],
   "source": [
    "#create a list of job tittles that would be a part of the creative class\n",
    "creative_class = ['Heavy and civil engineering construction',\n",
    "'Veneer, plywood, and engineered wood product manufacturing',\n",
    "'Pharmaceutical and medicine manufacturing',\n",
    "'Electronic computer manufacturing',\n",
    "'Computer terminal and other computer peripheral equipment manufacturing',\n",
    "'Navigational, measuring, electromedical, and control instruments manufacturing',\n",
    "'Electromedical and electrotherapeutic apparatus manufacturing',\n",
    "'Surgical and medical instrument manufacturing',\n",
    "'Computer and computer peripheral equipment and software merchant wholesalers',\n",
    "'Computer and computer peripheral equipment merchant wholesalers',\n",
    "'Surgical, medical, and hospital supplies merchant wholesalers',\n",
    "'Direct life, health, and medical insurance carriers',\n",
    "'Direct health and medical insurance carriers',\n",
    "'Direct insurance (except life, health, and medical) carriers',\n",
    "'Offices of lawyers',\n",
    "'Legal aid societies and similar legal services',\n",
    "'Other legal services',\n",
    "'All other legal services',\n",
    "'Accounting, tax preparation, bookkeeping, and payroll services',\n",
    "'Other accounting services',\n",
    "'Architectural, engineering, and related services',\n",
    "'Custom computer programming services',\n",
    "'Other computer related services',\n",
    "'Scientific research and development services',\n",
    "'Research and development in the physical, engineering, and life sciences',\n",
    "'Research and development in the physical, engineering, and life sciences',\n",
    "'Research and development in biotechnology',\n",
    "'Research and development in the physical, engineering, and life sciences (except biotechnology)',\n",
    "'Research and development in the physical and engineering sciences',\n",
    "'Research and development in other life sciences',\n",
    "'Research and development in the social sciences and humanities',\n",
    "'Marketing research and public opinion polling',\n",
    "'Economic or industrial planning or development organization',\n",
    "'Business schools and computer and management training',\n",
    "'Professional and management development training',\n",
    "'Art, drama, and music schools',\n",
    "'Family planning centers',\n",
    "'HMO medical centers',\n",
    "'Freestanding ambulatory surgical and emergency centers',\n",
    "'General medical and surgical hospitals',\n",
    "'General medical and surgical hospitals, government',\n",
    "'General medical and surgical hospitals, except government',\n",
    "'Residential intellectual and developmental disability, mental health, and substance abuse facilities',\n",
    "'Residential intellectual and developmental disability facilities',\n",
    "'Musical groups and artists',\n",
    "'Symphony orchestras and chamber music organizations',\n",
    "'Other music groups and artists',\n",
    "'Agents and managers for artists, athletes, entertainers, and other public figures',\n",
    "'Independent artists, writers, and performers']"
   ]
  },
  {
   "cell_type": "code",
   "execution_count": 5,
   "metadata": {},
   "outputs": [],
   "source": [
    "#case when clause to define which jobs and establishments would be labeled as creative\n",
    "import pandas as pd\n",
    "_2007['class'] = pd.np.where(\n",
    "     _2007['NAICS2007_MEANING'].isin(creative_class), \n",
    "    '1_creative',  \n",
    "    pd.np.where(~_2007['NAICS2007_MEANING'].isin(creative_class), \n",
    "    '2_regular','3_none'\n",
    "     ))"
   ]
  },
  {
   "cell_type": "code",
   "execution_count": 6,
   "metadata": {},
   "outputs": [],
   "source": [
    "#select columns of interest\n",
    "_2007_data = _2007[['city_state_code','EMP','ESTAB','class']]"
   ]
  },
  {
   "cell_type": "code",
   "execution_count": 7,
   "metadata": {},
   "outputs": [],
   "source": [
    "#Groupby by and unstack by class\n",
    "_2007_gb = _2007_data.groupby(['city_state_code','class']).sum().unstack()"
   ]
  },
  {
   "cell_type": "code",
   "execution_count": 8,
   "metadata": {},
   "outputs": [],
   "source": [
    "#reset the index and rename the columns\n",
    "_2007_gb = _2007_gb.reset_index()\n",
    "_2007_gb.columns = ['city_state','creative_employees','regular_employees',\n",
    "                           'creative_establishments','regular_establishments']"
   ]
  },
  {
   "cell_type": "code",
   "execution_count": 10,
   "metadata": {},
   "outputs": [],
   "source": [
    "#clean city_state code of any extra characters and lower case the text\n",
    "_2007_gb['city_state'] = _2007_gb['city_state'].str.replace(' ','')\n",
    "_2007_gb['city_state'] = _2007_gb['city_state'].str.replace('.','')\n",
    "_2007_gb['city_state'] = _2007_gb['city_state'].str.replace(',','')\n",
    "_2007_gb['city_state'] = _2007_gb['city_state'].str.lower()"
   ]
  },
  {
   "cell_type": "code",
   "execution_count": 11,
   "metadata": {},
   "outputs": [],
   "source": [
    "#write out the dataframe to csv\n",
    "_2007_gb.to_csv('2007_creative_class.csv')"
   ]
  }
 ],
 "metadata": {
  "kernelspec": {
   "display_name": "PUI2016_Python3",
   "language": "python",
   "name": "pui2016_python3"
  },
  "language_info": {
   "codemirror_mode": {
    "name": "ipython",
    "version": 3
   },
   "file_extension": ".py",
   "mimetype": "text/x-python",
   "name": "python",
   "nbconvert_exporter": "python",
   "pygments_lexer": "ipython3",
   "version": "3.5.4"
  }
 },
 "nbformat": 4,
 "nbformat_minor": 2
}
