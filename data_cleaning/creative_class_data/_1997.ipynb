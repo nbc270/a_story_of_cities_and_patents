{
 "cells": [
  {
   "cell_type": "code",
   "execution_count": 1,
   "metadata": {},
   "outputs": [],
   "source": [
    "import pandas as pd\n",
    "import requests"
   ]
  },
  {
   "cell_type": "code",
   "execution_count": 2,
   "metadata": {},
   "outputs": [],
   "source": [
    "#collect the census data via api call\n",
    "_1997 = requests.get('https://api.census.gov/data/1997/ewks?get=GEO_TTL,NAICS1997_TTL,EMP,ESTAB,OPTAX&for=place:*&NAICS1997=*')"
   ]
  },
  {
   "cell_type": "code",
   "execution_count": 3,
   "metadata": {},
   "outputs": [],
   "source": [
    "#organize call into data and schema\n",
    "data = _1997.json()[1:]\n",
    "schema = _1997.json()[0]"
   ]
  },
  {
   "cell_type": "code",
   "execution_count": 4,
   "metadata": {},
   "outputs": [],
   "source": [
    "#create a dataframe out of the data\n",
    "df = pd.DataFrame(data)"
   ]
  },
  {
   "cell_type": "code",
   "execution_count": 5,
   "metadata": {},
   "outputs": [],
   "source": [
    "#Set the schema as the columns of the dataframe\n",
    "df.columns = schema"
   ]
  },
  {
   "cell_type": "code",
   "execution_count": 6,
   "metadata": {},
   "outputs": [
    {
     "data": {
      "text/html": [
       "<div>\n",
       "<table border=\"1\" class=\"dataframe\">\n",
       "  <thead>\n",
       "    <tr style=\"text-align: right;\">\n",
       "      <th></th>\n",
       "      <th>GEO_TTL</th>\n",
       "      <th>NAICS1997_TTL</th>\n",
       "      <th>EMP</th>\n",
       "      <th>ESTAB</th>\n",
       "      <th>OPTAX</th>\n",
       "      <th>NAICS1997</th>\n",
       "      <th>state</th>\n",
       "      <th>place</th>\n",
       "    </tr>\n",
       "  </thead>\n",
       "  <tbody>\n",
       "    <tr>\n",
       "      <th>0</th>\n",
       "      <td>Arab, AL</td>\n",
       "      <td>Manufacturing</td>\n",
       "      <td>2661</td>\n",
       "      <td>26</td>\n",
       "      <td>99</td>\n",
       "      <td>31-33</td>\n",
       "      <td>01</td>\n",
       "      <td>02116</td>\n",
       "    </tr>\n",
       "    <tr>\n",
       "      <th>1</th>\n",
       "      <td>Birmingham, AL</td>\n",
       "      <td>Manufacturing</td>\n",
       "      <td>19057</td>\n",
       "      <td>382</td>\n",
       "      <td>99</td>\n",
       "      <td>31-33</td>\n",
       "      <td>01</td>\n",
       "      <td>07000</td>\n",
       "    </tr>\n",
       "    <tr>\n",
       "      <th>2</th>\n",
       "      <td>Boaz, AL</td>\n",
       "      <td>Manufacturing</td>\n",
       "      <td>4488</td>\n",
       "      <td>20</td>\n",
       "      <td>99</td>\n",
       "      <td>31-33</td>\n",
       "      <td>01</td>\n",
       "      <td>07912</td>\n",
       "    </tr>\n",
       "    <tr>\n",
       "      <th>3</th>\n",
       "      <td>Decatur, AL</td>\n",
       "      <td>Manufacturing</td>\n",
       "      <td>8495</td>\n",
       "      <td>124</td>\n",
       "      <td>99</td>\n",
       "      <td>31-33</td>\n",
       "      <td>01</td>\n",
       "      <td>20104</td>\n",
       "    </tr>\n",
       "    <tr>\n",
       "      <th>4</th>\n",
       "      <td>Dothan, AL</td>\n",
       "      <td>Manufacturing</td>\n",
       "      <td>8269</td>\n",
       "      <td>102</td>\n",
       "      <td>99</td>\n",
       "      <td>31-33</td>\n",
       "      <td>01</td>\n",
       "      <td>21184</td>\n",
       "    </tr>\n",
       "  </tbody>\n",
       "</table>\n",
       "</div>"
      ],
      "text/plain": [
       "          GEO_TTL  NAICS1997_TTL    EMP ESTAB OPTAX NAICS1997 state  place\n",
       "0        Arab, AL  Manufacturing   2661    26    99     31-33    01  02116\n",
       "1  Birmingham, AL  Manufacturing  19057   382    99     31-33    01  07000\n",
       "2        Boaz, AL  Manufacturing   4488    20    99     31-33    01  07912\n",
       "3     Decatur, AL  Manufacturing   8495   124    99     31-33    01  20104\n",
       "4      Dothan, AL  Manufacturing   8269   102    99     31-33    01  21184"
      ]
     },
     "execution_count": 6,
     "metadata": {},
     "output_type": "execute_result"
    }
   ],
   "source": [
    "df.head()"
   ]
  },
  {
   "cell_type": "code",
   "execution_count": 33,
   "metadata": {},
   "outputs": [],
   "source": [
    "#Write out as a CSV\n",
    "df.to_csv('1997.csv')"
   ]
  }
 ],
 "metadata": {
  "kernelspec": {
   "display_name": "PUI2016_Python3",
   "language": "python",
   "name": "pui2016_python3"
  },
  "language_info": {
   "codemirror_mode": {
    "name": "ipython",
    "version": 3
   },
   "file_extension": ".py",
   "mimetype": "text/x-python",
   "name": "python",
   "nbconvert_exporter": "python",
   "pygments_lexer": "ipython3",
   "version": "3.5.4"
  }
 },
 "nbformat": 4,
 "nbformat_minor": 2
}
