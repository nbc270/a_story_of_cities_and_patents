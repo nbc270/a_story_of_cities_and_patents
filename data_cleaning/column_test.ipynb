{
 "cells": [
  {
   "cell_type": "code",
   "execution_count": 1,
   "metadata": {},
   "outputs": [],
   "source": [
    "import pandas as pd"
   ]
  },
  {
   "cell_type": "code",
   "execution_count": 2,
   "metadata": {},
   "outputs": [],
   "source": [
    "data = pd.read_csv(\"sbir_creative_ff_cities_2004.csv\")"
   ]
  },
  {
   "cell_type": "code",
   "execution_count": 3,
   "metadata": {},
   "outputs": [
    {
     "data": {
      "text/plain": [
       "Index(['Unnamed: 0', 'Unnamed: 0_x', 'city_state', 'Year', 'Score1', 'Score2',\n",
       "       'Score5', 'Score6', 'Score7', 'City_x', 'State_x', 'year',\n",
       "       'Unnamed: 0_y', 'City_State', 'Award Mean', 'Award Sum',\n",
       "       'Company Count', 'City_y', 'State_y', 'Unnamed: 0_x.1',\n",
       "       'creative_employees', 'regular_employees', 'creative_establishments',\n",
       "       'regular_establishments', 'Unnamed: 0_y.1', 'performance_city_state',\n",
       "       'performance_count', 'performance_amount',\n",
       "       'primary_place_of_performance_city_name',\n",
       "       'primary_place_of_performance_state_code', 'city_state_abrv_x',\n",
       "       'Unnamed: 0.1', 'recipient_city_state', 'recipient_count',\n",
       "       'recipient_amount', 'recipient_city_name', 'recipient_state_code',\n",
       "       'city_state_abrv_y', 'empowerment_zone'],\n",
       "      dtype='object')"
      ]
     },
     "execution_count": 3,
     "metadata": {},
     "output_type": "execute_result"
    }
   ],
   "source": [
    "data.columns"
   ]
  },
  {
   "cell_type": "code",
   "execution_count": null,
   "metadata": {},
   "outputs": [],
   "source": []
  }
 ],
 "metadata": {
  "kernelspec": {
   "display_name": "PUI2016_Python3",
   "language": "python",
   "name": "pui2016_python3"
  },
  "language_info": {
   "codemirror_mode": {
    "name": "ipython",
    "version": 3
   },
   "file_extension": ".py",
   "mimetype": "text/x-python",
   "name": "python",
   "nbconvert_exporter": "python",
   "pygments_lexer": "ipython3",
   "version": "3.5.4"
  }
 },
 "nbformat": 4,
 "nbformat_minor": 2
}
