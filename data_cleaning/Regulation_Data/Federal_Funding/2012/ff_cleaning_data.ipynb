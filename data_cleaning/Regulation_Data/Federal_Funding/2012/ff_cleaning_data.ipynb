{
 "cells": [
  {
   "cell_type": "markdown",
   "metadata": {},
   "source": [
    "## Notebook plan\n",
    "\n",
    "Clean FF data"
   ]
  },
  {
   "cell_type": "code",
   "execution_count": 24,
   "metadata": {},
   "outputs": [],
   "source": [
    "import pandas as pd\n",
    "import numpy as np"
   ]
  },
  {
   "cell_type": "markdown",
   "metadata": {},
   "source": [
    "### Recipient Data"
   ]
  },
  {
   "cell_type": "code",
   "execution_count": 25,
   "metadata": {},
   "outputs": [],
   "source": [
    "recipient_df = pd.read_csv('FF2012_recipient.csv')"
   ]
  },
  {
   "cell_type": "code",
   "execution_count": 26,
   "metadata": {},
   "outputs": [
    {
     "data": {
      "text/html": [
       "<div>\n",
       "<table border=\"1\" class=\"dataframe\">\n",
       "  <thead>\n",
       "    <tr style=\"text-align: right;\">\n",
       "      <th></th>\n",
       "      <th>Unnamed: 0</th>\n",
       "      <th>recipient_city_state</th>\n",
       "      <th>recipient_count</th>\n",
       "      <th>recipient_amount</th>\n",
       "      <th>recipient_city_name</th>\n",
       "      <th>recipient_state_code</th>\n",
       "    </tr>\n",
       "  </thead>\n",
       "  <tbody>\n",
       "    <tr>\n",
       "      <th>0</th>\n",
       "      <td>0</td>\n",
       "      <td>ABBEVILLE, AL</td>\n",
       "      <td>11</td>\n",
       "      <td>5422891.11</td>\n",
       "      <td>ABBEVILLE</td>\n",
       "      <td>AL</td>\n",
       "    </tr>\n",
       "    <tr>\n",
       "      <th>1</th>\n",
       "      <td>1</td>\n",
       "      <td>ABBEVILLE, GA</td>\n",
       "      <td>5</td>\n",
       "      <td>115500.00</td>\n",
       "      <td>ABBEVILLE</td>\n",
       "      <td>GA</td>\n",
       "    </tr>\n",
       "    <tr>\n",
       "      <th>2</th>\n",
       "      <td>2</td>\n",
       "      <td>ABBEVILLE, LA</td>\n",
       "      <td>32</td>\n",
       "      <td>2659588.91</td>\n",
       "      <td>ABBEVILLE</td>\n",
       "      <td>LA</td>\n",
       "    </tr>\n",
       "    <tr>\n",
       "      <th>3</th>\n",
       "      <td>3</td>\n",
       "      <td>ABBEVILLE, SC</td>\n",
       "      <td>7</td>\n",
       "      <td>75745.80</td>\n",
       "      <td>ABBEVILLE</td>\n",
       "      <td>SC</td>\n",
       "    </tr>\n",
       "    <tr>\n",
       "      <th>4</th>\n",
       "      <td>4</td>\n",
       "      <td>ABBOTSFORD, WI</td>\n",
       "      <td>1</td>\n",
       "      <td>5069.28</td>\n",
       "      <td>ABBOTSFORD</td>\n",
       "      <td>WI</td>\n",
       "    </tr>\n",
       "  </tbody>\n",
       "</table>\n",
       "</div>"
      ],
      "text/plain": [
       "   Unnamed: 0 recipient_city_state  recipient_count  recipient_amount  \\\n",
       "0           0        ABBEVILLE, AL               11        5422891.11   \n",
       "1           1        ABBEVILLE, GA                5         115500.00   \n",
       "2           2        ABBEVILLE, LA               32        2659588.91   \n",
       "3           3        ABBEVILLE, SC                7          75745.80   \n",
       "4           4       ABBOTSFORD, WI                1           5069.28   \n",
       "\n",
       "  recipient_city_name recipient_state_code  \n",
       "0           ABBEVILLE                   AL  \n",
       "1           ABBEVILLE                   GA  \n",
       "2           ABBEVILLE                   LA  \n",
       "3           ABBEVILLE                   SC  \n",
       "4          ABBOTSFORD                   WI  "
      ]
     },
     "execution_count": 26,
     "metadata": {},
     "output_type": "execute_result"
    }
   ],
   "source": [
    "recipient_df.head()"
   ]
  },
  {
   "cell_type": "code",
   "execution_count": 27,
   "metadata": {},
   "outputs": [],
   "source": [
    "recipient_df['city'] = recipient_df.recipient_city_name.apply(lambda x: str.lower(x))\n",
    "recipient_df['state'] = recipient_df.recipient_state_code.apply(lambda x: str.lower(x))\n",
    "recipient_df['city_state'] = recipient_df.city + '_' + recipient_df.state"
   ]
  },
  {
   "cell_type": "code",
   "execution_count": 28,
   "metadata": {},
   "outputs": [
    {
     "data": {
      "text/plain": [
       "Index(['Unnamed: 0', 'recipient_city_state', 'recipient_count',\n",
       "       'recipient_amount', 'recipient_city_name', 'recipient_state_code',\n",
       "       'city', 'state', 'city_state'],\n",
       "      dtype='object')"
      ]
     },
     "execution_count": 28,
     "metadata": {},
     "output_type": "execute_result"
    }
   ],
   "source": [
    "recipient_df.columns"
   ]
  },
  {
   "cell_type": "code",
   "execution_count": 29,
   "metadata": {},
   "outputs": [],
   "source": [
    "recipient_df = recipient_df[['city_state', 'recipient_count', 'recipient_amount']]\n",
    "recipient_df['recipient_mean'] = recipient_df['recipient_amount'] / recipient_df['recipient_count']"
   ]
  },
  {
   "cell_type": "code",
   "execution_count": 30,
   "metadata": {},
   "outputs": [],
   "source": [
    "recipient_df.city_state = recipient_df.city_state.apply(lambda x: x.replace(\" \", \"\"))"
   ]
  },
  {
   "cell_type": "code",
   "execution_count": 31,
   "metadata": {},
   "outputs": [
    {
     "data": {
      "text/html": [
       "<div>\n",
       "<table border=\"1\" class=\"dataframe\">\n",
       "  <thead>\n",
       "    <tr style=\"text-align: right;\">\n",
       "      <th></th>\n",
       "      <th>city_state</th>\n",
       "      <th>recipient_count</th>\n",
       "      <th>recipient_amount</th>\n",
       "      <th>recipient_mean</th>\n",
       "    </tr>\n",
       "  </thead>\n",
       "  <tbody>\n",
       "    <tr>\n",
       "      <th>0</th>\n",
       "      <td>abbeville_al</td>\n",
       "      <td>11</td>\n",
       "      <td>5422891.11</td>\n",
       "      <td>492990.100909</td>\n",
       "    </tr>\n",
       "    <tr>\n",
       "      <th>1</th>\n",
       "      <td>abbeville_ga</td>\n",
       "      <td>5</td>\n",
       "      <td>115500.00</td>\n",
       "      <td>23100.000000</td>\n",
       "    </tr>\n",
       "    <tr>\n",
       "      <th>2</th>\n",
       "      <td>abbeville_la</td>\n",
       "      <td>32</td>\n",
       "      <td>2659588.91</td>\n",
       "      <td>83112.153438</td>\n",
       "    </tr>\n",
       "    <tr>\n",
       "      <th>3</th>\n",
       "      <td>abbeville_sc</td>\n",
       "      <td>7</td>\n",
       "      <td>75745.80</td>\n",
       "      <td>10820.828571</td>\n",
       "    </tr>\n",
       "    <tr>\n",
       "      <th>4</th>\n",
       "      <td>abbotsford_wi</td>\n",
       "      <td>1</td>\n",
       "      <td>5069.28</td>\n",
       "      <td>5069.280000</td>\n",
       "    </tr>\n",
       "  </tbody>\n",
       "</table>\n",
       "</div>"
      ],
      "text/plain": [
       "      city_state  recipient_count  recipient_amount  recipient_mean\n",
       "0   abbeville_al               11        5422891.11   492990.100909\n",
       "1   abbeville_ga                5         115500.00    23100.000000\n",
       "2   abbeville_la               32        2659588.91    83112.153438\n",
       "3   abbeville_sc                7          75745.80    10820.828571\n",
       "4  abbotsford_wi                1           5069.28     5069.280000"
      ]
     },
     "execution_count": 31,
     "metadata": {},
     "output_type": "execute_result"
    }
   ],
   "source": [
    "recipient_df.head()"
   ]
  },
  {
   "cell_type": "markdown",
   "metadata": {},
   "source": [
    "### Performance Data"
   ]
  },
  {
   "cell_type": "code",
   "execution_count": 32,
   "metadata": {},
   "outputs": [
    {
     "data": {
      "text/html": [
       "<div>\n",
       "<table border=\"1\" class=\"dataframe\">\n",
       "  <thead>\n",
       "    <tr style=\"text-align: right;\">\n",
       "      <th></th>\n",
       "      <th>Unnamed: 0</th>\n",
       "      <th>performance_city_state</th>\n",
       "      <th>performance_count</th>\n",
       "      <th>performance_amount</th>\n",
       "      <th>primary_place_of_performance_city_name</th>\n",
       "      <th>primary_place_of_performance_state_code</th>\n",
       "    </tr>\n",
       "  </thead>\n",
       "  <tbody>\n",
       "    <tr>\n",
       "      <th>0</th>\n",
       "      <td>0</td>\n",
       "      <td>ABBEVILLE, GA</td>\n",
       "      <td>4</td>\n",
       "      <td>88500.00</td>\n",
       "      <td>ABBEVILLE</td>\n",
       "      <td>GA</td>\n",
       "    </tr>\n",
       "    <tr>\n",
       "      <th>1</th>\n",
       "      <td>1</td>\n",
       "      <td>ABBEVILLE, LA</td>\n",
       "      <td>18</td>\n",
       "      <td>418144.09</td>\n",
       "      <td>ABBEVILLE</td>\n",
       "      <td>LA</td>\n",
       "    </tr>\n",
       "    <tr>\n",
       "      <th>2</th>\n",
       "      <td>2</td>\n",
       "      <td>ABBEVILLE, MS</td>\n",
       "      <td>16</td>\n",
       "      <td>19227.29</td>\n",
       "      <td>ABBEVILLE</td>\n",
       "      <td>MS</td>\n",
       "    </tr>\n",
       "    <tr>\n",
       "      <th>3</th>\n",
       "      <td>3</td>\n",
       "      <td>ABBEVILLE, SC</td>\n",
       "      <td>4</td>\n",
       "      <td>26890.29</td>\n",
       "      <td>ABBEVILLE</td>\n",
       "      <td>SC</td>\n",
       "    </tr>\n",
       "    <tr>\n",
       "      <th>4</th>\n",
       "      <td>4</td>\n",
       "      <td>ABBOTSFORD, WI</td>\n",
       "      <td>1</td>\n",
       "      <td>5069.28</td>\n",
       "      <td>ABBOTSFORD</td>\n",
       "      <td>WI</td>\n",
       "    </tr>\n",
       "  </tbody>\n",
       "</table>\n",
       "</div>"
      ],
      "text/plain": [
       "   Unnamed: 0 performance_city_state  performance_count  performance_amount  \\\n",
       "0           0          ABBEVILLE, GA                  4            88500.00   \n",
       "1           1          ABBEVILLE, LA                 18           418144.09   \n",
       "2           2          ABBEVILLE, MS                 16            19227.29   \n",
       "3           3          ABBEVILLE, SC                  4            26890.29   \n",
       "4           4         ABBOTSFORD, WI                  1             5069.28   \n",
       "\n",
       "  primary_place_of_performance_city_name  \\\n",
       "0                              ABBEVILLE   \n",
       "1                              ABBEVILLE   \n",
       "2                              ABBEVILLE   \n",
       "3                              ABBEVILLE   \n",
       "4                             ABBOTSFORD   \n",
       "\n",
       "  primary_place_of_performance_state_code  \n",
       "0                                      GA  \n",
       "1                                      LA  \n",
       "2                                      MS  \n",
       "3                                      SC  \n",
       "4                                      WI  "
      ]
     },
     "execution_count": 32,
     "metadata": {},
     "output_type": "execute_result"
    }
   ],
   "source": [
    "performance_df = pd.read_csv('FF2012_performance.csv')\n",
    "performance_df.head()"
   ]
  },
  {
   "cell_type": "code",
   "execution_count": 33,
   "metadata": {},
   "outputs": [
    {
     "data": {
      "text/html": [
       "<div>\n",
       "<table border=\"1\" class=\"dataframe\">\n",
       "  <thead>\n",
       "    <tr style=\"text-align: right;\">\n",
       "      <th></th>\n",
       "      <th>Unnamed: 0</th>\n",
       "      <th>performance_city_state</th>\n",
       "      <th>performance_count</th>\n",
       "      <th>performance_amount</th>\n",
       "      <th>primary_place_of_performance_city_name</th>\n",
       "      <th>primary_place_of_performance_state_code</th>\n",
       "    </tr>\n",
       "  </thead>\n",
       "  <tbody>\n",
       "    <tr>\n",
       "      <th>10947</th>\n",
       "      <td>10947</td>\n",
       "      <td>SAN DIEGO, CA</td>\n",
       "      <td>29205</td>\n",
       "      <td>7.210459e+09</td>\n",
       "      <td>SAN DIEGO</td>\n",
       "      <td>CA</td>\n",
       "    </tr>\n",
       "    <tr>\n",
       "      <th>10948</th>\n",
       "      <td>10948</td>\n",
       "      <td>SAN DIEGO, TX</td>\n",
       "      <td>5</td>\n",
       "      <td>4.018786e+05</td>\n",
       "      <td>SAN DIEGO</td>\n",
       "      <td>TX</td>\n",
       "    </tr>\n",
       "  </tbody>\n",
       "</table>\n",
       "</div>"
      ],
      "text/plain": [
       "       Unnamed: 0 performance_city_state  performance_count  \\\n",
       "10947       10947          SAN DIEGO, CA              29205   \n",
       "10948       10948          SAN DIEGO, TX                  5   \n",
       "\n",
       "       performance_amount primary_place_of_performance_city_name  \\\n",
       "10947        7.210459e+09                              SAN DIEGO   \n",
       "10948        4.018786e+05                              SAN DIEGO   \n",
       "\n",
       "      primary_place_of_performance_state_code  \n",
       "10947                                      CA  \n",
       "10948                                      TX  "
      ]
     },
     "execution_count": 33,
     "metadata": {},
     "output_type": "execute_result"
    }
   ],
   "source": [
    "performance_df.loc[performance_df.primary_place_of_performance_city_name == 'SAN DIEGO']"
   ]
  },
  {
   "cell_type": "code",
   "execution_count": 34,
   "metadata": {},
   "outputs": [],
   "source": [
    "performance_df['city'] = performance_df.primary_place_of_performance_city_name.apply(lambda x: str.lower(x))\n",
    "performance_df['state'] = performance_df.primary_place_of_performance_state_code.apply(lambda x: str.lower(x))\n",
    "performance_df['city_state'] = performance_df.city + '_' + performance_df.state"
   ]
  },
  {
   "cell_type": "code",
   "execution_count": 35,
   "metadata": {},
   "outputs": [],
   "source": [
    "performance_df = performance_df[['city_state', 'performance_count', 'performance_amount']]\n",
    "performance_df['performance_mean'] = performance_df['performance_amount'] / performance_df['performance_count']"
   ]
  },
  {
   "cell_type": "code",
   "execution_count": 36,
   "metadata": {},
   "outputs": [],
   "source": [
    "performance_df.city_state = performance_df.city_state.apply(lambda x: x.replace(\" \", \"\"))"
   ]
  },
  {
   "cell_type": "code",
   "execution_count": 37,
   "metadata": {},
   "outputs": [
    {
     "data": {
      "text/html": [
       "<div>\n",
       "<table border=\"1\" class=\"dataframe\">\n",
       "  <thead>\n",
       "    <tr style=\"text-align: right;\">\n",
       "      <th></th>\n",
       "      <th>city_state</th>\n",
       "      <th>performance_count</th>\n",
       "      <th>performance_amount</th>\n",
       "      <th>performance_mean</th>\n",
       "    </tr>\n",
       "  </thead>\n",
       "  <tbody>\n",
       "    <tr>\n",
       "      <th>0</th>\n",
       "      <td>abbeville_ga</td>\n",
       "      <td>4</td>\n",
       "      <td>88500.00</td>\n",
       "      <td>22125.000000</td>\n",
       "    </tr>\n",
       "    <tr>\n",
       "      <th>1</th>\n",
       "      <td>abbeville_la</td>\n",
       "      <td>18</td>\n",
       "      <td>418144.09</td>\n",
       "      <td>23230.227222</td>\n",
       "    </tr>\n",
       "    <tr>\n",
       "      <th>2</th>\n",
       "      <td>abbeville_ms</td>\n",
       "      <td>16</td>\n",
       "      <td>19227.29</td>\n",
       "      <td>1201.705625</td>\n",
       "    </tr>\n",
       "    <tr>\n",
       "      <th>3</th>\n",
       "      <td>abbeville_sc</td>\n",
       "      <td>4</td>\n",
       "      <td>26890.29</td>\n",
       "      <td>6722.572500</td>\n",
       "    </tr>\n",
       "    <tr>\n",
       "      <th>4</th>\n",
       "      <td>abbotsford_wi</td>\n",
       "      <td>1</td>\n",
       "      <td>5069.28</td>\n",
       "      <td>5069.280000</td>\n",
       "    </tr>\n",
       "  </tbody>\n",
       "</table>\n",
       "</div>"
      ],
      "text/plain": [
       "      city_state  performance_count  performance_amount  performance_mean\n",
       "0   abbeville_ga                  4            88500.00      22125.000000\n",
       "1   abbeville_la                 18           418144.09      23230.227222\n",
       "2   abbeville_ms                 16            19227.29       1201.705625\n",
       "3   abbeville_sc                  4            26890.29       6722.572500\n",
       "4  abbotsford_wi                  1             5069.28       5069.280000"
      ]
     },
     "execution_count": 37,
     "metadata": {},
     "output_type": "execute_result"
    }
   ],
   "source": [
    "performance_df.head()"
   ]
  },
  {
   "cell_type": "code",
   "execution_count": 38,
   "metadata": {},
   "outputs": [],
   "source": [
    "ff_merged = recipient_df.merge(performance_df, how = 'outer')"
   ]
  },
  {
   "cell_type": "code",
   "execution_count": 39,
   "metadata": {},
   "outputs": [],
   "source": [
    "ff_merged = ff_merged.fillna(0)"
   ]
  },
  {
   "cell_type": "code",
   "execution_count": 41,
   "metadata": {},
   "outputs": [],
   "source": [
    "ff_merged.to_csv('ff_data_cleaned.csv')"
   ]
  },
  {
   "cell_type": "code",
   "execution_count": null,
   "metadata": {},
   "outputs": [],
   "source": []
  },
  {
   "cell_type": "code",
   "execution_count": null,
   "metadata": {},
   "outputs": [],
   "source": []
  },
  {
   "cell_type": "code",
   "execution_count": null,
   "metadata": {},
   "outputs": [],
   "source": []
  }
 ],
 "metadata": {
  "kernelspec": {
   "display_name": "PUI2016_Python3",
   "language": "python",
   "name": "pui2016_python3"
  },
  "language_info": {
   "codemirror_mode": {
    "name": "ipython",
    "version": 3
   },
   "file_extension": ".py",
   "mimetype": "text/x-python",
   "name": "python",
   "nbconvert_exporter": "python",
   "pygments_lexer": "ipython3",
   "version": "3.5.4"
  }
 },
 "nbformat": 4,
 "nbformat_minor": 2
}
