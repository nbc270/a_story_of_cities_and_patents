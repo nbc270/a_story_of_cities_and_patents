{
 "cells": [
  {
   "cell_type": "code",
   "execution_count": 2,
   "metadata": {},
   "outputs": [],
   "source": [
    "import pandas as pd\n",
    "import os"
   ]
  },
  {
   "cell_type": "code",
   "execution_count": 3,
   "metadata": {},
   "outputs": [],
   "source": [
    "#change this variable from 2001 to 2012 one at a time\n",
    "year = 2001"
   ]
  },
  {
   "cell_type": "code",
   "execution_count": 52,
   "metadata": {},
   "outputs": [
    {
     "name": "stderr",
     "output_type": "stream",
     "text": [
      "/Users/Christine/anaconda3/envs/py2/lib/python2.7/site-packages/IPython/core/interactiveshell.py:2714: DtypeWarning: Columns (3,37,47,49,50,57,66,75,76,89,109,138) have mixed types. Specify dtype option on import or set low_memory=False.\n",
      "  interactivity=interactivity, compiler=compiler, result=result)\n",
      "/Users/Christine/anaconda3/envs/py2/lib/python2.7/site-packages/IPython/core/interactiveshell.py:2714: DtypeWarning: Columns (37,39,47,49,50,57,66,75,76) have mixed types. Specify dtype option on import or set low_memory=False.\n",
      "  interactivity=interactivity, compiler=compiler, result=result)\n",
      "/Users/Christine/anaconda3/envs/py2/lib/python2.7/site-packages/IPython/core/interactiveshell.py:2714: DtypeWarning: Columns (3,37,39,43,47,49,50,57,66,75,76,89,109,138) have mixed types. Specify dtype option on import or set low_memory=False.\n",
      "  interactivity=interactivity, compiler=compiler, result=result)\n"
     ]
    }
   ],
   "source": [
    "dirs = os.listdir('{}'.format(year))\n",
    "d = dict()\n",
    "for i,files in zip(map(str, range(1, len(dirs)+1)), dirs):\n",
    "    if files.startswith('all_contracts'):\n",
    "        d['df_'+i] = pd.read_csv(\"{}/\".format(year) + files)\n",
    "df = pd.concat([d[i] for i in d.keys()], ignore_index=True).reset_index()"
   ]
  },
  {
   "cell_type": "code",
   "execution_count": 54,
   "metadata": {},
   "outputs": [],
   "source": [
    "df['recipient_city_state'] = df['recipient_city_name'] + ', ' + df['recipient_state_code']\n",
    "df['performance_city_state'] = df['primary_place_of_performance_city_name'] + ', '  \\\n",
    "                               + df['primary_place_of_performance_state_code']\n",
    "df_city = df[['awarding_agency_name', 'federal_action_obligation', 'recipient_city_name', \n",
    "              'recipient_state_code', 'recipient_city_state', 'primary_place_of_performance_city_name', \n",
    "              'primary_place_of_performance_state_code', 'performance_city_state']]"
   ]
  },
  {
   "cell_type": "code",
   "execution_count": 55,
   "metadata": {},
   "outputs": [],
   "source": [
    "df_recipient = df_city.groupby('recipient_city_state') \\\n",
    ".agg({'federal_action_obligation':'sum', 'awarding_agency_name':'count'}) \\\n",
    ".rename(columns={'awarding_agency_name':'recipient_count', 'federal_action_obligation':'recipient_amount'}) \\\n",
    ".reset_index()\n",
    "\n",
    "df_performance = df_city.groupby('performance_city_state') \\\n",
    ".agg({'federal_action_obligation':'sum', 'awarding_agency_name':'count'}) \\\n",
    ".rename(columns={'awarding_agency_name':'performance_count', 'federal_action_obligation':'performance_amount'}) \\\n",
    ".reset_index()\n",
    "\n",
    "df_recipient = df_recipient.merge(df_city[['recipient_city_name','recipient_state_code',\n",
    "                                           'recipient_city_state']],\n",
    "                                  on='recipient_city_state').drop_duplicates().reset_index(drop=True)\n",
    "\n",
    "df_performance = df_performance.merge(df_city[['performance_city_state', \n",
    "                                               'primary_place_of_performance_city_name', \n",
    "                                               'primary_place_of_performance_state_code']],\n",
    "                                      on='performance_city_state').drop_duplicates().reset_index(drop=True)"
   ]
  },
  {
   "cell_type": "code",
   "execution_count": 60,
   "metadata": {
    "scrolled": true
   },
   "outputs": [],
   "source": [
    "df_performance.to_csv('FF{}_performance.csv'.format(year))\n",
    "df_recipient.to_csv('FF{}_recipient.csv'.format(year))"
   ]
  },
  {
   "cell_type": "code",
   "execution_count": null,
   "metadata": {},
   "outputs": [],
   "source": []
  }
 ],
 "metadata": {
  "kernelspec": {
   "display_name": "PUI2016_Python2",
   "language": "python",
   "name": "pui2016_python2"
  },
  "language_info": {
   "codemirror_mode": {
    "name": "ipython",
    "version": 2
   },
   "file_extension": ".py",
   "mimetype": "text/x-python",
   "name": "python",
   "nbconvert_exporter": "python",
   "pygments_lexer": "ipython2",
   "version": "2.7.12"
  }
 },
 "nbformat": 4,
 "nbformat_minor": 2
}
