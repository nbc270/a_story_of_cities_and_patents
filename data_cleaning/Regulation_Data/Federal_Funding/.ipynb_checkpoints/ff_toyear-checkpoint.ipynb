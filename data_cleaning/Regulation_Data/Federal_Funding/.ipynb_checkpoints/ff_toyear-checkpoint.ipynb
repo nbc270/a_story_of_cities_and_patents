{
 "cells": [
  {
   "cell_type": "code",
   "execution_count": 2,
   "metadata": {},
   "outputs": [],
   "source": [
    "import pandas as pd\n",
    "import os"
   ]
  },
  {
   "cell_type": "code",
   "execution_count": 10,
   "metadata": {},
   "outputs": [
    {
     "name": "stdout",
     "output_type": "stream",
     "text": [
      "total 11352848\r\n",
      "-rw-r--r--@ 1 Christine  staff   571920592 Jun 18  2019 all_assistance_prime_transactions_1.csv\r\n",
      "-rw-r--r--@ 1 Christine  staff   539177067 Jun 18  2019 all_assistance_prime_transactions_2.csv\r\n",
      "-rw-r--r--@ 1 Christine  staff   126709796 Jun 18  2019 all_assistance_prime_transactions_3.csv\r\n",
      "-rw-r--r--@ 1 Christine  staff  1586725464 Jun 18  2019 all_contracts_prime_transactions_1.csv\r\n",
      "-rw-r--r--@ 1 Christine  staff  1594421633 Jun 18  2019 all_contracts_prime_transactions_2.csv\r\n",
      "-rw-r--r--@ 1 Christine  staff  1390093893 Jun 18  2019 all_contracts_prime_transactions_3.csv\r\n"
     ]
    }
   ],
   "source": [
    "!ls -l ../Downloads/2012"
   ]
  },
  {
   "cell_type": "code",
   "execution_count": 51,
   "metadata": {},
   "outputs": [],
   "source": [
    "year=2011"
   ]
  },
  {
   "cell_type": "code",
   "execution_count": 52,
   "metadata": {},
   "outputs": [
    {
     "name": "stderr",
     "output_type": "stream",
     "text": [
      "/Users/Christine/anaconda3/envs/py2/lib/python2.7/site-packages/IPython/core/interactiveshell.py:2714: DtypeWarning: Columns (3,37,47,49,50,57,66,75,76,89,109,138) have mixed types. Specify dtype option on import or set low_memory=False.\n",
      "  interactivity=interactivity, compiler=compiler, result=result)\n",
      "/Users/Christine/anaconda3/envs/py2/lib/python2.7/site-packages/IPython/core/interactiveshell.py:2714: DtypeWarning: Columns (37,39,47,49,50,57,66,75,76) have mixed types. Specify dtype option on import or set low_memory=False.\n",
      "  interactivity=interactivity, compiler=compiler, result=result)\n",
      "/Users/Christine/anaconda3/envs/py2/lib/python2.7/site-packages/IPython/core/interactiveshell.py:2714: DtypeWarning: Columns (3,37,39,43,47,49,50,57,66,75,76,89,109,138) have mixed types. Specify dtype option on import or set low_memory=False.\n",
      "  interactivity=interactivity, compiler=compiler, result=result)\n"
     ]
    }
   ],
   "source": [
    "dirs = os.listdir('../Downloads/{}'.format(year))\n",
    "d = dict()\n",
    "for i,files in zip(map(str, range(1, len(dirs)+1)), dirs):\n",
    "    if files.startswith('all_contracts'):\n",
    "        d['df_'+i] = pd.read_csv(\"../Downloads/{}/\".format(year) + files)\n",
    "df = pd.concat([d[i] for i in d.keys()], ignore_index=True).reset_index()"
   ]
  },
  {
   "cell_type": "code",
   "execution_count": 53,
   "metadata": {},
   "outputs": [
    {
     "data": {
      "text/plain": [
       "(3218111, 262)"
      ]
     },
     "execution_count": 53,
     "metadata": {},
     "output_type": "execute_result"
    }
   ],
   "source": [
    "df.shape"
   ]
  },
  {
   "cell_type": "code",
   "execution_count": 54,
   "metadata": {},
   "outputs": [],
   "source": [
    "df['recipient_city_state'] = df['recipient_city_name'] + ', ' + df['recipient_state_code']\n",
    "df['performance_city_state'] = df['primary_place_of_performance_city_name'] + ', '  \\\n",
    "                               + df['primary_place_of_performance_state_code']\n",
    "df_city = df[['awarding_agency_name', 'federal_action_obligation', 'recipient_city_name', \n",
    "              'recipient_state_code', 'recipient_city_state', 'primary_place_of_performance_city_name', \n",
    "              'primary_place_of_performance_state_code', 'performance_city_state']]"
   ]
  },
  {
   "cell_type": "code",
   "execution_count": 55,
   "metadata": {},
   "outputs": [],
   "source": [
    "df_recipient = df_city.groupby('recipient_city_state') \\\n",
    ".agg({'federal_action_obligation':'sum', 'awarding_agency_name':'count'}) \\\n",
    ".rename(columns={'awarding_agency_name':'recipient_count', 'federal_action_obligation':'recipient_amount'}) \\\n",
    ".reset_index()\n",
    "\n",
    "df_performance = df_city.groupby('performance_city_state') \\\n",
    ".agg({'federal_action_obligation':'sum', 'awarding_agency_name':'count'}) \\\n",
    ".rename(columns={'awarding_agency_name':'performance_count', 'federal_action_obligation':'performance_amount'}) \\\n",
    ".reset_index()\n",
    "\n",
    "df_recipient = df_recipient.merge(df_city[['recipient_city_name','recipient_state_code',\n",
    "                                           'recipient_city_state']],\n",
    "                                  on='recipient_city_state').drop_duplicates().reset_index(drop=True)\n",
    "\n",
    "df_performance = df_performance.merge(df_city[['performance_city_state', \n",
    "                                               'primary_place_of_performance_city_name', \n",
    "                                               'primary_place_of_performance_state_code']],\n",
    "                                      on='performance_city_state').drop_duplicates().reset_index(drop=True)"
   ]
  },
  {
   "cell_type": "code",
   "execution_count": 56,
   "metadata": {},
   "outputs": [
    {
     "data": {
      "text/html": [
       "<div>\n",
       "<style scoped>\n",
       "    .dataframe tbody tr th:only-of-type {\n",
       "        vertical-align: middle;\n",
       "    }\n",
       "\n",
       "    .dataframe tbody tr th {\n",
       "        vertical-align: top;\n",
       "    }\n",
       "\n",
       "    .dataframe thead th {\n",
       "        text-align: right;\n",
       "    }\n",
       "</style>\n",
       "<table border=\"1\" class=\"dataframe\">\n",
       "  <thead>\n",
       "    <tr style=\"text-align: right;\">\n",
       "      <th></th>\n",
       "      <th>performance_city_state</th>\n",
       "      <th>performance_count</th>\n",
       "      <th>performance_amount</th>\n",
       "      <th>primary_place_of_performance_city_name</th>\n",
       "      <th>primary_place_of_performance_state_code</th>\n",
       "    </tr>\n",
       "  </thead>\n",
       "  <tbody>\n",
       "    <tr>\n",
       "      <th>0</th>\n",
       "      <td>AARONSBURG, PA</td>\n",
       "      <td>1</td>\n",
       "      <td>-77.14</td>\n",
       "      <td>AARONSBURG</td>\n",
       "      <td>PA</td>\n",
       "    </tr>\n",
       "    <tr>\n",
       "      <th>1</th>\n",
       "      <td>ABBEVILLE, GA</td>\n",
       "      <td>3</td>\n",
       "      <td>133500.00</td>\n",
       "      <td>ABBEVILLE</td>\n",
       "      <td>GA</td>\n",
       "    </tr>\n",
       "    <tr>\n",
       "      <th>2</th>\n",
       "      <td>ABBEVILLE, LA</td>\n",
       "      <td>34</td>\n",
       "      <td>49072.10</td>\n",
       "      <td>ABBEVILLE</td>\n",
       "      <td>LA</td>\n",
       "    </tr>\n",
       "    <tr>\n",
       "      <th>3</th>\n",
       "      <td>ABBEVILLE, MS</td>\n",
       "      <td>34</td>\n",
       "      <td>1417914.40</td>\n",
       "      <td>ABBEVILLE</td>\n",
       "      <td>MS</td>\n",
       "    </tr>\n",
       "    <tr>\n",
       "      <th>4</th>\n",
       "      <td>ABBEVILLE, SC</td>\n",
       "      <td>1</td>\n",
       "      <td>202914.00</td>\n",
       "      <td>ABBEVILLE</td>\n",
       "      <td>SC</td>\n",
       "    </tr>\n",
       "  </tbody>\n",
       "</table>\n",
       "</div>"
      ],
      "text/plain": [
       "  performance_city_state  performance_count  performance_amount  \\\n",
       "0         AARONSBURG, PA                  1              -77.14   \n",
       "1          ABBEVILLE, GA                  3           133500.00   \n",
       "2          ABBEVILLE, LA                 34            49072.10   \n",
       "3          ABBEVILLE, MS                 34          1417914.40   \n",
       "4          ABBEVILLE, SC                  1           202914.00   \n",
       "\n",
       "  primary_place_of_performance_city_name  \\\n",
       "0                             AARONSBURG   \n",
       "1                              ABBEVILLE   \n",
       "2                              ABBEVILLE   \n",
       "3                              ABBEVILLE   \n",
       "4                              ABBEVILLE   \n",
       "\n",
       "  primary_place_of_performance_state_code  \n",
       "0                                      PA  \n",
       "1                                      GA  \n",
       "2                                      LA  \n",
       "3                                      MS  \n",
       "4                                      SC  "
      ]
     },
     "execution_count": 56,
     "metadata": {},
     "output_type": "execute_result"
    }
   ],
   "source": [
    "df_performance.head()"
   ]
  },
  {
   "cell_type": "code",
   "execution_count": 57,
   "metadata": {},
   "outputs": [
    {
     "data": {
      "text/plain": [
       "(14179, 5)"
      ]
     },
     "execution_count": 57,
     "metadata": {},
     "output_type": "execute_result"
    }
   ],
   "source": [
    "df_performance.shape"
   ]
  },
  {
   "cell_type": "code",
   "execution_count": 58,
   "metadata": {},
   "outputs": [
    {
     "data": {
      "text/html": [
       "<div>\n",
       "<style scoped>\n",
       "    .dataframe tbody tr th:only-of-type {\n",
       "        vertical-align: middle;\n",
       "    }\n",
       "\n",
       "    .dataframe tbody tr th {\n",
       "        vertical-align: top;\n",
       "    }\n",
       "\n",
       "    .dataframe thead th {\n",
       "        text-align: right;\n",
       "    }\n",
       "</style>\n",
       "<table border=\"1\" class=\"dataframe\">\n",
       "  <thead>\n",
       "    <tr style=\"text-align: right;\">\n",
       "      <th></th>\n",
       "      <th>recipient_city_state</th>\n",
       "      <th>recipient_count</th>\n",
       "      <th>recipient_amount</th>\n",
       "      <th>recipient_city_name</th>\n",
       "      <th>recipient_state_code</th>\n",
       "    </tr>\n",
       "  </thead>\n",
       "  <tbody>\n",
       "    <tr>\n",
       "      <th>0</th>\n",
       "      <td>ABBEVILLE, AL</td>\n",
       "      <td>21</td>\n",
       "      <td>4771049.03</td>\n",
       "      <td>ABBEVILLE</td>\n",
       "      <td>AL</td>\n",
       "    </tr>\n",
       "    <tr>\n",
       "      <th>1</th>\n",
       "      <td>ABBEVILLE, GA</td>\n",
       "      <td>5</td>\n",
       "      <td>133500.00</td>\n",
       "      <td>ABBEVILLE</td>\n",
       "      <td>GA</td>\n",
       "    </tr>\n",
       "    <tr>\n",
       "      <th>2</th>\n",
       "      <td>ABBEVILLE, LA</td>\n",
       "      <td>29</td>\n",
       "      <td>2426886.57</td>\n",
       "      <td>ABBEVILLE</td>\n",
       "      <td>LA</td>\n",
       "    </tr>\n",
       "    <tr>\n",
       "      <th>3</th>\n",
       "      <td>ABBEVILLE, MS</td>\n",
       "      <td>1</td>\n",
       "      <td>19800.00</td>\n",
       "      <td>ABBEVILLE</td>\n",
       "      <td>MS</td>\n",
       "    </tr>\n",
       "    <tr>\n",
       "      <th>4</th>\n",
       "      <td>ABBEVILLE, SC</td>\n",
       "      <td>5</td>\n",
       "      <td>29827.00</td>\n",
       "      <td>ABBEVILLE</td>\n",
       "      <td>SC</td>\n",
       "    </tr>\n",
       "  </tbody>\n",
       "</table>\n",
       "</div>"
      ],
      "text/plain": [
       "  recipient_city_state  recipient_count  recipient_amount recipient_city_name  \\\n",
       "0        ABBEVILLE, AL               21        4771049.03           ABBEVILLE   \n",
       "1        ABBEVILLE, GA                5         133500.00           ABBEVILLE   \n",
       "2        ABBEVILLE, LA               29        2426886.57           ABBEVILLE   \n",
       "3        ABBEVILLE, MS                1          19800.00           ABBEVILLE   \n",
       "4        ABBEVILLE, SC                5          29827.00           ABBEVILLE   \n",
       "\n",
       "  recipient_state_code  \n",
       "0                   AL  \n",
       "1                   GA  \n",
       "2                   LA  \n",
       "3                   MS  \n",
       "4                   SC  "
      ]
     },
     "execution_count": 58,
     "metadata": {},
     "output_type": "execute_result"
    }
   ],
   "source": [
    "df_recipient.head()"
   ]
  },
  {
   "cell_type": "code",
   "execution_count": 59,
   "metadata": {},
   "outputs": [
    {
     "data": {
      "text/plain": [
       "(14931, 5)"
      ]
     },
     "execution_count": 59,
     "metadata": {},
     "output_type": "execute_result"
    }
   ],
   "source": [
    "df_recipient.shape"
   ]
  },
  {
   "cell_type": "code",
   "execution_count": 60,
   "metadata": {
    "scrolled": true
   },
   "outputs": [],
   "source": [
    "df_performance.to_csv('Data/FF/FF{}_performance.csv'.format(year))\n",
    "df_recipient.to_csv('Data/FF/FF{}_recipient.csv'.format(year))"
   ]
  },
  {
   "cell_type": "code",
   "execution_count": null,
   "metadata": {},
   "outputs": [],
   "source": []
  }
 ],
 "metadata": {
  "kernelspec": {
   "display_name": "Python 2",
   "language": "python",
   "name": "python2"
  },
  "language_info": {
   "codemirror_mode": {
    "name": "ipython",
    "version": 2
   },
   "file_extension": ".py",
   "mimetype": "text/x-python",
   "name": "python",
   "nbconvert_exporter": "python",
   "pygments_lexer": "ipython2",
   "version": "2.7.15"
  }
 },
 "nbformat": 4,
 "nbformat_minor": 2
}
