{
 "cells": [
  {
   "cell_type": "code",
   "execution_count": 1,
   "metadata": {},
   "outputs": [],
   "source": [
    "#1970, 1980, 1990 - with limited demographics"
   ]
  },
  {
   "cell_type": "markdown",
   "metadata": {},
   "source": [
    "## SBIR data cleaning\n",
    "\n",
    "Drop all mispellings from each year we have. Make sure it is mergeable with sbir_creative_cities"
   ]
  },
  {
   "cell_type": "code",
   "execution_count": 78,
   "metadata": {},
   "outputs": [],
   "source": [
    "import pandas as pd\n",
    "import numpy as np"
   ]
  },
  {
   "cell_type": "code",
   "execution_count": 81,
   "metadata": {},
   "outputs": [
    {
     "name": "stdout",
     "output_type": "stream",
     "text": [
      "1992\n",
      "Shape: (850, 6)\n",
      "New Shape: (428, 7)\n",
      "1993\n",
      "Shape: (917, 6)\n",
      "New Shape: (457, 7)\n",
      "1994\n",
      "Shape: (935, 6)\n",
      "New Shape: (460, 7)\n",
      "1995\n",
      "Shape: (971, 6)\n",
      "New Shape: (479, 7)\n",
      "1996\n",
      "Shape: (963, 6)\n",
      "New Shape: (486, 7)\n",
      "1997\n",
      "Shape: (1036, 6)\n",
      "New Shape: (514, 7)\n",
      "1998\n",
      "Shape: (1024, 6)\n",
      "New Shape: (494, 7)\n",
      "1999\n",
      "Shape: (1088, 6)\n",
      "New Shape: (527, 7)\n",
      "2000\n",
      "Shape: (1027, 6)\n",
      "New Shape: (518, 7)\n",
      "2001\n",
      "Shape: (1042, 6)\n",
      "New Shape: (522, 7)\n",
      "2002\n",
      "Shape: (1154, 6)\n",
      "New Shape: (579, 7)\n",
      "2003\n",
      "Shape: (1195, 6)\n",
      "New Shape: (591, 7)\n",
      "2004\n",
      "Shape: (1253, 6)\n",
      "New Shape: (601, 7)\n",
      "2005\n",
      "Shape: (1287, 6)\n",
      "New Shape: (624, 7)\n",
      "2006\n",
      "Shape: (1187, 6)\n",
      "New Shape: (573, 7)\n",
      "2007\n",
      "Shape: (1159, 6)\n",
      "New Shape: (575, 7)\n",
      "2008\n",
      "Shape: (1172, 6)\n",
      "New Shape: (582, 7)\n",
      "2009\n",
      "Shape: (1196, 6)\n",
      "New Shape: (591, 7)\n",
      "2010\n",
      "Shape: (1278, 6)\n",
      "New Shape: (621, 7)\n",
      "2011\n",
      "Shape: (1139, 6)\n",
      "New Shape: (566, 7)\n",
      "2012\n",
      "Shape: (1115, 7)\n",
      "New Shape: (541, 8)\n",
      "2013\n",
      "Shape: (1014, 6)\n",
      "New Shape: (531, 7)\n",
      "2014\n",
      "Shape: (1037, 6)\n",
      "New Shape: (533, 7)\n"
     ]
    }
   ],
   "source": [
    "cities = pd.read_csv('../../Patents_Data/cities_with_scores.csv')\n",
    "cities = pd.DataFrame(cities['city_state'])\n",
    "\n",
    "\n",
    "for year in range(1992, 2015):\n",
    "    print(year)\n",
    "    file_path = 'sbir_city_' + str(year) + '.csv'\n",
    "    sbir = pd.read_csv(file_path)\n",
    "    \n",
    "    print(\"Shape: \" + str(sbir.shape))\n",
    "    \n",
    "    sbir['City_State'] = sbir['City'] + '_' + sbir['State']\n",
    "    \n",
    "    to_write = sbir.merge(cities, left_on = 'City_State', right_on = 'city_state', how = 'inner')\n",
    "    to_write.drop_duplicates(inplace = True)\n",
    "    print(\"New Shape: \" + str(to_write.shape))\n",
    "    \n",
    "    to_write.drop(['city_state'], axis = 1, inplace = True)\n",
    "    \n",
    "    new_filepath = 'clean_SBIR/clean_sbir_' + str(year) + '.csv'\n",
    "    to_write.to_csv(new_filepath)"
   ]
  },
  {
   "cell_type": "code",
   "execution_count": null,
   "metadata": {},
   "outputs": [],
   "source": []
  }
 ],
 "metadata": {
  "kernelspec": {
   "display_name": "PUI2016_Python3",
   "language": "python",
   "name": "pui2016_python3"
  },
  "language_info": {
   "codemirror_mode": {
    "name": "ipython",
    "version": 3
   },
   "file_extension": ".py",
   "mimetype": "text/x-python",
   "name": "python",
   "nbconvert_exporter": "python",
   "pygments_lexer": "ipython3",
   "version": "3.5.4"
  }
 },
 "nbformat": 4,
 "nbformat_minor": 2
}
