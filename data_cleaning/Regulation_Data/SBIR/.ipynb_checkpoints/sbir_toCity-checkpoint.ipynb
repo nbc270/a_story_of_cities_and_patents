{
 "cells": [
  {
   "cell_type": "code",
   "execution_count": 2,
   "metadata": {},
   "outputs": [],
   "source": [
    "import pandas as pd\n",
    "import numpy as np"
   ]
  },
  {
   "cell_type": "markdown",
   "metadata": {},
   "source": [
    "### Combine each year's data into one csv"
   ]
  },
  {
   "cell_type": "code",
   "execution_count": 89,
   "metadata": {},
   "outputs": [],
   "source": [
    "for year in np.arange(2001, 2015):\n",
    "    dirs = os.listdir('{}'.format(year))\n",
    "    d = dict()\n",
    "    for i,files in zip(map(str, range(1, len(dirs)+1)), dirs):\n",
    "        d['df_'+i] = pd.read_excel(\"{}/\".format(year) + files)\n",
    "    pd.concat([d[i] for i in d.keys()], ignore_index=True).reset_index() \\\n",
    "    .to_csv('byYear/sbir_{}.csv'.format(year), encoding = 'utf-8')"
   ]
  },
  {
   "cell_type": "markdown",
   "metadata": {},
   "source": [
    "### Group each year's data by City, State"
   ]
  },
  {
   "cell_type": "code",
   "execution_count": 188,
   "metadata": {},
   "outputs": [
    {
     "name": "stdout",
     "output_type": "stream",
     "text": [
      "sbir_1999.csv Finished\n",
      "sbir_1998.csv Finished\n",
      "sbir_2010.csv Finished\n",
      "sbir_2004.csv Finished\n",
      "sbir_2005.csv Finished\n",
      "sbir_2011.csv Finished\n",
      "sbir_2007.csv Finished\n",
      "sbir_2013.csv Finished\n",
      "sbir_2012.csv Finished\n",
      "sbir_2006.csv Finished\n",
      "sbir_2002.csv Finished\n",
      "sbir_2016.csv Finished\n",
      "sbir_2017.csv Finished\n",
      "sbir_2003.csv Finished\n",
      "sbir_2015.csv Finished\n",
      "sbir_2001.csv Finished\n",
      "sbir_2000.csv Finished\n",
      "sbir_2014.csv Finished\n",
      "sbir_2018.csv Finished\n",
      "sbir_2008.csv Finished\n",
      "sbir_2009.csv Finished\n",
      "sbir_1995.csv Finished\n",
      "sbir_1994.csv Finished\n",
      "sbir_1996.csv Finished\n",
      "sbir_1997.csv Finished\n",
      "sbir_1993.csv Finished\n",
      "sbir_1992.csv Finished\n"
     ]
    }
   ],
   "source": [
    "for files in os.listdir('byYear'):\n",
    "    df = pd.read_csv('byYear/'+files)\n",
    "    df['City'] = df['City'].apply(lambda x: str(x).capitalize())\n",
    "    df['City_State'] = df['City'] + ', ' + df['State']\n",
    "    agg = df.groupby('City_State').agg({'Company':'count', 'Award Amount':['mean', 'sum']})\n",
    "    agg['City'] = agg.index.to_series().apply(lambda x: x.split(', ')[0])\n",
    "    agg['State'] = agg.index.to_series().apply(lambda x: x.split(', ')[1])\n",
    "    agg.columns = ['Award Mean', 'Award Sum', 'Company Count', 'City', 'State']\n",
    "    agg.to_csv('byCity/sbir_city_'+files.split('.')[0].split('_')[1]+'.csv')\n",
    "    print(files+' Finished')"
   ]
  },
  {
   "cell_type": "code",
   "execution_count": null,
   "metadata": {},
   "outputs": [],
   "source": []
  }
 ],
 "metadata": {
  "kernelspec": {
   "display_name": "ADS",
   "language": "python",
   "name": "ads"
  },
  "language_info": {
   "codemirror_mode": {
    "name": "ipython",
    "version": 3
   },
   "file_extension": ".py",
   "mimetype": "text/x-python",
   "name": "python",
   "nbconvert_exporter": "python",
   "pygments_lexer": "ipython3",
   "version": "3.5.0"
  }
 },
 "nbformat": 4,
 "nbformat_minor": 2
}
