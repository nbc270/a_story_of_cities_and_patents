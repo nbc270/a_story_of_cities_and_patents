{
 "cells": [
  {
   "cell_type": "code",
   "execution_count": 8,
   "metadata": {},
   "outputs": [],
   "source": [
    "import pandas as pd"
   ]
  },
  {
   "cell_type": "code",
   "execution_count": 9,
   "metadata": {},
   "outputs": [],
   "source": [
    "#Create dictionaries to populate with row count data\n",
    "initial_dict = dict()\n",
    "conservation_dict = dict()\n",
    "ratio_dict = dict()"
   ]
  },
  {
   "cell_type": "code",
   "execution_count": 10,
   "metadata": {},
   "outputs": [],
   "source": [
    "#Years to loop through\n",
    "years = list(range(2001,2014))"
   ]
  },
  {
   "cell_type": "code",
   "execution_count": 11,
   "metadata": {},
   "outputs": [],
   "source": [
    "for i in years:\n",
    "    data = pd.read_csv('all_collected_data_'+str(i)+'.csv')\n",
    "    #rows1 is the number of rows before dropping NaN\n",
    "    rows_1 = data.shape[0]\n",
    "    data_no_na = data.dropna()\n",
    "    \n",
    "    #rows2 is the number of rows after dropping NaN\n",
    "    rows_2 = data_no_na.shape[0]\n",
    "    \n",
    "    #Ratio is the percentage of rows that remain post dropping\n",
    "    ratio = (rows_2/rows_1)*100\n",
    "    initial_dict.update({i:{'before_drop':rows_1}})\n",
    "    conservation_dict.update({i:{'after_drop':rows_2}})\n",
    "    ratio_dict.update({i:{'ratio':ratio}})"
   ]
  },
  {
   "cell_type": "code",
   "execution_count": 12,
   "metadata": {},
   "outputs": [
    {
     "data": {
      "text/plain": [
       "{1997: {'before_drop': 998},\n",
       " 1998: {'before_drop': 999},\n",
       " 1999: {'before_drop': 1001},\n",
       " 2000: {'before_drop': 989},\n",
       " 2001: {'before_drop': 998},\n",
       " 2002: {'before_drop': 999},\n",
       " 2003: {'before_drop': 1006},\n",
       " 2004: {'before_drop': 1028},\n",
       " 2005: {'before_drop': 1044},\n",
       " 2006: {'before_drop': 999},\n",
       " 2007: {'before_drop': 986},\n",
       " 2008: {'before_drop': 990},\n",
       " 2009: {'before_drop': 986},\n",
       " 2010: {'before_drop': 986},\n",
       " 2011: {'before_drop': 995},\n",
       " 2012: {'before_drop': 987},\n",
       " 2013: {'before_drop': 984}}"
      ]
     },
     "execution_count": 12,
     "metadata": {},
     "output_type": "execute_result"
    }
   ],
   "source": [
    "initial_dict"
   ]
  },
  {
   "cell_type": "code",
   "execution_count": 13,
   "metadata": {},
   "outputs": [
    {
     "data": {
      "text/plain": [
       "{1997: {'after_drop': 565},\n",
       " 1998: {'after_drop': 551},\n",
       " 1999: {'after_drop': 561},\n",
       " 2000: {'after_drop': 553},\n",
       " 2001: {'after_drop': 558},\n",
       " 2002: {'after_drop': 680},\n",
       " 2003: {'after_drop': 689},\n",
       " 2004: {'after_drop': 713},\n",
       " 2005: {'after_drop': 713},\n",
       " 2006: {'after_drop': 686},\n",
       " 2007: {'after_drop': 699},\n",
       " 2008: {'after_drop': 694},\n",
       " 2009: {'after_drop': 695},\n",
       " 2010: {'after_drop': 699},\n",
       " 2011: {'after_drop': 704},\n",
       " 2012: {'after_drop': 744},\n",
       " 2013: {'after_drop': 737}}"
      ]
     },
     "execution_count": 13,
     "metadata": {},
     "output_type": "execute_result"
    }
   ],
   "source": [
    "conservation_dict"
   ]
  },
  {
   "cell_type": "code",
   "execution_count": 14,
   "metadata": {},
   "outputs": [
    {
     "data": {
      "text/plain": [
       "{1997: {'ratio': 56.613226452905806},\n",
       " 1998: {'ratio': 55.15515515515516},\n",
       " 1999: {'ratio': 56.043956043956044},\n",
       " 2000: {'ratio': 55.91506572295247},\n",
       " 2001: {'ratio': 55.91182364729459},\n",
       " 2002: {'ratio': 68.06806806806807},\n",
       " 2003: {'ratio': 68.48906560636183},\n",
       " 2004: {'ratio': 69.3579766536965},\n",
       " 2005: {'ratio': 68.29501915708812},\n",
       " 2006: {'ratio': 68.66866866866866},\n",
       " 2007: {'ratio': 70.89249492900609},\n",
       " 2008: {'ratio': 70.1010101010101},\n",
       " 2009: {'ratio': 70.4868154158215},\n",
       " 2010: {'ratio': 70.89249492900609},\n",
       " 2011: {'ratio': 70.75376884422111},\n",
       " 2012: {'ratio': 75.37993920972644},\n",
       " 2013: {'ratio': 74.89837398373984}}"
      ]
     },
     "execution_count": 14,
     "metadata": {},
     "output_type": "execute_result"
    }
   ],
   "source": [
    "ratio_dict"
   ]
  }
 ],
 "metadata": {
  "kernelspec": {
   "display_name": "PUI2016_Python3",
   "language": "python",
   "name": "pui2016_python3"
  },
  "language_info": {
   "codemirror_mode": {
    "name": "ipython",
    "version": 3
   },
   "file_extension": ".py",
   "mimetype": "text/x-python",
   "name": "python",
   "nbconvert_exporter": "python",
   "pygments_lexer": "ipython3",
   "version": "3.5.4"
  }
 },
 "nbformat": 4,
 "nbformat_minor": 2
}
