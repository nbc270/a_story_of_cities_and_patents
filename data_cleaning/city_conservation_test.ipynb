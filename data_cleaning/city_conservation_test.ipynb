{
 "cells": [
  {
   "cell_type": "code",
   "execution_count": 8,
   "metadata": {},
   "outputs": [],
   "source": [
    "import pandas as pd"
   ]
  },
  {
   "cell_type": "code",
   "execution_count": 9,
   "metadata": {},
   "outputs": [],
   "source": [
    "initial_dict = dict()\n",
    "conservation_dict = dict()\n",
    "ratio_dict = dict()"
   ]
  },
  {
   "cell_type": "code",
   "execution_count": 10,
   "metadata": {},
   "outputs": [],
   "source": [
    "years = list(range(1997,2014))"
   ]
  },
  {
   "cell_type": "code",
   "execution_count": 11,
   "metadata": {},
   "outputs": [],
   "source": [
    "for i in years:\n",
    "    data = pd.read_csv('all_collected_data_'+str(i)+'.csv')\n",
    "#    data = data[['city_state', 'Year', 'Score1', 'Score2',\n",
    "#       'Score5', 'Score6', 'Score7','Award Mean', 'Award Sum',\n",
    "#       'Company Count','creative_employees', 'regular_employees', \n",
    "#       'creative_establishments','regular_establishments']]\n",
    "#    data['Award Mean'] = data['Award Mean'].fillna(0)\n",
    "#    data['Award Sum'] = data['Award Mean'].fillna(0)\n",
    "#    data['Company Count'] = data['Award Mean'].fillna(0)\n",
    "    rows_1 = data.shape[0]\n",
    "    data_no_na = data.dropna()\n",
    "    rows_2 = data_no_na.shape[0]\n",
    "    ratio = (rows_2/rows_1)*100\n",
    "    initial_dict.update({i:{'before_drop':rows_1}})\n",
    "    conservation_dict.update({i:{'after_drop':rows_2}})\n",
    "    ratio_dict.update({i:{'ratio':ratio}})"
   ]
  },
  {
   "cell_type": "code",
   "execution_count": 12,
   "metadata": {},
   "outputs": [
    {
     "data": {
      "text/plain": [
       "{1997: {'before_drop': 998},\n",
       " 1998: {'before_drop': 999},\n",
       " 1999: {'before_drop': 1001},\n",
       " 2000: {'before_drop': 989},\n",
       " 2001: {'before_drop': 998},\n",
       " 2002: {'before_drop': 999},\n",
       " 2003: {'before_drop': 1006},\n",
       " 2004: {'before_drop': 1028},\n",
       " 2005: {'before_drop': 1044},\n",
       " 2006: {'before_drop': 999},\n",
       " 2007: {'before_drop': 986},\n",
       " 2008: {'before_drop': 990},\n",
       " 2009: {'before_drop': 986},\n",
       " 2010: {'before_drop': 986},\n",
       " 2011: {'before_drop': 995},\n",
       " 2012: {'before_drop': 987},\n",
       " 2013: {'before_drop': 984}}"
      ]
     },
     "execution_count": 12,
     "metadata": {},
     "output_type": "execute_result"
    }
   ],
   "source": [
    "initial_dict"
   ]
  },
  {
   "cell_type": "code",
   "execution_count": 13,
   "metadata": {},
   "outputs": [
    {
     "data": {
      "text/plain": [
       "{1997: {'after_drop': 565},\n",
       " 1998: {'after_drop': 551},\n",
       " 1999: {'after_drop': 561},\n",
       " 2000: {'after_drop': 553},\n",
       " 2001: {'after_drop': 558},\n",
       " 2002: {'after_drop': 680},\n",
       " 2003: {'after_drop': 689},\n",
       " 2004: {'after_drop': 713},\n",
       " 2005: {'after_drop': 713},\n",
       " 2006: {'after_drop': 686},\n",
       " 2007: {'after_drop': 699},\n",
       " 2008: {'after_drop': 694},\n",
       " 2009: {'after_drop': 695},\n",
       " 2010: {'after_drop': 699},\n",
       " 2011: {'after_drop': 704},\n",
       " 2012: {'after_drop': 744},\n",
       " 2013: {'after_drop': 737}}"
      ]
     },
     "execution_count": 13,
     "metadata": {},
     "output_type": "execute_result"
    }
   ],
   "source": [
    "conservation_dict"
   ]
  },
  {
   "cell_type": "code",
   "execution_count": 14,
   "metadata": {},
   "outputs": [
    {
     "data": {
      "text/plain": [
       "{1997: {'ratio': 56.613226452905806},\n",
       " 1998: {'ratio': 55.15515515515516},\n",
       " 1999: {'ratio': 56.043956043956044},\n",
       " 2000: {'ratio': 55.91506572295247},\n",
       " 2001: {'ratio': 55.91182364729459},\n",
       " 2002: {'ratio': 68.06806806806807},\n",
       " 2003: {'ratio': 68.48906560636183},\n",
       " 2004: {'ratio': 69.3579766536965},\n",
       " 2005: {'ratio': 68.29501915708812},\n",
       " 2006: {'ratio': 68.66866866866866},\n",
       " 2007: {'ratio': 70.89249492900609},\n",
       " 2008: {'ratio': 70.1010101010101},\n",
       " 2009: {'ratio': 70.4868154158215},\n",
       " 2010: {'ratio': 70.89249492900609},\n",
       " 2011: {'ratio': 70.75376884422111},\n",
       " 2012: {'ratio': 75.37993920972644},\n",
       " 2013: {'ratio': 74.89837398373984}}"
      ]
     },
     "execution_count": 14,
     "metadata": {},
     "output_type": "execute_result"
    }
   ],
   "source": [
    "ratio_dict"
   ]
  },
  {
   "cell_type": "code",
   "execution_count": null,
   "metadata": {},
   "outputs": [],
   "source": [
    "data.shape"
   ]
  },
  {
   "cell_type": "code",
   "execution_count": 50,
   "metadata": {},
   "outputs": [],
   "source": [
    "data_no_NA = data.dropna()"
   ]
  },
  {
   "cell_type": "code",
   "execution_count": 51,
   "metadata": {},
   "outputs": [
    {
     "data": {
      "text/html": [
       "<div>\n",
       "<table border=\"1\" class=\"dataframe\">\n",
       "  <thead>\n",
       "    <tr style=\"text-align: right;\">\n",
       "      <th></th>\n",
       "      <th>city_state</th>\n",
       "      <th>Year</th>\n",
       "      <th>Score1</th>\n",
       "      <th>Score2</th>\n",
       "      <th>Score5</th>\n",
       "      <th>Score6</th>\n",
       "      <th>Score7</th>\n",
       "      <th>Award Mean</th>\n",
       "      <th>Award Sum</th>\n",
       "      <th>Company Count</th>\n",
       "      <th>creative_employees</th>\n",
       "      <th>regular_employees</th>\n",
       "      <th>creative_establishments</th>\n",
       "      <th>regular_establishments</th>\n",
       "    </tr>\n",
       "  </thead>\n",
       "  <tbody>\n",
       "    <tr>\n",
       "      <th>1</th>\n",
       "      <td>santaclara_ca</td>\n",
       "      <td>2013</td>\n",
       "      <td>2.454178</td>\n",
       "      <td>2.568128</td>\n",
       "      <td>2.402200</td>\n",
       "      <td>2.608532</td>\n",
       "      <td>5.010732</td>\n",
       "      <td>483402.400000</td>\n",
       "      <td>483402.400000</td>\n",
       "      <td>483402.400000</td>\n",
       "      <td>18568.0</td>\n",
       "      <td>117034.0</td>\n",
       "      <td>1097.0</td>\n",
       "      <td>7398.0</td>\n",
       "    </tr>\n",
       "    <tr>\n",
       "      <th>2</th>\n",
       "      <td>sanjose_ca</td>\n",
       "      <td>2013</td>\n",
       "      <td>2.713612</td>\n",
       "      <td>2.718282</td>\n",
       "      <td>2.718282</td>\n",
       "      <td>2.601975</td>\n",
       "      <td>5.320257</td>\n",
       "      <td>472272.753000</td>\n",
       "      <td>472272.753000</td>\n",
       "      <td>472272.753000</td>\n",
       "      <td>59777.0</td>\n",
       "      <td>414256.0</td>\n",
       "      <td>4408.0</td>\n",
       "      <td>35292.0</td>\n",
       "    </tr>\n",
       "    <tr>\n",
       "      <th>3</th>\n",
       "      <td>mountainview_ca</td>\n",
       "      <td>2013</td>\n",
       "      <td>2.575207</td>\n",
       "      <td>2.620616</td>\n",
       "      <td>2.495599</td>\n",
       "      <td>2.601975</td>\n",
       "      <td>5.097574</td>\n",
       "      <td>689985.769231</td>\n",
       "      <td>689985.769231</td>\n",
       "      <td>689985.769231</td>\n",
       "      <td>12962.0</td>\n",
       "      <td>90429.0</td>\n",
       "      <td>761.0</td>\n",
       "      <td>5487.0</td>\n",
       "    </tr>\n",
       "    <tr>\n",
       "      <th>4</th>\n",
       "      <td>houston_tx</td>\n",
       "      <td>2013</td>\n",
       "      <td>2.368334</td>\n",
       "      <td>2.473257</td>\n",
       "      <td>2.386423</td>\n",
       "      <td>2.584727</td>\n",
       "      <td>4.971150</td>\n",
       "      <td>779427.952381</td>\n",
       "      <td>779427.952381</td>\n",
       "      <td>779427.952381</td>\n",
       "      <td>334415.0</td>\n",
       "      <td>2169243.0</td>\n",
       "      <td>13999.0</td>\n",
       "      <td>106288.0</td>\n",
       "    </tr>\n",
       "    <tr>\n",
       "      <th>5</th>\n",
       "      <td>sandiego_ca</td>\n",
       "      <td>2013</td>\n",
       "      <td>2.614353</td>\n",
       "      <td>2.674746</td>\n",
       "      <td>2.559636</td>\n",
       "      <td>2.573120</td>\n",
       "      <td>5.132756</td>\n",
       "      <td>468578.630432</td>\n",
       "      <td>468578.630432</td>\n",
       "      <td>468578.630432</td>\n",
       "      <td>142373.0</td>\n",
       "      <td>1078631.0</td>\n",
       "      <td>11301.0</td>\n",
       "      <td>72313.0</td>\n",
       "    </tr>\n",
       "  </tbody>\n",
       "</table>\n",
       "</div>"
      ],
      "text/plain": [
       "        city_state  Year    Score1    Score2    Score5    Score6    Score7  \\\n",
       "1    santaclara_ca  2013  2.454178  2.568128  2.402200  2.608532  5.010732   \n",
       "2       sanjose_ca  2013  2.713612  2.718282  2.718282  2.601975  5.320257   \n",
       "3  mountainview_ca  2013  2.575207  2.620616  2.495599  2.601975  5.097574   \n",
       "4       houston_tx  2013  2.368334  2.473257  2.386423  2.584727  4.971150   \n",
       "5      sandiego_ca  2013  2.614353  2.674746  2.559636  2.573120  5.132756   \n",
       "\n",
       "      Award Mean      Award Sum  Company Count  creative_employees  \\\n",
       "1  483402.400000  483402.400000  483402.400000             18568.0   \n",
       "2  472272.753000  472272.753000  472272.753000             59777.0   \n",
       "3  689985.769231  689985.769231  689985.769231             12962.0   \n",
       "4  779427.952381  779427.952381  779427.952381            334415.0   \n",
       "5  468578.630432  468578.630432  468578.630432            142373.0   \n",
       "\n",
       "   regular_employees  creative_establishments  regular_establishments  \n",
       "1           117034.0                   1097.0                  7398.0  \n",
       "2           414256.0                   4408.0                 35292.0  \n",
       "3            90429.0                    761.0                  5487.0  \n",
       "4          2169243.0                  13999.0                106288.0  \n",
       "5          1078631.0                  11301.0                 72313.0  "
      ]
     },
     "execution_count": 51,
     "metadata": {},
     "output_type": "execute_result"
    }
   ],
   "source": [
    "data_no_NA.head()"
   ]
  },
  {
   "cell_type": "code",
   "execution_count": 52,
   "metadata": {},
   "outputs": [
    {
     "data": {
      "text/plain": [
       "(789, 14)"
      ]
     },
     "execution_count": 52,
     "metadata": {},
     "output_type": "execute_result"
    }
   ],
   "source": [
    "data_no_NA.shape"
   ]
  },
  {
   "cell_type": "code",
   "execution_count": null,
   "metadata": {},
   "outputs": [],
   "source": []
  }
 ],
 "metadata": {
  "kernelspec": {
   "display_name": "PUI2016_Python3",
   "language": "python",
   "name": "pui2016_python3"
  },
  "language_info": {
   "codemirror_mode": {
    "name": "ipython",
    "version": 3
   },
   "file_extension": ".py",
   "mimetype": "text/x-python",
   "name": "python",
   "nbconvert_exporter": "python",
   "pygments_lexer": "ipython3",
   "version": "3.5.4"
  }
 },
 "nbformat": 4,
 "nbformat_minor": 2
}
