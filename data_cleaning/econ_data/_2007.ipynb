{
 "cells": [
  {
   "cell_type": "code",
   "execution_count": 1,
   "metadata": {},
   "outputs": [],
   "source": [
    "import pandas as pd\n",
    "import requests"
   ]
  },
  {
   "cell_type": "code",
   "execution_count": 2,
   "metadata": {},
   "outputs": [],
   "source": [
    "_2007 = requests.get('https://api.census.gov/data/2007/ewks?get=GEOTYPE_MEANING,EMP,ESTAB,OPTAX,NAICS2007_MEANING&for=place:*&in=state:*&NAICS2007=*')"
   ]
  },
  {
   "cell_type": "code",
   "execution_count": 3,
   "metadata": {},
   "outputs": [],
   "source": [
    "data = _2007.json()[1:]\n",
    "schema = _2007.json()[0]"
   ]
  },
  {
   "cell_type": "code",
   "execution_count": 4,
   "metadata": {},
   "outputs": [],
   "source": [
    "df = pd.DataFrame(data)"
   ]
  },
  {
   "cell_type": "code",
   "execution_count": 5,
   "metadata": {},
   "outputs": [],
   "source": [
    "df.columns = schema"
   ]
  },
  {
   "cell_type": "code",
   "execution_count": 6,
   "metadata": {},
   "outputs": [
    {
     "data": {
      "text/html": [
       "<div>\n",
       "<table border=\"1\" class=\"dataframe\">\n",
       "  <thead>\n",
       "    <tr style=\"text-align: right;\">\n",
       "      <th></th>\n",
       "      <th>GEOTYPE_MEANING</th>\n",
       "      <th>EMP</th>\n",
       "      <th>ESTAB</th>\n",
       "      <th>OPTAX</th>\n",
       "      <th>NAICS2007_MEANING</th>\n",
       "      <th>NAICS2007</th>\n",
       "      <th>state</th>\n",
       "      <th>place</th>\n",
       "    </tr>\n",
       "  </thead>\n",
       "  <tbody>\n",
       "    <tr>\n",
       "      <th>0</th>\n",
       "      <td>Place</td>\n",
       "      <td>12643</td>\n",
       "      <td>905</td>\n",
       "      <td>99</td>\n",
       "      <td>Total for all sectors</td>\n",
       "      <td>00</td>\n",
       "      <td>78</td>\n",
       "      <td>16300</td>\n",
       "    </tr>\n",
       "    <tr>\n",
       "      <th>1</th>\n",
       "      <td>Place</td>\n",
       "      <td>775</td>\n",
       "      <td>110</td>\n",
       "      <td>99</td>\n",
       "      <td>Total for all sectors</td>\n",
       "      <td>00</td>\n",
       "      <td>60</td>\n",
       "      <td>37700</td>\n",
       "    </tr>\n",
       "    <tr>\n",
       "      <th>2</th>\n",
       "      <td>Place</td>\n",
       "      <td>7725</td>\n",
       "      <td>287</td>\n",
       "      <td>99</td>\n",
       "      <td>Total for all sectors</td>\n",
       "      <td>00</td>\n",
       "      <td>60</td>\n",
       "      <td>51300</td>\n",
       "    </tr>\n",
       "    <tr>\n",
       "      <th>3</th>\n",
       "      <td>Place</td>\n",
       "      <td>0</td>\n",
       "      <td>15</td>\n",
       "      <td>99</td>\n",
       "      <td>Total for all sectors</td>\n",
       "      <td>00</td>\n",
       "      <td>60</td>\n",
       "      <td>67300</td>\n",
       "    </tr>\n",
       "    <tr>\n",
       "      <th>4</th>\n",
       "      <td>Place</td>\n",
       "      <td>39</td>\n",
       "      <td>21</td>\n",
       "      <td>99</td>\n",
       "      <td>Total for all sectors</td>\n",
       "      <td>00</td>\n",
       "      <td>60</td>\n",
       "      <td>72100</td>\n",
       "    </tr>\n",
       "  </tbody>\n",
       "</table>\n",
       "</div>"
      ],
      "text/plain": [
       "  GEOTYPE_MEANING    EMP ESTAB OPTAX      NAICS2007_MEANING NAICS2007 state  \\\n",
       "0           Place  12643   905    99  Total for all sectors        00    78   \n",
       "1           Place    775   110    99  Total for all sectors        00    60   \n",
       "2           Place   7725   287    99  Total for all sectors        00    60   \n",
       "3           Place      0    15    99  Total for all sectors        00    60   \n",
       "4           Place     39    21    99  Total for all sectors        00    60   \n",
       "\n",
       "   place  \n",
       "0  16300  \n",
       "1  37700  \n",
       "2  51300  \n",
       "3  67300  \n",
       "4  72100  "
      ]
     },
     "execution_count": 6,
     "metadata": {},
     "output_type": "execute_result"
    }
   ],
   "source": [
    "df.head()"
   ]
  },
  {
   "cell_type": "code",
   "execution_count": 7,
   "metadata": {},
   "outputs": [
    {
     "data": {
      "text/html": [
       "<div>\n",
       "<table border=\"1\" class=\"dataframe\">\n",
       "  <thead>\n",
       "    <tr style=\"text-align: right;\">\n",
       "      <th></th>\n",
       "      <th>GEOTYPE_MEANING</th>\n",
       "      <th>EMP</th>\n",
       "      <th>ESTAB</th>\n",
       "      <th>OPTAX</th>\n",
       "      <th>NAICS2007_MEANING</th>\n",
       "      <th>NAICS2007</th>\n",
       "      <th>state</th>\n",
       "      <th>place</th>\n",
       "    </tr>\n",
       "  </thead>\n",
       "  <tbody>\n",
       "    <tr>\n",
       "      <th>1593898</th>\n",
       "      <td>Place</td>\n",
       "      <td>37</td>\n",
       "      <td>7</td>\n",
       "      <td>Y</td>\n",
       "      <td>Religious, Grantmaking, Civic, Professional, a...</td>\n",
       "      <td>813</td>\n",
       "      <td>56</td>\n",
       "      <td>67235</td>\n",
       "    </tr>\n",
       "    <tr>\n",
       "      <th>1593899</th>\n",
       "      <td>Place</td>\n",
       "      <td>141</td>\n",
       "      <td>31</td>\n",
       "      <td>Y</td>\n",
       "      <td>Religious, Grantmaking, Civic, Professional, a...</td>\n",
       "      <td>813</td>\n",
       "      <td>56</td>\n",
       "      <td>40120</td>\n",
       "    </tr>\n",
       "    <tr>\n",
       "      <th>1593900</th>\n",
       "      <td>Place</td>\n",
       "      <td>0</td>\n",
       "      <td>2</td>\n",
       "      <td>Y</td>\n",
       "      <td>Religious, Grantmaking, Civic, Professional, a...</td>\n",
       "      <td>813</td>\n",
       "      <td>56</td>\n",
       "      <td>98041</td>\n",
       "    </tr>\n",
       "    <tr>\n",
       "      <th>1593901</th>\n",
       "      <td>Place</td>\n",
       "      <td>39</td>\n",
       "      <td>9</td>\n",
       "      <td>Y</td>\n",
       "      <td>Religious, Grantmaking, Civic, Professional, a...</td>\n",
       "      <td>813</td>\n",
       "      <td>56</td>\n",
       "      <td>98043</td>\n",
       "    </tr>\n",
       "    <tr>\n",
       "      <th>1593902</th>\n",
       "      <td>Place</td>\n",
       "      <td>0</td>\n",
       "      <td>3</td>\n",
       "      <td>Y</td>\n",
       "      <td>Religious, Grantmaking, Civic, Professional, a...</td>\n",
       "      <td>813</td>\n",
       "      <td>56</td>\n",
       "      <td>98045</td>\n",
       "    </tr>\n",
       "  </tbody>\n",
       "</table>\n",
       "</div>"
      ],
      "text/plain": [
       "        GEOTYPE_MEANING  EMP ESTAB OPTAX  \\\n",
       "1593898           Place   37     7     Y   \n",
       "1593899           Place  141    31     Y   \n",
       "1593900           Place    0     2     Y   \n",
       "1593901           Place   39     9     Y   \n",
       "1593902           Place    0     3     Y   \n",
       "\n",
       "                                         NAICS2007_MEANING NAICS2007 state  \\\n",
       "1593898  Religious, Grantmaking, Civic, Professional, a...       813    56   \n",
       "1593899  Religious, Grantmaking, Civic, Professional, a...       813    56   \n",
       "1593900  Religious, Grantmaking, Civic, Professional, a...       813    56   \n",
       "1593901  Religious, Grantmaking, Civic, Professional, a...       813    56   \n",
       "1593902  Religious, Grantmaking, Civic, Professional, a...       813    56   \n",
       "\n",
       "         place  \n",
       "1593898  67235  \n",
       "1593899  40120  \n",
       "1593900  98041  \n",
       "1593901  98043  \n",
       "1593902  98045  "
      ]
     },
     "execution_count": 7,
     "metadata": {},
     "output_type": "execute_result"
    }
   ],
   "source": [
    "df.tail()"
   ]
  },
  {
   "cell_type": "code",
   "execution_count": 8,
   "metadata": {},
   "outputs": [
    {
     "data": {
      "text/plain": [
       "1446"
      ]
     },
     "execution_count": 8,
     "metadata": {},
     "output_type": "execute_result"
    }
   ],
   "source": [
    "len(df['NAICS2007_MEANING'].unique())"
   ]
  },
  {
   "cell_type": "code",
   "execution_count": 9,
   "metadata": {},
   "outputs": [],
   "source": [
    "df.to_csv('2007.csv')"
   ]
  },
  {
   "cell_type": "code",
   "execution_count": null,
   "metadata": {},
   "outputs": [],
   "source": []
  }
 ],
 "metadata": {
  "kernelspec": {
   "display_name": "PUI2016_Python3",
   "language": "python",
   "name": "pui2016_python3"
  },
  "language_info": {
   "codemirror_mode": {
    "name": "ipython",
    "version": 3
   },
   "file_extension": ".py",
   "mimetype": "text/x-python",
   "name": "python",
   "nbconvert_exporter": "python",
   "pygments_lexer": "ipython3",
   "version": "3.5.4"
  }
 },
 "nbformat": 4,
 "nbformat_minor": 2
}
