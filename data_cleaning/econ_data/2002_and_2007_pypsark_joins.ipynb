{
 "cells": [
  {
   "cell_type": "code",
   "execution_count": 23,
   "metadata": {},
   "outputs": [],
   "source": [
    "from pyspark.sql.functions import concat, col, lit, split, regexp_replace, desc, asc\n",
    "#Read in datasets\n",
    "csv1 = '2012_semi_processed.csv'\n",
    "csv2 = '2002.csv'\n",
    "csv3 = '2007.csv'\n",
    "_2012 = spark.read.load(csv1, format='csv',header=True, inferSchema = True)\n",
    "_2002 = spark.read.load(csv2, format='csv',header=True, inferSchema = True)\n",
    "_2007 = spark.read.load(csv3, format='csv',header=True, inferSchema = True)"
   ]
  },
  {
   "cell_type": "code",
   "execution_count": 3,
   "metadata": {},
   "outputs": [
    {
     "name": "stdout",
     "output_type": "stream",
     "text": [
      "+---+---+-----+-----+-----+-------+---------+-----+-----+\n",
      "|_c0|EMP|ESTAB|EMP_F|OPTAX|ESTAB_F|NAICS2002|state|place|\n",
      "+---+---+-----+-----+-----+-------+---------+-----+-----+\n",
      "|  0|  0|   26|    f|   99|   null|    31-33|    1| 2116|\n",
      "|  1|  0|    6|    b|   00|   null|       42|    1| 2116|\n",
      "|  2|  0|    6|    b|   10|   null|       42|    1| 2116|\n",
      "|  3|  0|    5|    a|   00|   null|      423|    1| 2116|\n",
      "|  4|  0|    5|    a|   10|   null|      423|    1| 2116|\n",
      "|  5|  0|    1|    a|   00|   null|      424|    1| 2116|\n",
      "|  6|  0|    1|    a|   10|   null|      424|    1| 2116|\n",
      "|  7|  0|    1|    a|   00|   null|     4247|    1| 2116|\n",
      "|  8|  0|    1|    a|   00|   null|    42471|    1| 2116|\n",
      "|  9|  0|    1|    a|   00|   null|   424710|    1| 2116|\n",
      "| 10|760|   69| null|   99|   null|    44-45|    1| 2116|\n",
      "| 11|131|   13| null|   99|   null|      441|    1| 2116|\n",
      "| 12|  0|    4|    b|   99|   null|    44112|    1| 2116|\n",
      "| 13|  0|    4|    b|   99|   null|   441120|    1| 2116|\n",
      "| 14| 16|    3| null|   99|   null|      442|    1| 2116|\n",
      "| 15|  0|    2|    a|   99|   null|     4421|    1| 2116|\n",
      "| 16|  0|    2|    a|   99|   null|    44211|    1| 2116|\n",
      "| 17|  0|    2|    a|   99|   null|   442110|    1| 2116|\n",
      "| 18|  0|    1|    a|   99|   null|      443|    1| 2116|\n",
      "| 19| 39|    6| null|   99|   null|      444|    1| 2116|\n",
      "+---+---+-----+-----+-----+-------+---------+-----+-----+\n",
      "only showing top 20 rows\n",
      "\n"
     ]
    }
   ],
   "source": [
    "_2002.show()"
   ]
  },
  {
   "cell_type": "code",
   "execution_count": 4,
   "metadata": {},
   "outputs": [],
   "source": [
    "#get the naics titles and codes for joining\n",
    "naics_info = _2012.select('NAICS2012_TTL','NAICS2012').dropDuplicates()"
   ]
  },
  {
   "cell_type": "code",
   "execution_count": 5,
   "metadata": {},
   "outputs": [],
   "source": [
    "#get the city name, code, and unique city_state_code\n",
    "city_info = _2012.select('GEO_TTL','state','place','city_state_code').dropDuplicates()"
   ]
  },
  {
   "cell_type": "code",
   "execution_count": 6,
   "metadata": {},
   "outputs": [],
   "source": [
    "#rename columns for city info into 2012 data (for no errors when joining and writing files)\n",
    "city_info = city_info.selectExpr(\"GEO_TTL\",\"state as state_2012\", \"place as place_2012\",\"city_state_code\")"
   ]
  },
  {
   "cell_type": "code",
   "execution_count": 7,
   "metadata": {},
   "outputs": [
    {
     "name": "stdout",
     "output_type": "stream",
     "text": [
      "+--------------------+----------+----------+--------------------+\n",
      "|             GEO_TTL|state_2012|place_2012|           fuck_this|\n",
      "+--------------------+----------+----------+--------------------+\n",
      "|      Gurnee village|        17|     32018|                t_IL|\n",
      "|South Barrington ...|        17|     70564|                t_IL|\n",
      "|   Hampshire village|        17|     32525|                t_IL|\n",
      "|           Olney CDP|        24|     58900|           Olney _MD|\n",
      "|     Sweetwater city|        48|     71540|      Sweetwater _TX|\n",
      "|     Scottsdale city|         4|     65000|      Scottsdale _AZ|\n",
      "|Security-Widefiel...|         8|     68847|Security-Widefiel...|\n",
      "|Cherry Hills Vill...|         8|     13845|Cherry Hills Vill...|\n",
      "|      Crestview city|        12|     15475|       Crestview _FL|\n",
      "|   Jupiter Farms CDP|        12|     35890|   Jupiter Farms _FL|\n",
      "|Hutchinson Island...|        12|     32993|Hutchinson Island...|\n",
      "|         Buford city|        13|     11784|          Buford _GA|\n",
      "|   Watkinsville city|        13|     80788|    Watkinsville _GA|\n",
      "|        Clark County|        16|     98033|                t_ID|\n",
      "|         Horace city|        20|     33150|          Horace _KS|\n",
      "|       Bellevue city|        21|      5446|        Bellevue _KY|\n",
      "|       Mayfield city|        21|     50898|        Mayfield _KY|\n",
      "|         Murray city|        21|     54642|          Murray _KY|\n",
      "|         Estelle CDP|        22|     24390|         Estelle _LA|\n",
      "|    Springfield city|        26|     75700|     Springfield _MI|\n",
      "+--------------------+----------+----------+--------------------+\n",
      "only showing top 20 rows\n",
      "\n"
     ]
    }
   ],
   "source": [
    "city_info.show()"
   ]
  },
  {
   "cell_type": "code",
   "execution_count": 8,
   "metadata": {},
   "outputs": [
    {
     "name": "stdout",
     "output_type": "stream",
     "text": [
      "+-----+---+-----+-----+-----+-------+---------+-----+-----+-------------+---------+\n",
      "|  _c0|EMP|ESTAB|EMP_F|OPTAX|ESTAB_F|NAICS2002|state|place|NAICS2012_TTL|NAICS2012|\n",
      "+-----+---+-----+-----+-----+-------+---------+-----+-----+-------------+---------+\n",
      "|  964|  0|    5|    c|    A|   null|   712110|    1| 7000|      Museums|   712110|\n",
      "|  965|  0|    5|    c|    N|   null|   712110|    1| 7000|      Museums|   712110|\n",
      "| 3695|  0|    4|    b|    A|   null|   712110|    1|37000|      Museums|   712110|\n",
      "| 3696|  0|    3|    b|    N|   null|   712110|    1|37000|      Museums|   712110|\n",
      "|18952|  0|    5|    b|    A|   null|   712110|    1|50000|      Museums|   712110|\n",
      "|18953|  0|    5|    b|    N|   null|   712110|    1|50000|      Museums|   712110|\n",
      "|20454|  0|    3|    b|    A|   null|   712110|    1|51000|      Museums|   712110|\n",
      "|20455|  0|    3|    b|    N|   null|   712110|    1|51000|      Museums|   712110|\n",
      "|25704|  0|    4|    b|    A|   null|   712110|    2| 3000|      Museums|   712110|\n",
      "|25705|  0|    4|    b|    N|   null|   712110|    2| 3000|      Museums|   712110|\n",
      "|31125|  0|    4|    b|    A|   null|   712110|    4|23620|      Museums|   712110|\n",
      "|31126|  0|    3|    b|    N|   null|   712110|    4|23620|      Museums|   712110|\n",
      "|36881|  0|   11|    e|    A|   null|   712110|    4|55000|      Museums|   712110|\n",
      "|36882|  0|    9|    e|    N|   null|   712110|    4|55000|      Museums|   712110|\n",
      "|42693|  0|    8|    c|    A|   null|   712110|    4|77000|      Museums|   712110|\n",
      "|42694|  0|    7|    c|    N|   null|   712110|    4|77000|      Museums|   712110|\n",
      "|43388|  0|    3|    c|    A|   null|   712110|    4|99999|      Museums|   712110|\n",
      "|43389|  0|    3|    c|    N|   null|   712110|    4|99999|      Museums|   712110|\n",
      "|67977|  0|    4|    c|    A|   null|   712110|    6|53000|      Museums|   712110|\n",
      "|67978|  0|    4|    c|    N|   null|   712110|    6|53000|      Museums|   712110|\n",
      "+-----+---+-----+-----+-----+-------+---------+-----+-----+-------------+---------+\n",
      "only showing top 20 rows\n",
      "\n"
     ]
    }
   ],
   "source": [
    "#join the naics codes and titles with the 2002 data\n",
    "naics_updates = _2002.join(naics_info, _2002.NAICS2002 == naics_info.NAICS2012)\n",
    "naics_updates.show()"
   ]
  },
  {
   "cell_type": "code",
   "execution_count": 9,
   "metadata": {},
   "outputs": [
    {
     "name": "stdout",
     "output_type": "stream",
     "text": [
      "+-----+----+-----+-----+-----+-------+---------+-----+-----+--------------------+---------+-------------------+----------+----------+------------------+\n",
      "|  _c0| EMP|ESTAB|EMP_F|OPTAX|ESTAB_F|NAICS2002|state|place|       NAICS2012_TTL|NAICS2012|            GEO_TTL|state_2012|place_2012|         fuck_this|\n",
      "+-----+----+-----+-----+-----+-------+---------+-----+-----+--------------------+---------+-------------------+----------+----------+------------------+\n",
      "| null|null| null| null| null|   null|     null| null| null|                null|     null|  Meridianville CDP|         1|     48112| Meridianville _AL|\n",
      "|14925|   0|    2|    e|    A|   null|      623|    1|61008|Nursing and resid...|      623|Pleasant Grove city|         1|     61008|Pleasant Grove _AL|\n",
      "|14926|   0|    2|    e|    T|   null|      623|    1|61008|Nursing and resid...|      623|Pleasant Grove city|         1|     61008|Pleasant Grove _AL|\n",
      "|14931|  39|    6| null|    A|   null|       81|    1|61008|Other services (e...|       81|Pleasant Grove city|         1|     61008|Pleasant Grove _AL|\n",
      "|14932|  39|    6| null|    T|   null|       81|    1|61008|Other services (e...|       81|Pleasant Grove city|         1|     61008|Pleasant Grove _AL|\n",
      "|14933|   0|    4|    b|    A|   null|      811|    1|61008|Repair and mainte...|      811|Pleasant Grove city|         1|     61008|Pleasant Grove _AL|\n",
      "|14934|   0|    4|    b|    T|   null|      811|    1|61008|Repair and mainte...|      811|Pleasant Grove city|         1|     61008|Pleasant Grove _AL|\n",
      "|14910|  18|   11| null|    A|   null|       54|    1|61008|Professional, sci...|       54|Pleasant Grove city|         1|     61008|Pleasant Grove _AL|\n",
      "|14911|  18|   11| null|    T|   null|       54|    1|61008|Professional, sci...|       54|Pleasant Grove city|         1|     61008|Pleasant Grove _AL|\n",
      "|14929|  43|    5| null|   99|   null|       72|    1|61008|Accommodation and...|       72|Pleasant Grove city|         1|     61008|Pleasant Grove _AL|\n",
      "|14919|  29|    5| null|    A|   null|     6212|    1|61008| Offices of dentists|     6212|Pleasant Grove city|         1|     61008|Pleasant Grove _AL|\n",
      "|14920|  29|    5| null|    T|   null|     6212|    1|61008| Offices of dentists|     6212|Pleasant Grove city|         1|     61008|Pleasant Grove _AL|\n",
      "|14923|  29|    5| null|    A|   null|   621210|    1|61008| Offices of dentists|   621210|Pleasant Grove city|         1|     61008|Pleasant Grove _AL|\n",
      "|14924|  29|    5| null|    T|   null|   621210|    1|61008| Offices of dentists|   621210|Pleasant Grove city|         1|     61008|Pleasant Grove _AL|\n",
      "|14915| 317|   10| null|    A|   null|       62|    1|61008|Health care and s...|       62|Pleasant Grove city|         1|     61008|Pleasant Grove _AL|\n",
      "|14916| 317|   10| null|    T|   null|       62|    1|61008|Health care and s...|       62|Pleasant Grove city|         1|     61008|Pleasant Grove _AL|\n",
      "|14917|   0|    6|    b|    A|   null|      621|    1|61008|Ambulatory health...|      621|Pleasant Grove city|         1|     61008|Pleasant Grove _AL|\n",
      "|14918|   0|    6|    b|    T|   null|      621|    1|61008|Ambulatory health...|      621|Pleasant Grove city|         1|     61008|Pleasant Grove _AL|\n",
      "|14914|  30|    5| null|   99|   null|       56|    1|61008|Administrative an...|       56|Pleasant Grove city|         1|     61008|Pleasant Grove _AL|\n",
      "|14912|  18|   11| null|    A|   null|      541|    1|61008|Professional, sci...|      541|Pleasant Grove city|         1|     61008|Pleasant Grove _AL|\n",
      "+-----+----+-----+-----+-----+-------+---------+-----+-----+--------------------+---------+-------------------+----------+----------+------------------+\n",
      "only showing top 20 rows\n",
      "\n"
     ]
    }
   ],
   "source": [
    "#Join 2002 data with updated naics titles with updated city names\n",
    "job_updates = naics_updates.join(city_info, (naics_updates.state == city_info.state_2012) & (naics_updates.place == city_info.place_2012), how = 'full')\n",
    "job_updates.show()"
   ]
  },
  {
   "cell_type": "code",
   "execution_count": 24,
   "metadata": {},
   "outputs": [
    {
     "name": "stdout",
     "output_type": "stream",
     "text": [
      "+-----+---------------+----+-----+-----+--------------------+---------+-----+-----+-------------------+----------+----------+------------------+\n",
      "|  _c0|GEOTYPE_MEANING| EMP|ESTAB|OPTAX|   NAICS2007_MEANING|NAICS2007|state|place|            GEO_TTL|state_2012|place_2012|         fuck_this|\n",
      "+-----+---------------+----+-----+-----+--------------------+---------+-----+-----+-------------------+----------+----------+------------------+\n",
      "| null|           null|null| null| null|                null|     null| null| null|  Meridianville CDP|         1|     48112| Meridianville _AL|\n",
      "|54915|          Place|   0|    3|   10|     Wholesale trade|       42|    1|61008|Pleasant Grove city|         1|     61008|Pleasant Grove _AL|\n",
      "|54955|          Place|   0|    3|   10|Merchant wholesal...|      423|    1|61008|Pleasant Grove city|         1|     61008|Pleasant Grove _AL|\n",
      "|55263|          Place| 150|   10|   99|        Retail trade|    44-45|    1|61008|Pleasant Grove city|         1|     61008|Pleasant Grove _AL|\n",
      "|55488|          Place|   0|    1|   99|Furniture and hom...|      442|    1|61008|Pleasant Grove city|         1|     61008|Pleasant Grove _AL|\n",
      "|55719|          Place|   0|    1|   99|Building material...|      444|    1|61008|Pleasant Grove city|         1|     61008|Pleasant Grove _AL|\n",
      "|55887|          Place|   0|    2|   99|Food and beverage...|      445|    1|61008|Pleasant Grove city|         1|     61008|Pleasant Grove _AL|\n",
      "|55971|          Place|   0|    3|   99|Health and person...|      446|    1|61008|Pleasant Grove city|         1|     61008|Pleasant Grove _AL|\n",
      "|56010|          Place|   0|    3|   99|Health and person...|     4461|    1|61008|Pleasant Grove city|         1|     61008|Pleasant Grove _AL|\n",
      "|56111|          Place|   0|    1|   99|   Gasoline stations|      447|    1|61008|Pleasant Grove city|         1|     61008|Pleasant Grove _AL|\n",
      "|56152|          Place|   0|    1|   99|   Gasoline stations|     4471|    1|61008|Pleasant Grove city|         1|     61008|Pleasant Grove _AL|\n",
      "|56415|          Place|   0|    1|   99|Sporting goods, h...|      451|    1|61008|Pleasant Grove city|         1|     61008|Pleasant Grove _AL|\n",
      "|56566|          Place|   0|    1|   99|General merchandi...|      452|    1|61008|Pleasant Grove city|         1|     61008|Pleasant Grove _AL|\n",
      "|57133|          Place|  19|    4|   99|Real estate and r...|       53|    1|61008|Pleasant Grove city|         1|     61008|Pleasant Grove _AL|\n",
      "|57174|          Place|   0|    3|   99|         Real estate|      531|    1|61008|Pleasant Grove city|         1|     61008|Pleasant Grove _AL|\n",
      "|57291|          Place|   0|    1|   99|Rental and leasin...|      532|    1|61008|Pleasant Grove city|         1|     61008|Pleasant Grove _AL|\n",
      "|57352|          Place|  20|    6|    A|Professional, sci...|       54|    1|61008|Pleasant Grove city|         1|     61008|Pleasant Grove _AL|\n",
      "|57393|          Place|  20|    6|    T|Professional, sci...|       54|    1|61008|Pleasant Grove city|         1|     61008|Pleasant Grove _AL|\n",
      "|57438|          Place|  20|    6|    A|Professional, sci...|      541|    1|61008|Pleasant Grove city|         1|     61008|Pleasant Grove _AL|\n",
      "|57478|          Place|  20|    6|    T|Professional, sci...|      541|    1|61008|Pleasant Grove city|         1|     61008|Pleasant Grove _AL|\n",
      "+-----+---------------+----+-----+-----+--------------------+---------+-----+-----+-------------------+----------+----------+------------------+\n",
      "only showing top 20 rows\n",
      "\n"
     ]
    }
   ],
   "source": [
    "##Join 2002 data with updated city info\n",
    "updated_2007 = _2007.join(city_info, (_2007.state == city_info.state_2012) & (_2007.place == city_info.place_2012), how = 'full')\n",
    "updated_2007.show()"
   ]
  },
  {
   "cell_type": "code",
   "execution_count": 18,
   "metadata": {},
   "outputs": [],
   "source": [
    "#make a pandas dataframe from the 2002 data\n",
    "_2002_updated = job_updates.toPandas()"
   ]
  },
  {
   "cell_type": "code",
   "execution_count": 25,
   "metadata": {},
   "outputs": [],
   "source": [
    "_2007_updated_pd = updated_2007.toPandas()"
   ]
  },
  {
   "cell_type": "code",
   "execution_count": 26,
   "metadata": {},
   "outputs": [],
   "source": [
    "_2007_updated_pd.to_csv('_2007_updated_pd.csv')"
   ]
  },
  {
   "cell_type": "code",
   "execution_count": 22,
   "metadata": {},
   "outputs": [],
   "source": [
    "_2002_updated.to_csv('_2002_updated_pd.csv')"
   ]
  }
 ],
 "metadata": {
  "kernelspec": {
   "display_name": "Python 3",
   "language": "python",
   "name": "python3"
  },
  "language_info": {
   "codemirror_mode": {
    "name": "ipython",
    "version": 3
   },
   "file_extension": ".py",
   "mimetype": "text/x-python",
   "name": "python",
   "nbconvert_exporter": "python",
   "pygments_lexer": "ipython3",
   "version": "3.6.4"
  }
 },
 "nbformat": 4,
 "nbformat_minor": 2
}
