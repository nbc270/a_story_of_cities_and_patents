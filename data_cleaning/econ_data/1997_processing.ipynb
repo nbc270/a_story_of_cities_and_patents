{
 "cells": [
  {
   "cell_type": "markdown",
   "metadata": {},
   "source": [
    "## 1997 Processing"
   ]
  },
  {
   "cell_type": "code",
   "execution_count": 1,
   "metadata": {},
   "outputs": [],
   "source": [
    "import pandas as pd"
   ]
  },
  {
   "cell_type": "code",
   "execution_count": 2,
   "metadata": {},
   "outputs": [
    {
     "name": "stderr",
     "output_type": "stream",
     "text": [
      "/usr/local/Anaconda3-5.0.0-Linux-x86_64/envs/PUI2016_Python3/lib/python3.5/site-packages/IPython/core/interactiveshell.py:2717: DtypeWarning: Columns (5,6) have mixed types. Specify dtype option on import or set low_memory=False.\n",
      "  interactivity=interactivity, compiler=compiler, result=result)\n"
     ]
    }
   ],
   "source": [
    "#read in the 1997 data\n",
    "data_1997 = pd.read_csv('1997.csv')"
   ]
  },
  {
   "cell_type": "code",
   "execution_count": 4,
   "metadata": {},
   "outputs": [
    {
     "data": {
      "text/html": [
       "<div>\n",
       "<table border=\"1\" class=\"dataframe\">\n",
       "  <thead>\n",
       "    <tr style=\"text-align: right;\">\n",
       "      <th></th>\n",
       "      <th>Unnamed: 0</th>\n",
       "      <th>GEO_TTL</th>\n",
       "      <th>NAICS1997_TTL</th>\n",
       "      <th>EMP</th>\n",
       "      <th>ESTAB</th>\n",
       "      <th>OPTAX</th>\n",
       "      <th>NAICS1997</th>\n",
       "      <th>state</th>\n",
       "      <th>place</th>\n",
       "    </tr>\n",
       "  </thead>\n",
       "  <tbody>\n",
       "    <tr>\n",
       "      <th>0</th>\n",
       "      <td>0</td>\n",
       "      <td>Arab, AL</td>\n",
       "      <td>Manufacturing</td>\n",
       "      <td>2661</td>\n",
       "      <td>26</td>\n",
       "      <td>99</td>\n",
       "      <td>31-33</td>\n",
       "      <td>1</td>\n",
       "      <td>2116</td>\n",
       "    </tr>\n",
       "    <tr>\n",
       "      <th>1</th>\n",
       "      <td>1</td>\n",
       "      <td>Birmingham, AL</td>\n",
       "      <td>Manufacturing</td>\n",
       "      <td>19057</td>\n",
       "      <td>382</td>\n",
       "      <td>99</td>\n",
       "      <td>31-33</td>\n",
       "      <td>1</td>\n",
       "      <td>7000</td>\n",
       "    </tr>\n",
       "    <tr>\n",
       "      <th>2</th>\n",
       "      <td>2</td>\n",
       "      <td>Boaz, AL</td>\n",
       "      <td>Manufacturing</td>\n",
       "      <td>4488</td>\n",
       "      <td>20</td>\n",
       "      <td>99</td>\n",
       "      <td>31-33</td>\n",
       "      <td>1</td>\n",
       "      <td>7912</td>\n",
       "    </tr>\n",
       "    <tr>\n",
       "      <th>3</th>\n",
       "      <td>3</td>\n",
       "      <td>Decatur, AL</td>\n",
       "      <td>Manufacturing</td>\n",
       "      <td>8495</td>\n",
       "      <td>124</td>\n",
       "      <td>99</td>\n",
       "      <td>31-33</td>\n",
       "      <td>1</td>\n",
       "      <td>20104</td>\n",
       "    </tr>\n",
       "    <tr>\n",
       "      <th>4</th>\n",
       "      <td>4</td>\n",
       "      <td>Dothan, AL</td>\n",
       "      <td>Manufacturing</td>\n",
       "      <td>8269</td>\n",
       "      <td>102</td>\n",
       "      <td>99</td>\n",
       "      <td>31-33</td>\n",
       "      <td>1</td>\n",
       "      <td>21184</td>\n",
       "    </tr>\n",
       "  </tbody>\n",
       "</table>\n",
       "</div>"
      ],
      "text/plain": [
       "   Unnamed: 0         GEO_TTL  NAICS1997_TTL    EMP  ESTAB OPTAX NAICS1997  \\\n",
       "0           0        Arab, AL  Manufacturing   2661     26    99     31-33   \n",
       "1           1  Birmingham, AL  Manufacturing  19057    382    99     31-33   \n",
       "2           2        Boaz, AL  Manufacturing   4488     20    99     31-33   \n",
       "3           3     Decatur, AL  Manufacturing   8495    124    99     31-33   \n",
       "4           4      Dothan, AL  Manufacturing   8269    102    99     31-33   \n",
       "\n",
       "   state  place  \n",
       "0      1   2116  \n",
       "1      1   7000  \n",
       "2      1   7912  \n",
       "3      1  20104  \n",
       "4      1  21184  "
      ]
     },
     "execution_count": 4,
     "metadata": {},
     "output_type": "execute_result"
    }
   ],
   "source": [
    "data_1997.head()"
   ]
  },
  {
   "cell_type": "code",
   "execution_count": null,
   "metadata": {},
   "outputs": [],
   "source": [
    "#Collect the state names and abbreviation data\n",
    "!curl https://raw.githubusercontent.com/fitnr/addfips/master/addfips/data/states.csv?accessType = Download > states.csv"
   ]
  },
  {
   "cell_type": "code",
   "execution_count": 5,
   "metadata": {},
   "outputs": [
    {
     "data": {
      "text/html": [
       "<div>\n",
       "<table border=\"1\" class=\"dataframe\">\n",
       "  <thead>\n",
       "    <tr style=\"text-align: right;\">\n",
       "      <th></th>\n",
       "      <th>name</th>\n",
       "      <th>postal</th>\n",
       "      <th>fips</th>\n",
       "    </tr>\n",
       "  </thead>\n",
       "  <tbody>\n",
       "    <tr>\n",
       "      <th>0</th>\n",
       "      <td>Alabama</td>\n",
       "      <td>AL</td>\n",
       "      <td>1</td>\n",
       "    </tr>\n",
       "    <tr>\n",
       "      <th>1</th>\n",
       "      <td>Alaska</td>\n",
       "      <td>AK</td>\n",
       "      <td>2</td>\n",
       "    </tr>\n",
       "    <tr>\n",
       "      <th>2</th>\n",
       "      <td>Arizona</td>\n",
       "      <td>AZ</td>\n",
       "      <td>4</td>\n",
       "    </tr>\n",
       "    <tr>\n",
       "      <th>3</th>\n",
       "      <td>Arkansas</td>\n",
       "      <td>AR</td>\n",
       "      <td>5</td>\n",
       "    </tr>\n",
       "    <tr>\n",
       "      <th>4</th>\n",
       "      <td>California</td>\n",
       "      <td>CA</td>\n",
       "      <td>6</td>\n",
       "    </tr>\n",
       "  </tbody>\n",
       "</table>\n",
       "</div>"
      ],
      "text/plain": [
       "         name postal  fips\n",
       "0     Alabama     AL     1\n",
       "1      Alaska     AK     2\n",
       "2     Arizona     AZ     4\n",
       "3    Arkansas     AR     5\n",
       "4  California     CA     6"
      ]
     },
     "execution_count": 5,
     "metadata": {},
     "output_type": "execute_result"
    }
   ],
   "source": [
    "#turn the states.csv into a dataframe\n",
    "states = pd.read_csv('states.csv')\n",
    "states.head()"
   ]
  },
  {
   "cell_type": "code",
   "execution_count": 6,
   "metadata": {},
   "outputs": [
    {
     "data": {
      "text/html": [
       "<div>\n",
       "<table border=\"1\" class=\"dataframe\">\n",
       "  <thead>\n",
       "    <tr style=\"text-align: right;\">\n",
       "      <th></th>\n",
       "      <th>postal</th>\n",
       "      <th>fips</th>\n",
       "    </tr>\n",
       "  </thead>\n",
       "  <tbody>\n",
       "    <tr>\n",
       "      <th>0</th>\n",
       "      <td>AL</td>\n",
       "      <td>01</td>\n",
       "    </tr>\n",
       "    <tr>\n",
       "      <th>1</th>\n",
       "      <td>AK</td>\n",
       "      <td>02</td>\n",
       "    </tr>\n",
       "    <tr>\n",
       "      <th>2</th>\n",
       "      <td>AZ</td>\n",
       "      <td>04</td>\n",
       "    </tr>\n",
       "    <tr>\n",
       "      <th>3</th>\n",
       "      <td>AR</td>\n",
       "      <td>05</td>\n",
       "    </tr>\n",
       "    <tr>\n",
       "      <th>4</th>\n",
       "      <td>CA</td>\n",
       "      <td>06</td>\n",
       "    </tr>\n",
       "  </tbody>\n",
       "</table>\n",
       "</div>"
      ],
      "text/plain": [
       "  postal fips\n",
       "0     AL   01\n",
       "1     AK   02\n",
       "2     AZ   04\n",
       "3     AR   05\n",
       "4     CA   06"
      ]
     },
     "execution_count": 6,
     "metadata": {},
     "output_type": "execute_result"
    }
   ],
   "source": [
    "#get the abbreviation and the proper FIPs codes for joining\n",
    "states['fips'] = states['fips'].astype(str)\n",
    "data_1997['state'] = data_1997['state'].astype(str)\n",
    "\n",
    "states['fips'] = states.fips.str.zfill(2)\n",
    "data_1997['state'] = data_1997.state.str.zfill(2)\n",
    "\n",
    "states_cleaned = states[['postal','fips']]\n",
    "\n",
    "states_cleaned.head()"
   ]
  },
  {
   "cell_type": "code",
   "execution_count": 7,
   "metadata": {},
   "outputs": [],
   "source": [
    "#join the states and 1997 data\n",
    "data_1997_us = data_1997.merge(states_cleaned, left_on = 'state', right_on = 'fips', how = 'inner')"
   ]
  },
  {
   "cell_type": "code",
   "execution_count": 8,
   "metadata": {},
   "outputs": [],
   "source": [
    "#remove territories and county-balances\n",
    "not_us_states = ['60','66','69','72','78']\n",
    "\n",
    "data_1997_states = data_1997_us.loc[~data_1997_us['fips'].isin(not_us_states)]\n",
    "data_1997_cities = data_1997_states.loc[~data_1997_states['GEO_TTL'].str.contains('Balance',na=False)]"
   ]
  },
  {
   "cell_type": "code",
   "execution_count": 9,
   "metadata": {},
   "outputs": [
    {
     "data": {
      "text/html": [
       "<div>\n",
       "<table border=\"1\" class=\"dataframe\">\n",
       "  <thead>\n",
       "    <tr style=\"text-align: right;\">\n",
       "      <th></th>\n",
       "      <th>Unnamed: 0</th>\n",
       "      <th>GEO_TTL</th>\n",
       "      <th>NAICS1997_TTL</th>\n",
       "      <th>EMP</th>\n",
       "      <th>ESTAB</th>\n",
       "      <th>OPTAX</th>\n",
       "      <th>NAICS1997</th>\n",
       "      <th>state</th>\n",
       "      <th>place</th>\n",
       "      <th>postal</th>\n",
       "      <th>fips</th>\n",
       "    </tr>\n",
       "  </thead>\n",
       "  <tbody>\n",
       "    <tr>\n",
       "      <th>13060</th>\n",
       "      <td>655455</td>\n",
       "      <td>Anniston, AL</td>\n",
       "      <td>Real estate</td>\n",
       "      <td>121</td>\n",
       "      <td>31</td>\n",
       "      <td>99</td>\n",
       "      <td>531</td>\n",
       "      <td>01</td>\n",
       "      <td>1852</td>\n",
       "      <td>AL</td>\n",
       "      <td>01</td>\n",
       "    </tr>\n",
       "    <tr>\n",
       "      <th>13061</th>\n",
       "      <td>655456</td>\n",
       "      <td>Jacksonville, AL</td>\n",
       "      <td>Real estate</td>\n",
       "      <td>0</td>\n",
       "      <td>5</td>\n",
       "      <td>99</td>\n",
       "      <td>531</td>\n",
       "      <td>01</td>\n",
       "      <td>38272</td>\n",
       "      <td>AL</td>\n",
       "      <td>01</td>\n",
       "    </tr>\n",
       "    <tr>\n",
       "      <th>13063</th>\n",
       "      <td>655458</td>\n",
       "      <td>Oxford, AL (Calhoun County Part)</td>\n",
       "      <td>Real estate</td>\n",
       "      <td>0</td>\n",
       "      <td>5</td>\n",
       "      <td>99</td>\n",
       "      <td>531</td>\n",
       "      <td>01</td>\n",
       "      <td>57576</td>\n",
       "      <td>AL</td>\n",
       "      <td>01</td>\n",
       "    </tr>\n",
       "    <tr>\n",
       "      <th>13064</th>\n",
       "      <td>655459</td>\n",
       "      <td>Piedmont, AL (Calhoun County Part)</td>\n",
       "      <td>Real estate</td>\n",
       "      <td>0</td>\n",
       "      <td>1</td>\n",
       "      <td>99</td>\n",
       "      <td>531</td>\n",
       "      <td>01</td>\n",
       "      <td>59640</td>\n",
       "      <td>AL</td>\n",
       "      <td>01</td>\n",
       "    </tr>\n",
       "    <tr>\n",
       "      <th>13065</th>\n",
       "      <td>655691</td>\n",
       "      <td>Oneonta, AL</td>\n",
       "      <td>Real estate</td>\n",
       "      <td>0</td>\n",
       "      <td>4</td>\n",
       "      <td>99</td>\n",
       "      <td>531</td>\n",
       "      <td>01</td>\n",
       "      <td>57000</td>\n",
       "      <td>AL</td>\n",
       "      <td>01</td>\n",
       "    </tr>\n",
       "  </tbody>\n",
       "</table>\n",
       "</div>"
      ],
      "text/plain": [
       "       Unnamed: 0                             GEO_TTL NAICS1997_TTL  EMP  \\\n",
       "13060      655455                        Anniston, AL   Real estate  121   \n",
       "13061      655456                    Jacksonville, AL   Real estate    0   \n",
       "13063      655458    Oxford, AL (Calhoun County Part)   Real estate    0   \n",
       "13064      655459  Piedmont, AL (Calhoun County Part)   Real estate    0   \n",
       "13065      655691                         Oneonta, AL   Real estate    0   \n",
       "\n",
       "       ESTAB OPTAX NAICS1997 state  place postal fips  \n",
       "13060     31    99       531    01   1852     AL   01  \n",
       "13061      5    99       531    01  38272     AL   01  \n",
       "13063      5    99       531    01  57576     AL   01  \n",
       "13064      1    99       531    01  59640     AL   01  \n",
       "13065      4    99       531    01  57000     AL   01  "
      ]
     },
     "execution_count": 9,
     "metadata": {},
     "output_type": "execute_result"
    }
   ],
   "source": [
    "#Remove duplicate rows for Tax codes 99 and A\n",
    "tax_codes = ['99','A']\n",
    "data_1997_cities_all_occupation_1 = data_1997_cities.loc[data_1997_cities['OPTAX'].isin(tax_codes)]\n",
    "data_1997_cities_remove_dupes = data_1997_cities_all_occupation_1.drop_duplicates()\n",
    "data_1997_cities_remove_dupes.head()"
   ]
  },
  {
   "cell_type": "code",
   "execution_count": 10,
   "metadata": {},
   "outputs": [
    {
     "name": "stderr",
     "output_type": "stream",
     "text": [
      "/usr/local/Anaconda3-5.0.0-Linux-x86_64/envs/PUI2016_Python3/lib/python3.5/site-packages/ipykernel/__main__.py:1: SettingWithCopyWarning: \n",
      "A value is trying to be set on a copy of a slice from a DataFrame.\n",
      "Try using .loc[row_indexer,col_indexer] = value instead\n",
      "\n",
      "See the caveats in the documentation: http://pandas.pydata.org/pandas-docs/stable/indexing.html#indexing-view-versus-copy\n",
      "  if __name__ == '__main__':\n"
     ]
    }
   ],
   "source": [
    "#Begin feature engineering a unique city_state code by splitting GEO_TTL by comma\n",
    "data_1997_cities_remove_dupes['city_name'] = data_1997_cities_remove_dupes.GEO_TTL.str.split(',')"
   ]
  },
  {
   "cell_type": "code",
   "execution_count": 11,
   "metadata": {},
   "outputs": [
    {
     "name": "stderr",
     "output_type": "stream",
     "text": [
      "/usr/local/Anaconda3-5.0.0-Linux-x86_64/envs/PUI2016_Python3/lib/python3.5/site-packages/ipykernel/__main__.py:1: SettingWithCopyWarning: \n",
      "A value is trying to be set on a copy of a slice from a DataFrame.\n",
      "Try using .loc[row_indexer,col_indexer] = value instead\n",
      "\n",
      "See the caveats in the documentation: http://pandas.pydata.org/pandas-docs/stable/indexing.html#indexing-view-versus-copy\n",
      "  if __name__ == '__main__':\n"
     ]
    }
   ],
   "source": [
    "#create a state name column. Will have extra elements than desired\n",
    "data_1997_cities_remove_dupes['state_name_unclean'] = data_1997_cities_remove_dupes.city_name.str[1]"
   ]
  },
  {
   "cell_type": "code",
   "execution_count": 12,
   "metadata": {},
   "outputs": [
    {
     "name": "stderr",
     "output_type": "stream",
     "text": [
      "/usr/local/Anaconda3-5.0.0-Linux-x86_64/envs/PUI2016_Python3/lib/python3.5/site-packages/ipykernel/__main__.py:1: SettingWithCopyWarning: \n",
      "A value is trying to be set on a copy of a slice from a DataFrame.\n",
      "Try using .loc[row_indexer,col_indexer] = value instead\n",
      "\n",
      "See the caveats in the documentation: http://pandas.pydata.org/pandas-docs/stable/indexing.html#indexing-view-versus-copy\n",
      "  if __name__ == '__main__':\n"
     ]
    }
   ],
   "source": [
    "#Create a city name column\n",
    "data_1997_cities_remove_dupes['city_name'] = data_1997_cities_remove_dupes.city_name.str[0]"
   ]
  },
  {
   "cell_type": "code",
   "execution_count": 13,
   "metadata": {},
   "outputs": [
    {
     "name": "stderr",
     "output_type": "stream",
     "text": [
      "/usr/local/Anaconda3-5.0.0-Linux-x86_64/envs/PUI2016_Python3/lib/python3.5/site-packages/ipykernel/__main__.py:1: SettingWithCopyWarning: \n",
      "A value is trying to be set on a copy of a slice from a DataFrame.\n",
      "Try using .loc[row_indexer,col_indexer] = value instead\n",
      "\n",
      "See the caveats in the documentation: http://pandas.pydata.org/pandas-docs/stable/indexing.html#indexing-view-versus-copy\n",
      "  if __name__ == '__main__':\n"
     ]
    }
   ],
   "source": [
    "#Clean the state name column to just the abbreviated state name\n",
    "data_1997_cities_remove_dupes['state_name_cleaned'] = data_1997_cities_remove_dupes.state_name_unclean.str[:3]"
   ]
  },
  {
   "cell_type": "code",
   "execution_count": 14,
   "metadata": {},
   "outputs": [
    {
     "name": "stderr",
     "output_type": "stream",
     "text": [
      "/usr/local/Anaconda3-5.0.0-Linux-x86_64/envs/PUI2016_Python3/lib/python3.5/site-packages/ipykernel/__main__.py:1: SettingWithCopyWarning: \n",
      "A value is trying to be set on a copy of a slice from a DataFrame.\n",
      "Try using .loc[row_indexer,col_indexer] = value instead\n",
      "\n",
      "See the caveats in the documentation: http://pandas.pydata.org/pandas-docs/stable/indexing.html#indexing-view-versus-copy\n",
      "  if __name__ == '__main__':\n"
     ]
    }
   ],
   "source": [
    "#create the unique city_state code\n",
    "data_1997_cities_remove_dupes['city_state_code'] = data_1997_cities_remove_dupes['city_name'] + '_' + data_1997_cities_remove_dupes['state_name_cleaned']"
   ]
  },
  {
   "cell_type": "code",
   "execution_count": 16,
   "metadata": {},
   "outputs": [],
   "source": [
    "#create the list of creative professionals within the NAICS titles\n",
    "creative_class = ['Heavy and civil engineering construction',\n",
    "'Veneer, plywood, and engineered wood product manufacturing',\n",
    "'Pharmaceutical and medicine manufacturing',\n",
    "'Electronic computer manufacturing',\n",
    "'Computer terminal and other computer peripheral equipment manufacturing',\n",
    "'Navigational, measuring, electromedical, and control instruments manufacturing',\n",
    "'Electromedical and electrotherapeutic apparatus manufacturing',\n",
    "'Surgical and medical instrument manufacturing',\n",
    "'Computer and computer peripheral equipment and software merchant wholesalers',\n",
    "'Computer and computer peripheral equipment merchant wholesalers',\n",
    "'Surgical, medical, and hospital supplies merchant wholesalers',\n",
    "'Direct life, health, and medical insurance carriers',\n",
    "'Direct health and medical insurance carriers',\n",
    "'Direct insurance (except life, health, and medical) carriers',\n",
    "'Offices of lawyers',\n",
    "'Legal aid societies and similar legal services',\n",
    "'Other legal services',\n",
    "'All other legal services',\n",
    "'Accounting, tax preparation, bookkeeping, and payroll services',\n",
    "'Other accounting services',\n",
    "'Architectural, engineering, and related services',\n",
    "'Custom computer programming services',\n",
    "'Other computer related services',\n",
    "'Scientific research and development services',\n",
    "'Research and development in the physical, engineering, and life sciences',\n",
    "'Research and development in the physical, engineering, and life sciences',\n",
    "'Research and development in biotechnology',\n",
    "'Research and development in the physical, engineering, and life sciences (except biotechnology)',\n",
    "'Research and development in the physical and engineering sciences',\n",
    "'Research and development in other life sciences',\n",
    "'Research and development in the social sciences and humanities',\n",
    "'Marketing research and public opinion polling',\n",
    "'Economic or industrial planning or development organization',\n",
    "'Business schools and computer and management training',\n",
    "'Professional and management development training',\n",
    "'Art, drama, and music schools',\n",
    "'Family planning centers',\n",
    "'HMO medical centers',\n",
    "'Freestanding ambulatory surgical and emergency centers',\n",
    "'General medical and surgical hospitals',\n",
    "'General medical and surgical hospitals, government',\n",
    "'General medical and surgical hospitals, except government',\n",
    "'Residential intellectual and developmental disability, mental health, and substance abuse facilities',\n",
    "'Residential intellectual and developmental disability facilities',\n",
    "'Musical groups and artists',\n",
    "'Symphony orchestras and chamber music organizations',\n",
    "'Other music groups and artists',\n",
    "'Agents and managers for artists, athletes, entertainers, and other public figures',\n",
    "'Independent artists, writers, and performers']"
   ]
  },
  {
   "cell_type": "code",
   "execution_count": 17,
   "metadata": {},
   "outputs": [
    {
     "name": "stderr",
     "output_type": "stream",
     "text": [
      "/usr/local/Anaconda3-5.0.0-Linux-x86_64/envs/PUI2016_Python3/lib/python3.5/site-packages/ipykernel/__main__.py:5: SettingWithCopyWarning: \n",
      "A value is trying to be set on a copy of a slice from a DataFrame.\n",
      "Try using .loc[row_indexer,col_indexer] = value instead\n",
      "\n",
      "See the caveats in the documentation: http://pandas.pydata.org/pandas-docs/stable/indexing.html#indexing-view-versus-copy\n"
     ]
    }
   ],
   "source": [
    "#case when arguement to define a profession as creative or not\n",
    "data_1997_cities_remove_dupes['class'] = pd.np.where(\n",
    "     data_1997_cities_remove_dupes['NAICS1997_TTL'].isin(creative_class), \n",
    "    '1_creative',  \n",
    "    pd.np.where(~data_1997_cities_remove_dupes['NAICS1997_TTL'].isin(creative_class), \n",
    "    '2_regular','3_none'\n",
    "     ))"
   ]
  },
  {
   "cell_type": "code",
   "execution_count": 18,
   "metadata": {},
   "outputs": [],
   "source": [
    "#reset the index\n",
    "data_1997 = data_1997_cities_remove_dupes.reset_index()"
   ]
  },
  {
   "cell_type": "code",
   "execution_count": 19,
   "metadata": {},
   "outputs": [],
   "source": [
    "#select columns of interest\n",
    "data_1997 = data_1997[['city_state_code','EMP','ESTAB','class']]"
   ]
  },
  {
   "cell_type": "code",
   "execution_count": 20,
   "metadata": {},
   "outputs": [],
   "source": [
    "#groupby the data and unstack it\n",
    "econ_data_1997 = data_1997.groupby(['city_state_code','class']).sum().unstack()"
   ]
  },
  {
   "cell_type": "code",
   "execution_count": 21,
   "metadata": {},
   "outputs": [],
   "source": [
    "#reset the index and rename the columns\n",
    "econ_data_final = econ_data_1997.reset_index()\n",
    "econ_data_final.columns = ['city_state','creative_employees','regular_employees',\n",
    "                           'creative_establishments','regular_establishments']"
   ]
  },
  {
   "cell_type": "code",
   "execution_count": 23,
   "metadata": {},
   "outputs": [],
   "source": [
    "#remove any extra characters and lower case the texts from the city_state code\n",
    "econ_data_final['city_state'] = econ_data_final['city_state'].str.replace(' ','')\n",
    "econ_data_final['city_state'] = econ_data_final['city_state'].str.replace('.','')\n",
    "econ_data_final['city_state'] = econ_data_final['city_state'].str.replace(',','')\n",
    "econ_data_final['city_state'] = econ_data_final['city_state'].str.lower()"
   ]
  },
  {
   "cell_type": "code",
   "execution_count": 24,
   "metadata": {},
   "outputs": [],
   "source": [
    "#write out the final csv\n",
    "econ_data_final.to_csv('1997_creative_class.csv')"
   ]
  }
 ],
 "metadata": {
  "kernelspec": {
   "display_name": "PUI2016_Python3",
   "language": "python",
   "name": "pui2016_python3"
  },
  "language_info": {
   "codemirror_mode": {
    "name": "ipython",
    "version": 3
   },
   "file_extension": ".py",
   "mimetype": "text/x-python",
   "name": "python",
   "nbconvert_exporter": "python",
   "pygments_lexer": "ipython3",
   "version": "3.5.4"
  }
 },
 "nbformat": 4,
 "nbformat_minor": 2
}
