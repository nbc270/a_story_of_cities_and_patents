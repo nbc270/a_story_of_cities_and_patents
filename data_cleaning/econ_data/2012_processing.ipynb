{
 "cells": [
  {
   "cell_type": "code",
   "execution_count": 1,
   "metadata": {},
   "outputs": [
    {
     "name": "stderr",
     "output_type": "stream",
     "text": [
      "/usr/local/Anaconda3-5.0.0-Linux-x86_64/envs/PUI2016_Python3/lib/python3.5/site-packages/IPython/core/interactiveshell.py:2717: DtypeWarning: Columns (4,6) have mixed types. Specify dtype option on import or set low_memory=False.\n",
      "  interactivity=interactivity, compiler=compiler, result=result)\n"
     ]
    }
   ],
   "source": [
    "import pandas as pd\n",
    "#read in the 2012 data\n",
    "data_2012 = pd.read_csv('2012.csv')"
   ]
  },
  {
   "cell_type": "code",
   "execution_count": 4,
   "metadata": {},
   "outputs": [
    {
     "data": {
      "text/html": [
       "<div>\n",
       "<table border=\"1\" class=\"dataframe\">\n",
       "  <thead>\n",
       "    <tr style=\"text-align: right;\">\n",
       "      <th></th>\n",
       "      <th>Unnamed: 0</th>\n",
       "      <th>EMP</th>\n",
       "      <th>ESTAB</th>\n",
       "      <th>NAICS2012_TTL</th>\n",
       "      <th>OPTAX</th>\n",
       "      <th>GEO_TTL</th>\n",
       "      <th>NAICS2012</th>\n",
       "      <th>state</th>\n",
       "      <th>place</th>\n",
       "    </tr>\n",
       "  </thead>\n",
       "  <tbody>\n",
       "    <tr>\n",
       "      <th>0</th>\n",
       "      <td>0</td>\n",
       "      <td>874</td>\n",
       "      <td>63</td>\n",
       "      <td>Total for all sectors</td>\n",
       "      <td>99</td>\n",
       "      <td>Ituau county, American Samoa</td>\n",
       "      <td>00</td>\n",
       "      <td>60</td>\n",
       "      <td>37700</td>\n",
       "    </tr>\n",
       "    <tr>\n",
       "      <th>1</th>\n",
       "      <td>1</td>\n",
       "      <td>4344</td>\n",
       "      <td>164</td>\n",
       "      <td>Total for all sectors</td>\n",
       "      <td>99</td>\n",
       "      <td>Ma'oputasi county, American Samoa</td>\n",
       "      <td>00</td>\n",
       "      <td>60</td>\n",
       "      <td>51300</td>\n",
       "    </tr>\n",
       "    <tr>\n",
       "      <th>2</th>\n",
       "      <td>2</td>\n",
       "      <td>0</td>\n",
       "      <td>5</td>\n",
       "      <td>Total for all sectors</td>\n",
       "      <td>99</td>\n",
       "      <td>Sa'ole county, American Samoa</td>\n",
       "      <td>00</td>\n",
       "      <td>60</td>\n",
       "      <td>67300</td>\n",
       "    </tr>\n",
       "    <tr>\n",
       "      <th>3</th>\n",
       "      <td>3</td>\n",
       "      <td>0</td>\n",
       "      <td>4</td>\n",
       "      <td>Total for all sectors</td>\n",
       "      <td>99</td>\n",
       "      <td>Sua county, American Samoa</td>\n",
       "      <td>00</td>\n",
       "      <td>60</td>\n",
       "      <td>72100</td>\n",
       "    </tr>\n",
       "    <tr>\n",
       "      <th>4</th>\n",
       "      <td>4</td>\n",
       "      <td>0</td>\n",
       "      <td>1</td>\n",
       "      <td>Total for all sectors</td>\n",
       "      <td>99</td>\n",
       "      <td>Vaifanua county, American Samoa</td>\n",
       "      <td>00</td>\n",
       "      <td>60</td>\n",
       "      <td>86500</td>\n",
       "    </tr>\n",
       "  </tbody>\n",
       "</table>\n",
       "</div>"
      ],
      "text/plain": [
       "   Unnamed: 0   EMP  ESTAB          NAICS2012_TTL OPTAX  \\\n",
       "0           0   874     63  Total for all sectors    99   \n",
       "1           1  4344    164  Total for all sectors    99   \n",
       "2           2     0      5  Total for all sectors    99   \n",
       "3           3     0      4  Total for all sectors    99   \n",
       "4           4     0      1  Total for all sectors    99   \n",
       "\n",
       "                             GEO_TTL NAICS2012  state  place  \n",
       "0       Ituau county, American Samoa        00     60  37700  \n",
       "1  Ma'oputasi county, American Samoa        00     60  51300  \n",
       "2      Sa'ole county, American Samoa        00     60  67300  \n",
       "3         Sua county, American Samoa        00     60  72100  \n",
       "4    Vaifanua county, American Samoa        00     60  86500  "
      ]
     },
     "execution_count": 4,
     "metadata": {},
     "output_type": "execute_result"
    }
   ],
   "source": [
    "data_2012.head()"
   ]
  },
  {
   "cell_type": "code",
   "execution_count": 5,
   "metadata": {},
   "outputs": [
    {
     "name": "stdout",
     "output_type": "stream",
     "text": [
      "  % Total    % Received % Xferd  Average Speed   Time    Time     Time  Current\n",
      "                                 Dload  Upload   Total   Spent    Left  Speed\n",
      "100  1036  100  1036    0     0   3149      0 --:--:-- --:--:-- --:--:--  3158\n",
      "curl: (6) Could not resolve host: =\n",
      "curl: (6) Could not resolve host: Download\n"
     ]
    }
   ],
   "source": [
    "#Collect the state names and abbreviation data\n",
    "!curl https://raw.githubusercontent.com/fitnr/addfips/master/addfips/data/states.csv?accessType = Download > states.csv"
   ]
  },
  {
   "cell_type": "code",
   "execution_count": 6,
   "metadata": {},
   "outputs": [],
   "source": [
    "#turn the states.csv into a dataframe\n",
    "states = pd.read_csv('states.csv')"
   ]
  },
  {
   "cell_type": "code",
   "execution_count": 7,
   "metadata": {},
   "outputs": [
    {
     "data": {
      "text/html": [
       "<div>\n",
       "<table border=\"1\" class=\"dataframe\">\n",
       "  <thead>\n",
       "    <tr style=\"text-align: right;\">\n",
       "      <th></th>\n",
       "      <th>name</th>\n",
       "      <th>postal</th>\n",
       "      <th>fips</th>\n",
       "    </tr>\n",
       "  </thead>\n",
       "  <tbody>\n",
       "    <tr>\n",
       "      <th>0</th>\n",
       "      <td>Alabama</td>\n",
       "      <td>AL</td>\n",
       "      <td>1</td>\n",
       "    </tr>\n",
       "    <tr>\n",
       "      <th>1</th>\n",
       "      <td>Alaska</td>\n",
       "      <td>AK</td>\n",
       "      <td>2</td>\n",
       "    </tr>\n",
       "    <tr>\n",
       "      <th>2</th>\n",
       "      <td>Arizona</td>\n",
       "      <td>AZ</td>\n",
       "      <td>4</td>\n",
       "    </tr>\n",
       "    <tr>\n",
       "      <th>3</th>\n",
       "      <td>Arkansas</td>\n",
       "      <td>AR</td>\n",
       "      <td>5</td>\n",
       "    </tr>\n",
       "    <tr>\n",
       "      <th>4</th>\n",
       "      <td>California</td>\n",
       "      <td>CA</td>\n",
       "      <td>6</td>\n",
       "    </tr>\n",
       "  </tbody>\n",
       "</table>\n",
       "</div>"
      ],
      "text/plain": [
       "         name postal  fips\n",
       "0     Alabama     AL     1\n",
       "1      Alaska     AK     2\n",
       "2     Arizona     AZ     4\n",
       "3    Arkansas     AR     5\n",
       "4  California     CA     6"
      ]
     },
     "execution_count": 7,
     "metadata": {},
     "output_type": "execute_result"
    }
   ],
   "source": [
    "states.head()"
   ]
  },
  {
   "cell_type": "code",
   "execution_count": 8,
   "metadata": {},
   "outputs": [],
   "source": [
    "#Turn FIPs codes into strings\n",
    "states['fips'] = states['fips'].astype(str)\n",
    "data_2012['state'] = data_2012['state'].astype(str)"
   ]
  },
  {
   "cell_type": "code",
   "execution_count": 9,
   "metadata": {},
   "outputs": [],
   "source": [
    "#Fill the fips with the extra zeros needed for joining\n",
    "states['fips'] = states.fips.str.zfill(2)\n",
    "data_2012['state'] = data_2012.state.str.zfill(2)"
   ]
  },
  {
   "cell_type": "code",
   "execution_count": 10,
   "metadata": {},
   "outputs": [],
   "source": [
    "#select necessary columns\n",
    "states_cleaned = states[['postal','fips']]"
   ]
  },
  {
   "cell_type": "code",
   "execution_count": 11,
   "metadata": {},
   "outputs": [
    {
     "data": {
      "text/html": [
       "<div>\n",
       "<table border=\"1\" class=\"dataframe\">\n",
       "  <thead>\n",
       "    <tr style=\"text-align: right;\">\n",
       "      <th></th>\n",
       "      <th>postal</th>\n",
       "      <th>fips</th>\n",
       "    </tr>\n",
       "  </thead>\n",
       "  <tbody>\n",
       "    <tr>\n",
       "      <th>0</th>\n",
       "      <td>AL</td>\n",
       "      <td>01</td>\n",
       "    </tr>\n",
       "    <tr>\n",
       "      <th>1</th>\n",
       "      <td>AK</td>\n",
       "      <td>02</td>\n",
       "    </tr>\n",
       "    <tr>\n",
       "      <th>2</th>\n",
       "      <td>AZ</td>\n",
       "      <td>04</td>\n",
       "    </tr>\n",
       "    <tr>\n",
       "      <th>3</th>\n",
       "      <td>AR</td>\n",
       "      <td>05</td>\n",
       "    </tr>\n",
       "    <tr>\n",
       "      <th>4</th>\n",
       "      <td>CA</td>\n",
       "      <td>06</td>\n",
       "    </tr>\n",
       "  </tbody>\n",
       "</table>\n",
       "</div>"
      ],
      "text/plain": [
       "  postal fips\n",
       "0     AL   01\n",
       "1     AK   02\n",
       "2     AZ   04\n",
       "3     AR   05\n",
       "4     CA   06"
      ]
     },
     "execution_count": 11,
     "metadata": {},
     "output_type": "execute_result"
    }
   ],
   "source": [
    "states_cleaned.head()"
   ]
  },
  {
   "cell_type": "code",
   "execution_count": 12,
   "metadata": {},
   "outputs": [],
   "source": [
    "#join the states and 2012 data\n",
    "data_2012_us = data_2012.merge(states_cleaned, left_on = 'state', right_on = 'fips', how = 'inner')"
   ]
  },
  {
   "cell_type": "code",
   "execution_count": 13,
   "metadata": {},
   "outputs": [
    {
     "data": {
      "text/html": [
       "<div>\n",
       "<table border=\"1\" class=\"dataframe\">\n",
       "  <thead>\n",
       "    <tr style=\"text-align: right;\">\n",
       "      <th></th>\n",
       "      <th>Unnamed: 0</th>\n",
       "      <th>EMP</th>\n",
       "      <th>ESTAB</th>\n",
       "      <th>NAICS2012_TTL</th>\n",
       "      <th>OPTAX</th>\n",
       "      <th>GEO_TTL</th>\n",
       "      <th>NAICS2012</th>\n",
       "      <th>state</th>\n",
       "      <th>place</th>\n",
       "      <th>postal</th>\n",
       "      <th>fips</th>\n",
       "    </tr>\n",
       "  </thead>\n",
       "  <tbody>\n",
       "    <tr>\n",
       "      <th>0</th>\n",
       "      <td>0</td>\n",
       "      <td>874</td>\n",
       "      <td>63</td>\n",
       "      <td>Total for all sectors</td>\n",
       "      <td>99</td>\n",
       "      <td>Ituau county, American Samoa</td>\n",
       "      <td>00</td>\n",
       "      <td>60</td>\n",
       "      <td>37700</td>\n",
       "      <td>AS</td>\n",
       "      <td>60</td>\n",
       "    </tr>\n",
       "    <tr>\n",
       "      <th>1</th>\n",
       "      <td>1</td>\n",
       "      <td>4344</td>\n",
       "      <td>164</td>\n",
       "      <td>Total for all sectors</td>\n",
       "      <td>99</td>\n",
       "      <td>Ma'oputasi county, American Samoa</td>\n",
       "      <td>00</td>\n",
       "      <td>60</td>\n",
       "      <td>51300</td>\n",
       "      <td>AS</td>\n",
       "      <td>60</td>\n",
       "    </tr>\n",
       "    <tr>\n",
       "      <th>2</th>\n",
       "      <td>2</td>\n",
       "      <td>0</td>\n",
       "      <td>5</td>\n",
       "      <td>Total for all sectors</td>\n",
       "      <td>99</td>\n",
       "      <td>Sa'ole county, American Samoa</td>\n",
       "      <td>00</td>\n",
       "      <td>60</td>\n",
       "      <td>67300</td>\n",
       "      <td>AS</td>\n",
       "      <td>60</td>\n",
       "    </tr>\n",
       "    <tr>\n",
       "      <th>3</th>\n",
       "      <td>3</td>\n",
       "      <td>0</td>\n",
       "      <td>4</td>\n",
       "      <td>Total for all sectors</td>\n",
       "      <td>99</td>\n",
       "      <td>Sua county, American Samoa</td>\n",
       "      <td>00</td>\n",
       "      <td>60</td>\n",
       "      <td>72100</td>\n",
       "      <td>AS</td>\n",
       "      <td>60</td>\n",
       "    </tr>\n",
       "    <tr>\n",
       "      <th>4</th>\n",
       "      <td>4</td>\n",
       "      <td>0</td>\n",
       "      <td>1</td>\n",
       "      <td>Total for all sectors</td>\n",
       "      <td>99</td>\n",
       "      <td>Vaifanua county, American Samoa</td>\n",
       "      <td>00</td>\n",
       "      <td>60</td>\n",
       "      <td>86500</td>\n",
       "      <td>AS</td>\n",
       "      <td>60</td>\n",
       "    </tr>\n",
       "  </tbody>\n",
       "</table>\n",
       "</div>"
      ],
      "text/plain": [
       "   Unnamed: 0   EMP  ESTAB          NAICS2012_TTL OPTAX  \\\n",
       "0           0   874     63  Total for all sectors    99   \n",
       "1           1  4344    164  Total for all sectors    99   \n",
       "2           2     0      5  Total for all sectors    99   \n",
       "3           3     0      4  Total for all sectors    99   \n",
       "4           4     0      1  Total for all sectors    99   \n",
       "\n",
       "                             GEO_TTL NAICS2012 state  place postal fips  \n",
       "0       Ituau county, American Samoa        00    60  37700     AS   60  \n",
       "1  Ma'oputasi county, American Samoa        00    60  51300     AS   60  \n",
       "2      Sa'ole county, American Samoa        00    60  67300     AS   60  \n",
       "3         Sua county, American Samoa        00    60  72100     AS   60  \n",
       "4    Vaifanua county, American Samoa        00    60  86500     AS   60  "
      ]
     },
     "execution_count": 13,
     "metadata": {},
     "output_type": "execute_result"
    }
   ],
   "source": [
    "data_2012_us.head()"
   ]
  },
  {
   "cell_type": "code",
   "execution_count": 14,
   "metadata": {},
   "outputs": [],
   "source": [
    "#Get territory fips\n",
    "not_us_states = ['60','66','69','72','78']"
   ]
  },
  {
   "cell_type": "code",
   "execution_count": 15,
   "metadata": {},
   "outputs": [],
   "source": [
    "#remove territories \n",
    "data_2012_states = data_2012_us.loc[~data_2012_us['fips'].isin(not_us_states)]"
   ]
  },
  {
   "cell_type": "code",
   "execution_count": 16,
   "metadata": {},
   "outputs": [],
   "source": [
    "#Remove county balances\n",
    "data_2012_cities = data_2012_states[~data_2012_states['GEO_TTL'].str.contains('Balance')]"
   ]
  },
  {
   "cell_type": "code",
   "execution_count": 17,
   "metadata": {},
   "outputs": [],
   "source": [
    "#define tax codes of interest\n",
    "tax_codes = ['99','A']"
   ]
  },
  {
   "cell_type": "code",
   "execution_count": 18,
   "metadata": {},
   "outputs": [],
   "source": [
    "#Filter data to said tax codes\n",
    "data_2012_cities_all_occupation_1 = data_2012_cities.loc[data_2012_cities['OPTAX'].isin(tax_codes)]"
   ]
  },
  {
   "cell_type": "code",
   "execution_count": 19,
   "metadata": {},
   "outputs": [],
   "source": [
    "#Drop duplicates\n",
    "data_2012_cities_remove_dupes = data_2012_cities_all_occupation_1.drop_duplicates() "
   ]
  },
  {
   "cell_type": "code",
   "execution_count": 21,
   "metadata": {},
   "outputs": [
    {
     "name": "stderr",
     "output_type": "stream",
     "text": [
      "/usr/local/Anaconda3-5.0.0-Linux-x86_64/envs/PUI2016_Python3/lib/python3.5/site-packages/ipykernel/__main__.py:7: SettingWithCopyWarning: \n",
      "A value is trying to be set on a copy of a slice from a DataFrame.\n",
      "Try using .loc[row_indexer,col_indexer] = value instead\n",
      "\n",
      "See the caveats in the documentation: http://pandas.pydata.org/pandas-docs/stable/indexing.html#indexing-view-versus-copy\n"
     ]
    }
   ],
   "source": [
    "#Begin to clean city name to split on city, CPD, or town. For instance we don't want New York City city, just New York City\n",
    "data_2012_cities_remove_dupes['city_name'] = pd.np.where(data_2012_cities_remove_dupes.GEO_TTL.str.contains(\"city\"),\n",
    "                                                         data_2012_cities_remove_dupes.GEO_TTL.str.split(\"city\"),\n",
    "                                             pd.np.where(data_2012_cities_remove_dupes.GEO_TTL.str.contains(\"CDP\"),\n",
    "                                                         data_2012_cities_remove_dupes.GEO_TTL.str.split(\"CDP\"),\n",
    "                                             pd.np.where(data_2012_cities_remove_dupes.GEO_TTL.str.contains(\"town\"),\n",
    "                                                         data_2012_cities_remove_dupes.GEO_TTL.str.split(\"town\"), \n",
    "                                                         \"task\")))"
   ]
  },
  {
   "cell_type": "code",
   "execution_count": 22,
   "metadata": {},
   "outputs": [
    {
     "name": "stderr",
     "output_type": "stream",
     "text": [
      "/usr/local/Anaconda3-5.0.0-Linux-x86_64/envs/PUI2016_Python3/lib/python3.5/site-packages/ipykernel/__main__.py:1: SettingWithCopyWarning: \n",
      "A value is trying to be set on a copy of a slice from a DataFrame.\n",
      "Try using .loc[row_indexer,col_indexer] = value instead\n",
      "\n",
      "See the caveats in the documentation: http://pandas.pydata.org/pandas-docs/stable/indexing.html#indexing-view-versus-copy\n",
      "  if __name__ == '__main__':\n"
     ]
    }
   ],
   "source": [
    "#select only the city name\n",
    "data_2012_cities_remove_dupes['city_name'] = data_2012_cities_remove_dupes['city_name'].str[0]"
   ]
  },
  {
   "cell_type": "code",
   "execution_count": 23,
   "metadata": {},
   "outputs": [
    {
     "name": "stderr",
     "output_type": "stream",
     "text": [
      "/usr/local/Anaconda3-5.0.0-Linux-x86_64/envs/PUI2016_Python3/lib/python3.5/site-packages/ipykernel/__main__.py:1: SettingWithCopyWarning: \n",
      "A value is trying to be set on a copy of a slice from a DataFrame.\n",
      "Try using .loc[row_indexer,col_indexer] = value instead\n",
      "\n",
      "See the caveats in the documentation: http://pandas.pydata.org/pandas-docs/stable/indexing.html#indexing-view-versus-copy\n",
      "  if __name__ == '__main__':\n"
     ]
    }
   ],
   "source": [
    "#Create the unique city_state code\n",
    "data_2012_cities_remove_dupes['city_state_code'] = data_2012_cities_remove_dupes['city_name'] + '_' + data_2012_cities_remove_dupes['postal']"
   ]
  },
  {
   "cell_type": "code",
   "execution_count": 25,
   "metadata": {},
   "outputs": [],
   "source": [
    "#Get a list of all unique NAICS titles\n",
    "jobs = list(data_2012['NAICS2012_TTL'].unique())"
   ]
  },
  {
   "cell_type": "code",
   "execution_count": 26,
   "metadata": {},
   "outputs": [
    {
     "name": "stdout",
     "output_type": "stream",
     "text": [
      "Heavy and civil engineering construction\n",
      "Heavy and civil engineering construction\n",
      "Veneer, plywood, and engineered wood product manufacturing\n",
      "Pharmaceutical and medicine manufacturing\n",
      "Electronic computer manufacturing\n",
      "Computer terminal and other computer peripheral equipment manufacturing\n",
      "Navigational, measuring, electromedical, and control instruments manufacturing\n",
      "Electromedical and electrotherapeutic apparatus manufacturing\n",
      "Surgical and medical instrument manufacturing\n",
      "Computer and computer peripheral equipment and software merchant wholesalers\n",
      "Computer and computer peripheral equipment merchant wholesalers\n",
      "Surgical, medical, and hospital supplies merchant wholesalers\n",
      "Sporting goods, hobby, musical instrument, and book stores\n",
      "Sporting goods, hobby, and musical instrument stores\n",
      "Other water passenger transportation (including water taxi)\n",
      "Cable and other subscription programming\n",
      "Direct life, health, and medical insurance carriers\n",
      "Direct health and medical insurance carriers\n",
      "Direct insurance (except life, health, and medical) carriers\n",
      "Other direct insurance (except life, health, and medical) carriers\n",
      "Offices of lawyers\n",
      "Legal aid societies and similar legal services\n",
      "Other legal services\n",
      "All other legal services\n",
      "Accounting, tax preparation, bookkeeping, and payroll services\n",
      "Other accounting services\n",
      "Architectural, engineering, and related services\n",
      "Architectural, engineering, and related services\n",
      "Custom computer programming services\n",
      "Custom computer programming services\n",
      "Other computer related services\n",
      "Scientific research and development services\n",
      "Scientific research and development services\n",
      "Research and development in the physical, engineering, and life sciences\n",
      "Research and development in the physical, engineering, and life sciences\n",
      "Research and development in the physical, engineering, and life sciences\n",
      "Research and development in the physical, engineering, and life sciences\n",
      "Research and development in biotechnology\n",
      "Research and development in biotechnology\n",
      "Research and development in biotechnology\n",
      "Research and development in the physical, engineering, and life sciences (except biotechnology)\n",
      "Research and development in the physical, engineering, and life sciences (except biotechnology)\n",
      "Research and development in the physical, engineering, and life sciences (except biotechnology)\n",
      "Research and development in the physical, engineering, and life sciences (except biotechnology)\n",
      "Research and development in the physical, engineering, and life sciences (except biotechnology)\n",
      "Research and development in the physical, engineering, and life sciences (except biotechnology)\n",
      "Research and development in the physical and engineering sciences\n",
      "Research and development in the physical and engineering sciences\n",
      "Research and development in the physical and engineering sciences\n",
      "Research and development in the physical and engineering sciences\n",
      "Research and development in other life sciences\n",
      "Research and development in other life sciences\n",
      "Research and development in the social sciences and humanities\n",
      "Research and development in the social sciences and humanities\n",
      "Marketing research and public opinion polling\n",
      "Economic or industrial planning or development organization\n",
      "Economic or industrial planning or development organization\n",
      "Business schools and computer and management training\n",
      "Professional and management development training\n",
      "Art, drama, and music schools\n",
      "Family planning centers\n",
      "HMO medical centers\n",
      "Freestanding ambulatory surgical and emergency centers\n",
      "General medical and surgical hospitals\n",
      "General medical and surgical hospitals\n",
      "General medical and surgical hospitals, government\n",
      "General medical and surgical hospitals, government\n",
      "General medical and surgical hospitals, except government\n",
      "General medical and surgical hospitals, except government\n",
      "Residential intellectual and developmental disability, mental health, and substance abuse facilities\n",
      "Residential intellectual and developmental disability facilities\n",
      "Musical groups and artists\n",
      "Symphony orchestras and chamber music organizations\n",
      "Other music groups and artists\n",
      "Other music groups and artists\n",
      "Agents and managers for artists, athletes, entertainers, and other public figures\n",
      "Independent artists, writers, and performers\n"
     ]
    }
   ],
   "source": [
    "#Select all job titles with certain creative class\n",
    "for i in jobs:\n",
    "    if 'engineering' in i:\n",
    "        print(i)\n",
    "    if 'science' in i:\n",
    "        print(i)\n",
    "    if 'lawyer' in i:\n",
    "        print(i)\n",
    "    if 'medical' in i:\n",
    "        print(i)\n",
    "    if 'medicine' in i:\n",
    "        print(i)\n",
    "    if 'education' in i:\n",
    "        print(i)    \n",
    "    if 'computer' in i:\n",
    "        print(i)     \n",
    "    if 'accounting' in i:\n",
    "        print(i)    \n",
    "    if 'engineer' in i:\n",
    "        print(i)\n",
    "    if 'tax' in i:\n",
    "        print(i)\n",
    "    if 'technology' in i:\n",
    "        print(i)\n",
    "    if 'programming' in i:\n",
    "        print(i)\n",
    "    if 'artists' in i:\n",
    "        print(i)\n",
    "    if 'music' in i:\n",
    "        print(i)\n",
    "    if 'bio' in i:\n",
    "        print(i)\n",
    "    if 'research' in i:\n",
    "        print(i)\n",
    "    if 'legal' in i:\n",
    "        print(i)\n",
    "    if 'development' in i:\n",
    "        print(i)\n",
    "    if 'planning' in i:\n",
    "        print(i)\n",
    "    if 'surgical' in i:\n",
    "        print(i)"
   ]
  },
  {
   "cell_type": "code",
   "execution_count": 27,
   "metadata": {},
   "outputs": [],
   "source": [
    "#create a list of job tittles that would be a part of the creative class\n",
    "creative_class = ['Heavy and civil engineering construction',\n",
    "'Veneer, plywood, and engineered wood product manufacturing',\n",
    "'Pharmaceutical and medicine manufacturing',\n",
    "'Electronic computer manufacturing',\n",
    "'Computer terminal and other computer peripheral equipment manufacturing',\n",
    "'Navigational, measuring, electromedical, and control instruments manufacturing',\n",
    "'Electromedical and electrotherapeutic apparatus manufacturing',\n",
    "'Surgical and medical instrument manufacturing',\n",
    "'Computer and computer peripheral equipment and software merchant wholesalers',\n",
    "'Computer and computer peripheral equipment merchant wholesalers',\n",
    "'Surgical, medical, and hospital supplies merchant wholesalers',\n",
    "'Direct life, health, and medical insurance carriers',\n",
    "'Direct health and medical insurance carriers',\n",
    "'Direct insurance (except life, health, and medical) carriers',\n",
    "'Offices of lawyers',\n",
    "'Legal aid societies and similar legal services',\n",
    "'Other legal services',\n",
    "'All other legal services',\n",
    "'Accounting, tax preparation, bookkeeping, and payroll services',\n",
    "'Other accounting services',\n",
    "'Architectural, engineering, and related services',\n",
    "'Custom computer programming services',\n",
    "'Other computer related services',\n",
    "'Scientific research and development services',\n",
    "'Research and development in the physical, engineering, and life sciences',\n",
    "'Research and development in the physical, engineering, and life sciences',\n",
    "'Research and development in biotechnology',\n",
    "'Research and development in the physical, engineering, and life sciences (except biotechnology)',\n",
    "'Research and development in the physical and engineering sciences',\n",
    "'Research and development in other life sciences',\n",
    "'Research and development in the social sciences and humanities',\n",
    "'Marketing research and public opinion polling',\n",
    "'Economic or industrial planning or development organization',\n",
    "'Business schools and computer and management training',\n",
    "'Professional and management development training',\n",
    "'Art, drama, and music schools',\n",
    "'Family planning centers',\n",
    "'HMO medical centers',\n",
    "'Freestanding ambulatory surgical and emergency centers',\n",
    "'General medical and surgical hospitals',\n",
    "'General medical and surgical hospitals, government',\n",
    "'General medical and surgical hospitals, except government',\n",
    "'Residential intellectual and developmental disability, mental health, and substance abuse facilities',\n",
    "'Residential intellectual and developmental disability facilities',\n",
    "'Musical groups and artists',\n",
    "'Symphony orchestras and chamber music organizations',\n",
    "'Other music groups and artists',\n",
    "'Agents and managers for artists, athletes, entertainers, and other public figures',\n",
    "'Independent artists, writers, and performers']"
   ]
  },
  {
   "cell_type": "code",
   "execution_count": 28,
   "metadata": {},
   "outputs": [
    {
     "name": "stderr",
     "output_type": "stream",
     "text": [
      "/usr/local/Anaconda3-5.0.0-Linux-x86_64/envs/PUI2016_Python3/lib/python3.5/site-packages/ipykernel/__main__.py:5: SettingWithCopyWarning: \n",
      "A value is trying to be set on a copy of a slice from a DataFrame.\n",
      "Try using .loc[row_indexer,col_indexer] = value instead\n",
      "\n",
      "See the caveats in the documentation: http://pandas.pydata.org/pandas-docs/stable/indexing.html#indexing-view-versus-copy\n"
     ]
    }
   ],
   "source": [
    "#case when clause to define which jobs and establishments would be labeled as creative\n",
    "data_2012_cities_remove_dupes['class'] = pd.np.where(\n",
    "     data_2012_cities_remove_dupes['NAICS2012_TTL'].isin(creative_class), \n",
    "    '1_creative',  \n",
    "    pd.np.where(~data_2012_cities_remove_dupes['NAICS2012_TTL'].isin(creative_class), \n",
    "    '2_regular','3_none'\n",
    "     ))"
   ]
  },
  {
   "cell_type": "code",
   "execution_count": 29,
   "metadata": {},
   "outputs": [
    {
     "data": {
      "text/plain": [
       "array(['2_regular', '1_creative'], dtype=object)"
      ]
     },
     "execution_count": 29,
     "metadata": {},
     "output_type": "execute_result"
    }
   ],
   "source": [
    "#QA to determine that everything is either regular or creative\n",
    "data_2012_cities_remove_dupes['class'].unique()"
   ]
  },
  {
   "cell_type": "code",
   "execution_count": 30,
   "metadata": {},
   "outputs": [],
   "source": [
    "#reset the index\n",
    "data_2012_cleaned_ = data_2012_cities_remove_dupes.reset_index()"
   ]
  },
  {
   "cell_type": "code",
   "execution_count": 31,
   "metadata": {},
   "outputs": [],
   "source": [
    "#save this datset as semi processed (will be needed for 2002 and 2007 years without NAICS tittles)\n",
    "data_2012_cleaned_.to_csv('2012_semi_processed.csv')"
   ]
  },
  {
   "cell_type": "code",
   "execution_count": 32,
   "metadata": {},
   "outputs": [],
   "source": [
    "#select columns of interest\n",
    "data_2012_cleaned_ = data_2012_cleaned_af[['city_state_code','EMP','ESTAB','class']]"
   ]
  },
  {
   "cell_type": "code",
   "execution_count": 34,
   "metadata": {},
   "outputs": [],
   "source": [
    "#Groupby by and unstack by class\n",
    "econ_data_final = data_2012_cleaned_af.groupby(['city_state_code','class']).sum().unstack()"
   ]
  },
  {
   "cell_type": "code",
   "execution_count": 36,
   "metadata": {},
   "outputs": [],
   "source": [
    "#reset the index and rename the columns\n",
    "econ_data_final = econ_data_final.reset_index()\n",
    "econ_data_final.columns = ['city_state','creative_employees','regular_employees',\n",
    "                           'creative_establishments','regular_establishments']"
   ]
  },
  {
   "cell_type": "code",
   "execution_count": 40,
   "metadata": {},
   "outputs": [],
   "source": [
    "#write out the dataframe to csv\n",
    "econ_data_final.to_csv('2012_creative_class.csv')"
   ]
  },
  {
   "cell_type": "code",
   "execution_count": null,
   "metadata": {},
   "outputs": [],
   "source": []
  }
 ],
 "metadata": {
  "kernelspec": {
   "display_name": "PUI2016_Python3",
   "language": "python",
   "name": "pui2016_python3"
  },
  "language_info": {
   "codemirror_mode": {
    "name": "ipython",
    "version": 3
   },
   "file_extension": ".py",
   "mimetype": "text/x-python",
   "name": "python",
   "nbconvert_exporter": "python",
   "pygments_lexer": "ipython3",
   "version": "3.5.4"
  }
 },
 "nbformat": 4,
 "nbformat_minor": 2
}
