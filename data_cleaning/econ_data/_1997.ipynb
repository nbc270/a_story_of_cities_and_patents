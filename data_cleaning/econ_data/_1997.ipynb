{
 "cells": [
  {
   "cell_type": "code",
   "execution_count": 1,
   "metadata": {},
   "outputs": [],
   "source": [
    "import pandas as pd\n",
    "import requests"
   ]
  },
  {
   "cell_type": "code",
   "execution_count": 2,
   "metadata": {},
   "outputs": [],
   "source": [
    "_1997 = requests.get('https://api.census.gov/data/1997/ewks?get=GEO_TTL,NAICS1997_TTL,EMP,ESTAB,OPTAX&for=place:*&NAICS1997=*')"
   ]
  },
  {
   "cell_type": "code",
   "execution_count": 3,
   "metadata": {},
   "outputs": [],
   "source": [
    "data = _1997.json()[1:]\n",
    "schema = _1997.json()[0]"
   ]
  },
  {
   "cell_type": "code",
   "execution_count": 4,
   "metadata": {},
   "outputs": [],
   "source": [
    "df = pd.DataFrame(data)"
   ]
  },
  {
   "cell_type": "code",
   "execution_count": 5,
   "metadata": {},
   "outputs": [],
   "source": [
    "df.columns = schema"
   ]
  },
  {
   "cell_type": "code",
   "execution_count": 6,
   "metadata": {},
   "outputs": [
    {
     "data": {
      "text/html": [
       "<div>\n",
       "<table border=\"1\" class=\"dataframe\">\n",
       "  <thead>\n",
       "    <tr style=\"text-align: right;\">\n",
       "      <th></th>\n",
       "      <th>GEO_TTL</th>\n",
       "      <th>NAICS1997_TTL</th>\n",
       "      <th>EMP</th>\n",
       "      <th>ESTAB</th>\n",
       "      <th>OPTAX</th>\n",
       "      <th>NAICS1997</th>\n",
       "      <th>state</th>\n",
       "      <th>place</th>\n",
       "    </tr>\n",
       "  </thead>\n",
       "  <tbody>\n",
       "    <tr>\n",
       "      <th>0</th>\n",
       "      <td>Arab, AL</td>\n",
       "      <td>Manufacturing</td>\n",
       "      <td>2661</td>\n",
       "      <td>26</td>\n",
       "      <td>99</td>\n",
       "      <td>31-33</td>\n",
       "      <td>01</td>\n",
       "      <td>02116</td>\n",
       "    </tr>\n",
       "    <tr>\n",
       "      <th>1</th>\n",
       "      <td>Birmingham, AL</td>\n",
       "      <td>Manufacturing</td>\n",
       "      <td>19057</td>\n",
       "      <td>382</td>\n",
       "      <td>99</td>\n",
       "      <td>31-33</td>\n",
       "      <td>01</td>\n",
       "      <td>07000</td>\n",
       "    </tr>\n",
       "    <tr>\n",
       "      <th>2</th>\n",
       "      <td>Boaz, AL</td>\n",
       "      <td>Manufacturing</td>\n",
       "      <td>4488</td>\n",
       "      <td>20</td>\n",
       "      <td>99</td>\n",
       "      <td>31-33</td>\n",
       "      <td>01</td>\n",
       "      <td>07912</td>\n",
       "    </tr>\n",
       "    <tr>\n",
       "      <th>3</th>\n",
       "      <td>Decatur, AL</td>\n",
       "      <td>Manufacturing</td>\n",
       "      <td>8495</td>\n",
       "      <td>124</td>\n",
       "      <td>99</td>\n",
       "      <td>31-33</td>\n",
       "      <td>01</td>\n",
       "      <td>20104</td>\n",
       "    </tr>\n",
       "    <tr>\n",
       "      <th>4</th>\n",
       "      <td>Dothan, AL</td>\n",
       "      <td>Manufacturing</td>\n",
       "      <td>8269</td>\n",
       "      <td>102</td>\n",
       "      <td>99</td>\n",
       "      <td>31-33</td>\n",
       "      <td>01</td>\n",
       "      <td>21184</td>\n",
       "    </tr>\n",
       "  </tbody>\n",
       "</table>\n",
       "</div>"
      ],
      "text/plain": [
       "          GEO_TTL  NAICS1997_TTL    EMP ESTAB OPTAX NAICS1997 state  place\n",
       "0        Arab, AL  Manufacturing   2661    26    99     31-33    01  02116\n",
       "1  Birmingham, AL  Manufacturing  19057   382    99     31-33    01  07000\n",
       "2        Boaz, AL  Manufacturing   4488    20    99     31-33    01  07912\n",
       "3     Decatur, AL  Manufacturing   8495   124    99     31-33    01  20104\n",
       "4      Dothan, AL  Manufacturing   8269   102    99     31-33    01  21184"
      ]
     },
     "execution_count": 6,
     "metadata": {},
     "output_type": "execute_result"
    }
   ],
   "source": [
    "df.head()"
   ]
  },
  {
   "cell_type": "code",
   "execution_count": 24,
   "metadata": {},
   "outputs": [],
   "source": [
    "jobs = list(df['NAICS1997_TTL'].unique())"
   ]
  },
  {
   "cell_type": "code",
   "execution_count": 26,
   "metadata": {},
   "outputs": [
    {
     "name": "stdout",
     "output_type": "stream",
     "text": [
      "R&D in the physical, engineering, & life sciences\n",
      "R&D in the physical & engineering sciences\n",
      "Research & development in the life sciences\n",
      "Research & development in the social sciences & humanitie\n",
      "Research & development in the social sciences & humanities\n",
      "R&D in the social sciences & humanities\n"
     ]
    }
   ],
   "source": [
    "for i in jobs:\n",
    "    if 'science' in i:\n",
    "        print(i)"
   ]
  },
  {
   "cell_type": "code",
   "execution_count": 27,
   "metadata": {},
   "outputs": [
    {
     "name": "stdout",
     "output_type": "stream",
     "text": [
      "Architectural, engineering, & related services\n",
      "R&D in the physical, engineering, & life sciences\n",
      "R&D in the physical & engineering sciences\n"
     ]
    }
   ],
   "source": [
    "for i in jobs:\n",
    "    if 'engineering' in i:\n",
    "        print(i)"
   ]
  },
  {
   "cell_type": "code",
   "execution_count": 28,
   "metadata": {},
   "outputs": [
    {
     "name": "stdout",
     "output_type": "stream",
     "text": [
      "Electronic computer mfg\n",
      "Other computer peripheral equipment mfg\n",
      "Computer & computer peripheral equipment & software whsle\n",
      "Custom computer programming services\n",
      "Other computer related services\n",
      "Business schools, & computer & management training\n"
     ]
    }
   ],
   "source": [
    "for i in jobs:\n",
    "    if 'computer' in i:\n",
    "        print(i)"
   ]
  },
  {
   "cell_type": "code",
   "execution_count": 29,
   "metadata": {},
   "outputs": [
    {
     "name": "stdout",
     "output_type": "stream",
     "text": [
      "Lawn & garden tractor & home lawn & garden equipment mfg\n",
      "Household & lawn furniture whsle\n",
      "Offices of lawyers\n",
      "Offices of lawyers (except legal aid societies)\n"
     ]
    }
   ],
   "source": [
    "for i in jobs:\n",
    "    if 'law' in i:\n",
    "        print(i)"
   ]
  },
  {
   "cell_type": "code",
   "execution_count": 30,
   "metadata": {},
   "outputs": [],
   "source": [
    "for i in jobs:\n",
    "    if 'bio' in i:\n",
    "        print(i)"
   ]
  },
  {
   "cell_type": "code",
   "execution_count": 32,
   "metadata": {},
   "outputs": [
    {
     "name": "stdout",
     "output_type": "stream",
     "text": [
      "Motor vehicle parts mfg\n",
      "Motor vehicle gasoline engine & engine parts mfg\n",
      "Gasoline engine & engine parts mfg\n",
      "Motor vehicle transmission & power train parts mfg\n",
      "Other motor vehicle parts mfg\n",
      "All other motor vehicle parts mfg\n",
      "Aerospace product & parts mfg\n",
      "Aircraft engine & engine parts mfg\n",
      "Guided missile & space vehicle propulsion unit & parts mfg\n",
      "Other guided missile & space vehicle parts & auxiliary equip mfg\n",
      "Motorcycle, bicycle, & parts mfg\n",
      "Motor vehicle & motor vehicle parts & supplies whsle\n",
      "Motor vehicle supplies & new parts whsle\n",
      "Motor vehicle supplies & new parts - warehouse distributors\n",
      "Motor vehicle supplies & new parts - jobbers\n",
      "Motor vehicle parts, (used) whsle\n",
      "Other electronic parts & equipment whsle\n",
      "Electronic parts (excluding communications equipment) whsle\n",
      "Hydraulic & pneumatic parts, accessories, & supplies whsle\n",
      "Motor vehicle & parts dealers\n",
      "Automotive parts, accessories, & tire stores\n",
      "Automotive parts & accessories stores\n",
      "Fine arts schools\n",
      "Performing arts, spectator sports, & related industries\n",
      "Performing arts companies\n",
      "Other performing arts companies\n",
      "Other performing arts companies (except circuses)\n",
      "Promoters of performing arts, sports, & similar events\n",
      "Promoters of performing arts, sports, & similar events w/\n",
      "Promoters of performing arts, sports, & similar events w/facility\n",
      "Promoters of performing arts, sports, & similar events w/o facil\n"
     ]
    }
   ],
   "source": [
    "for i in jobs:\n",
    "    if 'arts' in i:\n",
    "        print(i)"
   ]
  },
  {
   "cell_type": "code",
   "execution_count": 33,
   "metadata": {},
   "outputs": [],
   "source": [
    "df.to_csv('1997.csv')"
   ]
  },
  {
   "cell_type": "code",
   "execution_count": null,
   "metadata": {},
   "outputs": [],
   "source": []
  }
 ],
 "metadata": {
  "kernelspec": {
   "display_name": "PUI2016_Python3",
   "language": "python",
   "name": "pui2016_python3"
  },
  "language_info": {
   "codemirror_mode": {
    "name": "ipython",
    "version": 3
   },
   "file_extension": ".py",
   "mimetype": "text/x-python",
   "name": "python",
   "nbconvert_exporter": "python",
   "pygments_lexer": "ipython3",
   "version": "3.5.4"
  }
 },
 "nbformat": 4,
 "nbformat_minor": 2
}
