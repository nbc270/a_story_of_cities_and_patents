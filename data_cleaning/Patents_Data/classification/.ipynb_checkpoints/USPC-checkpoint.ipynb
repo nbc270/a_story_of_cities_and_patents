{
 "cells": [
  {
   "cell_type": "markdown",
   "metadata": {},
   "source": [
    "# Overview of the U.S. Patent Classification System (USPC) \n",
    "\n",
    "## Background Info\n",
    "A class generally delineates one technology from another. Subclasses delineate processes, structural features, and functional features of the subject matter encompassed within the scope of a class.\n",
    "\n",
    "A class/subclass pair of identifiers uniquely identifies a subclass within a class (for\n",
    "example, the identifier “2/456” represents Class 2, Apparel, subclass 456, Body cover).\n",
    "\n",
    "A USPC classification uniquely identifies one of the more than 150,000 subclasses in the\n",
    "USPC. Because subclass identifiers may be repeated among the more than 450 classes, a\n",
    "USPC classification must include both a class and a subclass. \n",
    "\n",
    "A class schedule is a listing of all the subclasses in a class in top-tobottom order of classification precedence, with the most complex and comprehensive subject matter generally at the top of the schedule, and the least complex and comprehensive at the bottom. \n",
    "\n",
    "The United States Patent Classification Standards and Procedures (USPCLASP) is\n",
    "the official guide for conducting a reclassification project, including classifying\n",
    "documents into the USPC, creating new classes and subclasses, and modifying or\n",
    "abolishing existing classes and subclasses. \n",
    "\n",
    "Other Considerations:\n",
    "- Every U.S. patent\n",
    "document has at least one mandatory classification, and may optionally include one or\n",
    "more discretionary classifications. \n",
    "\n",
    "\n",
    "- “Invention information” is the technical subject matter disclosed in a\n",
    "document that is new and non-obvious to one having ordinary skill in the technical field.\n",
    "“Other” information is non-trivial, technical subject matter that is not invention\n",
    "information, but which otherwise clearly teaches or illustrates a principle that would be\n",
    "useful for search purposes. \n",
    "\n",
    "## How Class is Determined\n",
    "\n",
    "Using the claims as a\n",
    "guide. \n",
    "\n",
    "U.S. patents receive a mandatory classification for all claimed disclosure, that is, the\n",
    "claims are read in conjunction with the specification since the claims define the invention\n",
    "information.\n",
    "\n",
    "A classification is assigned to the patent where each of its claims is\n",
    "separately classified.\n",
    "\n",
    "Both novel and non-obvious considered to be “invention information.”  Published patent applications documents may additionally be\n",
    " assigned discretionary classifications based on other, non-invention information\n",
    " disclosure. \n",
    "\n",
    "\n",
    ".... \n",
    "\n",
    "\n",
    "Patent applications classified in particular subclasses are generally examined by the\n",
    "examining personnel responsible for those subclasses. \n",
    "\n",
    "\n",
    "https://www.uspto.gov/sites/default/files/patents/resources/classification/overview.pdf"
   ]
  },
  {
   "cell_type": "markdown",
   "metadata": {},
   "source": [
    "potentially helpful package\n",
    "https://github.com/daneads/pypatent"
   ]
  },
  {
   "cell_type": "code",
   "execution_count": 1,
   "metadata": {},
   "outputs": [],
   "source": [
    "import pandas as pd\n",
    "import numpy as np\n",
    "import json\n",
    "import requests\n",
    "import json\n",
    "from datetime import datetime\n",
    "import ast"
   ]
  },
  {
   "cell_type": "markdown",
   "metadata": {},
   "source": [
    "# Data Dive"
   ]
  },
  {
   "cell_type": "code",
   "execution_count": 4,
   "metadata": {},
   "outputs": [
    {
     "data": {
      "text/plain": [
       "u'/projects/cps2019_funding/shared/Patents_Data/classification'"
      ]
     },
     "execution_count": 4,
     "metadata": {},
     "output_type": "execute_result"
    }
   ],
   "source": [
    "pwd"
   ]
  },
  {
   "cell_type": "code",
   "execution_count": 5,
   "metadata": {},
   "outputs": [],
   "source": [
    "pat0401 = pd.read_csv(\"/projects/cps2019_funding/shared/Patents_Data/patentData/patents_200401\")"
   ]
  },
  {
   "cell_type": "code",
   "execution_count": 6,
   "metadata": {},
   "outputs": [],
   "source": [
    "pat0405 = pd.read_csv(\"/projects/cps2019_funding/shared/Patents_Data/patentData/patents_200405\")"
   ]
  },
  {
   "cell_type": "code",
   "execution_count": 7,
   "metadata": {},
   "outputs": [],
   "source": [
    "pat0409 = pd.read_csv(\"/projects/cps2019_funding/shared/Patents_Data/patentData/patents_200409\")"
   ]
  },
  {
   "cell_type": "code",
   "execution_count": 8,
   "metadata": {},
   "outputs": [
    {
     "data": {
      "text/html": [
       "<div>\n",
       "<table border=\"1\" class=\"dataframe\">\n",
       "  <thead>\n",
       "    <tr style=\"text-align: right;\">\n",
       "      <th></th>\n",
       "      <th>Unnamed: 0</th>\n",
       "      <th>IPCs</th>\n",
       "      <th>applications</th>\n",
       "      <th>assignees</th>\n",
       "      <th>cited_patents</th>\n",
       "      <th>cpcs</th>\n",
       "      <th>nbers</th>\n",
       "      <th>patent_abstract</th>\n",
       "      <th>patent_id</th>\n",
       "      <th>patent_type</th>\n",
       "      <th>uspcs</th>\n",
       "      <th>wipos</th>\n",
       "    </tr>\n",
       "  </thead>\n",
       "  <tbody>\n",
       "    <tr>\n",
       "      <th>0</th>\n",
       "      <td>0</td>\n",
       "      <td>[{u'ipc_section': u'H', u'ipc_subclass': u'R',...</td>\n",
       "      <td>[{u'app_type': u'10', u'app_id': u'10/592576'}]</td>\n",
       "      <td>[{u'assignee_key_id': u'487946', u'assignee_ci...</td>\n",
       "      <td>[{u'cited_patent_category': u'cited by examine...</td>\n",
       "      <td>[{u'cpc_subgroup_title': u'Stereophonic arrang...</td>\n",
       "      <td>[{u'nber_category_title': None, u'nber_subcate...</td>\n",
       "      <td>A Closed Loop Headphone Apparatus with 1, 2, 3...</td>\n",
       "      <td>10028058</td>\n",
       "      <td>utility</td>\n",
       "      <td>[{u'uspc_mainclass_title': None, u'uspc_sequen...</td>\n",
       "      <td>[{u'wipo_field_title': u'Audio-visual technolo...</td>\n",
       "    </tr>\n",
       "    <tr>\n",
       "      <th>1</th>\n",
       "      <td>1</td>\n",
       "      <td>[{u'ipc_section': u'C', u'ipc_subclass': u'N',...</td>\n",
       "      <td>[{u'app_type': u'10', u'app_id': u'10/829504'}]</td>\n",
       "      <td>[{u'assignee_key_id': u'129714', u'assignee_ci...</td>\n",
       "      <td>[{u'cited_patent_category': u'cited by applica...</td>\n",
       "      <td>[{u'cpc_subgroup_title': u'Mutation or genetic...</td>\n",
       "      <td>[{u'nber_category_title': None, u'nber_subcate...</td>\n",
       "      <td>Materials and methods are provided for produci...</td>\n",
       "      <td>10100316</td>\n",
       "      <td>utility</td>\n",
       "      <td>[{u'uspc_mainclass_title': None, u'uspc_sequen...</td>\n",
       "      <td>[{u'wipo_field_title': u'Biotechnology', u'wip...</td>\n",
       "    </tr>\n",
       "    <tr>\n",
       "      <th>2</th>\n",
       "      <td>2</td>\n",
       "      <td>[{u'ipc_section': u'A', u'ipc_subclass': u'K',...</td>\n",
       "      <td>[{u'app_type': u'10', u'app_id': u'10/795128'}]</td>\n",
       "      <td>[{u'assignee_key_id': u'158959', u'assignee_ci...</td>\n",
       "      <td>[{u'cited_patent_category': u'cited by applica...</td>\n",
       "      <td>[{u'cpc_subgroup_title': u'Medicinal preparati...</td>\n",
       "      <td>[{u'nber_category_title': None, u'nber_subcate...</td>\n",
       "      <td>This invention provides methods and kits for m...</td>\n",
       "      <td>10105417</td>\n",
       "      <td>utility</td>\n",
       "      <td>[{u'uspc_mainclass_title': None, u'uspc_sequen...</td>\n",
       "      <td>[{u'wipo_field_title': u'Pharmaceuticals', u'w...</td>\n",
       "    </tr>\n",
       "    <tr>\n",
       "      <th>3</th>\n",
       "      <td>3</td>\n",
       "      <td>[{u'ipc_section': u'B', u'ipc_subclass': u'D',...</td>\n",
       "      <td>[{u'app_type': u'10', u'app_id': u'10/821311'}]</td>\n",
       "      <td>[{u'assignee_key_id': u'152087', u'assignee_ci...</td>\n",
       "      <td>[{u'cited_patent_category': u'cited by applica...</td>\n",
       "      <td>[{u'cpc_subgroup_title': u'Processes for apply...</td>\n",
       "      <td>[{u'nber_category_title': None, u'nber_subcate...</td>\n",
       "      <td>Devices and methods are provided for ejecting ...</td>\n",
       "      <td>10112212</td>\n",
       "      <td>utility</td>\n",
       "      <td>[{u'uspc_mainclass_title': None, u'uspc_sequen...</td>\n",
       "      <td>[{u'wipo_field_title': u'Surface technology, c...</td>\n",
       "    </tr>\n",
       "    <tr>\n",
       "      <th>4</th>\n",
       "      <td>4</td>\n",
       "      <td>[{u'ipc_section': u'G', u'ipc_subclass': u'Q',...</td>\n",
       "      <td>[{u'app_type': u'10', u'app_id': u'10/833495'}]</td>\n",
       "      <td>[{u'assignee_key_id': u'24540', u'assignee_cit...</td>\n",
       "      <td>[{u'cited_patent_category': u'cited by examine...</td>\n",
       "      <td>[{u'cpc_subgroup_title': u'Finance; Insurance;...</td>\n",
       "      <td>[{u'nber_category_title': None, u'nber_subcate...</td>\n",
       "      <td>A method and apparatus to manage accounts audi...</td>\n",
       "      <td>10115152</td>\n",
       "      <td>utility</td>\n",
       "      <td>[{u'uspc_mainclass_title': None, u'uspc_sequen...</td>\n",
       "      <td>[{u'wipo_field_title': u'IT methods for manage...</td>\n",
       "    </tr>\n",
       "  </tbody>\n",
       "</table>\n",
       "</div>"
      ],
      "text/plain": [
       "   Unnamed: 0                                               IPCs  \\\n",
       "0           0  [{u'ipc_section': u'H', u'ipc_subclass': u'R',...   \n",
       "1           1  [{u'ipc_section': u'C', u'ipc_subclass': u'N',...   \n",
       "2           2  [{u'ipc_section': u'A', u'ipc_subclass': u'K',...   \n",
       "3           3  [{u'ipc_section': u'B', u'ipc_subclass': u'D',...   \n",
       "4           4  [{u'ipc_section': u'G', u'ipc_subclass': u'Q',...   \n",
       "\n",
       "                                      applications  \\\n",
       "0  [{u'app_type': u'10', u'app_id': u'10/592576'}]   \n",
       "1  [{u'app_type': u'10', u'app_id': u'10/829504'}]   \n",
       "2  [{u'app_type': u'10', u'app_id': u'10/795128'}]   \n",
       "3  [{u'app_type': u'10', u'app_id': u'10/821311'}]   \n",
       "4  [{u'app_type': u'10', u'app_id': u'10/833495'}]   \n",
       "\n",
       "                                           assignees  \\\n",
       "0  [{u'assignee_key_id': u'487946', u'assignee_ci...   \n",
       "1  [{u'assignee_key_id': u'129714', u'assignee_ci...   \n",
       "2  [{u'assignee_key_id': u'158959', u'assignee_ci...   \n",
       "3  [{u'assignee_key_id': u'152087', u'assignee_ci...   \n",
       "4  [{u'assignee_key_id': u'24540', u'assignee_cit...   \n",
       "\n",
       "                                       cited_patents  \\\n",
       "0  [{u'cited_patent_category': u'cited by examine...   \n",
       "1  [{u'cited_patent_category': u'cited by applica...   \n",
       "2  [{u'cited_patent_category': u'cited by applica...   \n",
       "3  [{u'cited_patent_category': u'cited by applica...   \n",
       "4  [{u'cited_patent_category': u'cited by examine...   \n",
       "\n",
       "                                                cpcs  \\\n",
       "0  [{u'cpc_subgroup_title': u'Stereophonic arrang...   \n",
       "1  [{u'cpc_subgroup_title': u'Mutation or genetic...   \n",
       "2  [{u'cpc_subgroup_title': u'Medicinal preparati...   \n",
       "3  [{u'cpc_subgroup_title': u'Processes for apply...   \n",
       "4  [{u'cpc_subgroup_title': u'Finance; Insurance;...   \n",
       "\n",
       "                                               nbers  \\\n",
       "0  [{u'nber_category_title': None, u'nber_subcate...   \n",
       "1  [{u'nber_category_title': None, u'nber_subcate...   \n",
       "2  [{u'nber_category_title': None, u'nber_subcate...   \n",
       "3  [{u'nber_category_title': None, u'nber_subcate...   \n",
       "4  [{u'nber_category_title': None, u'nber_subcate...   \n",
       "\n",
       "                                     patent_abstract patent_id patent_type  \\\n",
       "0  A Closed Loop Headphone Apparatus with 1, 2, 3...  10028058     utility   \n",
       "1  Materials and methods are provided for produci...  10100316     utility   \n",
       "2  This invention provides methods and kits for m...  10105417     utility   \n",
       "3  Devices and methods are provided for ejecting ...  10112212     utility   \n",
       "4  A method and apparatus to manage accounts audi...  10115152     utility   \n",
       "\n",
       "                                               uspcs  \\\n",
       "0  [{u'uspc_mainclass_title': None, u'uspc_sequen...   \n",
       "1  [{u'uspc_mainclass_title': None, u'uspc_sequen...   \n",
       "2  [{u'uspc_mainclass_title': None, u'uspc_sequen...   \n",
       "3  [{u'uspc_mainclass_title': None, u'uspc_sequen...   \n",
       "4  [{u'uspc_mainclass_title': None, u'uspc_sequen...   \n",
       "\n",
       "                                               wipos  \n",
       "0  [{u'wipo_field_title': u'Audio-visual technolo...  \n",
       "1  [{u'wipo_field_title': u'Biotechnology', u'wip...  \n",
       "2  [{u'wipo_field_title': u'Pharmaceuticals', u'w...  \n",
       "3  [{u'wipo_field_title': u'Surface technology, c...  \n",
       "4  [{u'wipo_field_title': u'IT methods for manage...  "
      ]
     },
     "execution_count": 8,
     "metadata": {},
     "output_type": "execute_result"
    }
   ],
   "source": [
    "pat0401.head()"
   ]
  },
  {
   "cell_type": "code",
   "execution_count": 9,
   "metadata": {},
   "outputs": [],
   "source": [
    "pat04 = pd.concat([pat0401,pat0405,pat0409], axis=0)"
   ]
  },
  {
   "cell_type": "code",
   "execution_count": 10,
   "metadata": {},
   "outputs": [
    {
     "data": {
      "text/plain": [
       "(99144, 12)"
      ]
     },
     "execution_count": 10,
     "metadata": {},
     "output_type": "execute_result"
    }
   ],
   "source": [
    "pat04.shape"
   ]
  },
  {
   "cell_type": "code",
   "execution_count": 11,
   "metadata": {},
   "outputs": [],
   "source": [
    "pat = pat04.sample(frac=0.01, replace=False, random_state=42)"
   ]
  },
  {
   "cell_type": "code",
   "execution_count": 12,
   "metadata": {},
   "outputs": [
    {
     "data": {
      "text/plain": [
       "(991, 12)"
      ]
     },
     "execution_count": 12,
     "metadata": {},
     "output_type": "execute_result"
    }
   ],
   "source": [
    "pat.shape"
   ]
  },
  {
   "cell_type": "code",
   "execution_count": 53,
   "metadata": {},
   "outputs": [
    {
     "data": {
      "text/plain": [
       "array([ \"[{u'assignee_key_id': u'50637', u'assignee_city': u'Redwood City', u'assignee_state_fips': u'06'}]\"], dtype=object)"
      ]
     },
     "execution_count": 53,
     "metadata": {},
     "output_type": "execute_result"
    }
   ],
   "source": [
    "pat.assignees[0:1].values"
   ]
  },
  {
   "cell_type": "code",
   "execution_count": 123,
   "metadata": {},
   "outputs": [
    {
     "data": {
      "text/plain": [
       "array([\"[{u'app_type': u'11', u'app_id': u'11/025657'}]\"], dtype=object)"
      ]
     },
     "execution_count": 123,
     "metadata": {},
     "output_type": "execute_result"
    }
   ],
   "source": [
    "pat.applications[0:1].values"
   ]
  },
  {
   "cell_type": "code",
   "execution_count": 125,
   "metadata": {},
   "outputs": [
    {
     "data": {
      "text/plain": [
       "array([ \"[{u'nber_category_title': u'Elec', u'nber_subcategory_title': u'Measuring & Testing'}]\"], dtype=object)"
      ]
     },
     "execution_count": 125,
     "metadata": {},
     "output_type": "execute_result"
    }
   ],
   "source": [
    "pat.nbers[0:1].values"
   ]
  },
  {
   "cell_type": "markdown",
   "metadata": {},
   "source": [
    "# First look at all USPC mainclass"
   ]
  },
  {
   "cell_type": "code",
   "execution_count": null,
   "metadata": {},
   "outputs": [],
   "source": []
  },
  {
   "cell_type": "code",
   "execution_count": null,
   "metadata": {},
   "outputs": [],
   "source": []
  },
  {
   "cell_type": "code",
   "execution_count": null,
   "metadata": {},
   "outputs": [],
   "source": []
  },
  {
   "cell_type": "markdown",
   "metadata": {},
   "source": [
    "Realized I want to see this all as a time series. Need date: "
   ]
  },
  {
   "cell_type": "code",
   "execution_count": 125,
   "metadata": {},
   "outputs": [],
   "source": [
    "fields = 'f=[\"patent_id\",\"app_date\",\"assignee_county\",\\\n",
    "\"patent_abstract\",\"app_type\",\"cpc_category\",\"cpc_group_title\", \"cpc_section_id\",\"cpc_sequence\",\\\n",
    "\"cpc_subgroup_title\",\"cpc_subsection_title\",\"ipc_class\", \"ipc_main_group\",\"ipc_section\",\"ipc_sequence\",\\\n",
    "\"ipc_subclass\",\"ipc_subgroup\",\"nber_category_title\",\"nber_subcategory_title\",\"patent_type\",\"uspc_mainclass_title\",\\\n",
    "\"uspc_sequence\",\"uspc_subclass_title\", \"wipo_field_title\",\"wipo_sector_title\",\"app_date\"]'"
   ]
  },
  {
   "cell_type": "code",
   "execution_count": 134,
   "metadata": {},
   "outputs": [
    {
     "name": "stdout",
     "output_type": "stream",
     "text": [
      "year: '2004'\n",
      "month: '09'\n"
     ]
    }
   ],
   "source": [
    "#for python 2, input need to be a string e.g. '2014' and '01' or '05' or '09'\n",
    "year = input('year: ')\n",
    "month = input('month: ')"
   ]
  },
  {
   "cell_type": "code",
   "execution_count": 135,
   "metadata": {},
   "outputs": [],
   "source": [
    "if month == '01':\n",
    "    url1 = 'http://www.patentsview.org/api/patents/query?q={\"_and\":[{\"_gte\":{\"app_date\":\"' + year + '-01-01' + '\"}},{\"_lt\":{\"app_date\":\"' + year + '-05-01' + '\"}},{\"assignee_country\":\"US\"}]}&' + fields + '&o={\"page\":'\n",
    "elif month == '05':\n",
    "    url1 = 'http://www.patentsview.org/api/patents/query?q={\"_and\":[{\"_gte\":{\"app_date\":\"' + year + '-05-01' + '\"}},{\"_lt\":{\"app_date\":\"' + year + '-09-01' + '\"}},{\"assignee_country\":\"US\"}]}&' + fields + '&o={\"page\":'\n",
    "else:\n",
    "    url1 = 'http://www.patentsview.org/api/patents/query?q={\"_and\":[{\"_gte\":{\"app_date\":\"' + year + '-09-01' + '\"}},{\"_lt\":{\"app_date\":\"' + str(int(year)+1) + '-01-01' + '\"}},{\"assignee_country\":\"US\"}]}&' + fields + '&o={\"page\":'\n",
    "resp = requests.request('GET', url1 + '1,\"per_page\":10000}')\n",
    "page1 = json.loads(resp.text)\n",
    "count = -(-page1['total_patent_count']//10000)\n",
    "if count > 10:\n",
    "    print ('Total nubmer of patents for this year and months exceeds 100,000!!')\n",
    "df = pd.DataFrame(page1['patents'])\n",
    "for i in range(2,count+1):\n",
    "    url = url1 + str(i) + ',\"per_page\":10000}'\n",
    "    resp = requests.request('GET', url)\n",
    "    patent = json.loads(resp.text)\n",
    "    df = df.append(pd.DataFrame(patent['patents']))"
   ]
  },
  {
   "cell_type": "code",
   "execution_count": 128,
   "metadata": {},
   "outputs": [],
   "source": [
    "df01 = df.copy()"
   ]
  },
  {
   "cell_type": "code",
   "execution_count": 129,
   "metadata": {},
   "outputs": [
    {
     "data": {
      "text/plain": [
       "(31701, 10)"
      ]
     },
     "execution_count": 129,
     "metadata": {},
     "output_type": "execute_result"
    }
   ],
   "source": [
    "df01.shape"
   ]
  },
  {
   "cell_type": "code",
   "execution_count": 143,
   "metadata": {},
   "outputs": [
    {
     "data": {
      "text/plain": [
       "(32647, 9)"
      ]
     },
     "execution_count": 143,
     "metadata": {},
     "output_type": "execute_result"
    }
   ],
   "source": [
    "df.shape"
   ]
  },
  {
   "cell_type": "code",
   "execution_count": 132,
   "metadata": {},
   "outputs": [],
   "source": [
    "df05 = df.copy()"
   ]
  },
  {
   "cell_type": "code",
   "execution_count": 133,
   "metadata": {},
   "outputs": [
    {
     "data": {
      "text/plain": [
       "(32647, 10)"
      ]
     },
     "execution_count": 133,
     "metadata": {},
     "output_type": "execute_result"
    }
   ],
   "source": [
    "df05.shape"
   ]
  },
  {
   "cell_type": "code",
   "execution_count": 136,
   "metadata": {},
   "outputs": [],
   "source": [
    "df09 = df.copy()"
   ]
  },
  {
   "cell_type": "code",
   "execution_count": 137,
   "metadata": {},
   "outputs": [],
   "source": [
    "df = pd.concat([df01,df05,df09],axis=0)"
   ]
  },
  {
   "cell_type": "code",
   "execution_count": 124,
   "metadata": {},
   "outputs": [],
   "source": [
    "%mkdir data"
   ]
  },
  {
   "cell_type": "code",
   "execution_count": 138,
   "metadata": {},
   "outputs": [],
   "source": [
    "df.to_csv('data/patents', encoding = 'utf-8')"
   ]
  },
  {
   "cell_type": "code",
   "execution_count": 151,
   "metadata": {},
   "outputs": [
    {
     "data": {
      "text/plain": [
       "(99144, 9)"
      ]
     },
     "execution_count": 151,
     "metadata": {},
     "output_type": "execute_result"
    }
   ],
   "source": [
    "df.shape"
   ]
  },
  {
   "cell_type": "code",
   "execution_count": 289,
   "metadata": {},
   "outputs": [],
   "source": [
    "df_01 = pd.read_csv('data/patents')"
   ]
  },
  {
   "cell_type": "code",
   "execution_count": 290,
   "metadata": {},
   "outputs": [],
   "source": [
    "df_01 = df_01.sample(frac=0.01, replace=False, random_state=42)"
   ]
  },
  {
   "cell_type": "code",
   "execution_count": 291,
   "metadata": {},
   "outputs": [
    {
     "data": {
      "text/plain": [
       "(991, 11)"
      ]
     },
     "execution_count": 291,
     "metadata": {},
     "output_type": "execute_result"
    }
   ],
   "source": [
    "df_01.shape"
   ]
  },
  {
   "cell_type": "code",
   "execution_count": 292,
   "metadata": {},
   "outputs": [
    {
     "data": {
      "text/html": [
       "<div>\n",
       "<table border=\"1\" class=\"dataframe\">\n",
       "  <thead>\n",
       "    <tr style=\"text-align: right;\">\n",
       "      <th></th>\n",
       "      <th>Unnamed: 0</th>\n",
       "      <th>IPCs</th>\n",
       "      <th>applications</th>\n",
       "      <th>assignees</th>\n",
       "      <th>cpcs</th>\n",
       "      <th>nbers</th>\n",
       "      <th>patent_abstract</th>\n",
       "      <th>patent_id</th>\n",
       "      <th>patent_type</th>\n",
       "      <th>uspcs</th>\n",
       "      <th>wipos</th>\n",
       "    </tr>\n",
       "  </thead>\n",
       "  <tbody>\n",
       "    <tr>\n",
       "      <th>66161</th>\n",
       "      <td>1813</td>\n",
       "      <td>[{u'ipc_section': u'G', u'ipc_subclass': u'L',...</td>\n",
       "      <td>[{u'app_date': u'2004-12-28', u'app_type': u'1...</td>\n",
       "      <td>[{u'assignee_key_id': u'50637', u'assignee_cou...</td>\n",
       "      <td>[{u'cpc_subgroup_title': u'Detecting, measurin...</td>\n",
       "      <td>[{u'nber_category_title': u'Elec', u'nber_subc...</td>\n",
       "      <td>Implantable pressure sensors and methods for m...</td>\n",
       "      <td>7028550</td>\n",
       "      <td>utility</td>\n",
       "      <td>[{u'uspc_mainclass_title': u'Measuring and tes...</td>\n",
       "      <td>[{u'wipo_field_title': u'Medical technology', ...</td>\n",
       "    </tr>\n",
       "    <tr>\n",
       "      <th>98885</th>\n",
       "      <td>4537</td>\n",
       "      <td>[{u'ipc_section': None, u'ipc_subclass': None,...</td>\n",
       "      <td>[{u'app_date': u'2004-09-21', u'app_type': u'2...</td>\n",
       "      <td>[{u'assignee_key_id': u'307464', u'assignee_co...</td>\n",
       "      <td>[{u'cpc_subgroup_title': None, u'cpc_category'...</td>\n",
       "      <td>[{u'nber_category_title': None, u'nber_subcate...</td>\n",
       "      <td>NaN</td>\n",
       "      <td>D576802</td>\n",
       "      <td>design</td>\n",
       "      <td>[{u'uspc_mainclass_title': u'Brushware', u'usp...</td>\n",
       "      <td>[{u'wipo_field_title': None, u'wipo_sector_tit...</td>\n",
       "    </tr>\n",
       "    <tr>\n",
       "      <th>26688</th>\n",
       "      <td>6688</td>\n",
       "      <td>[{u'ipc_section': u'G', u'ipc_subclass': u'F',...</td>\n",
       "      <td>[{u'app_date': u'2004-03-22', u'app_type': u'1...</td>\n",
       "      <td>[{u'assignee_key_id': u'132861', u'assignee_co...</td>\n",
       "      <td>[{u'cpc_subgroup_title': u'Error detection; Er...</td>\n",
       "      <td>[{u'nber_category_title': u'Cmp&amp;Cmm', u'nber_s...</td>\n",
       "      <td>A computer cluster includes a first computer f...</td>\n",
       "      <td>7890798</td>\n",
       "      <td>utility</td>\n",
       "      <td>[{u'uspc_mainclass_title': u'Error detection/c...</td>\n",
       "      <td>[{u'wipo_field_title': u'Computer technology',...</td>\n",
       "    </tr>\n",
       "    <tr>\n",
       "      <th>93118</th>\n",
       "      <td>8770</td>\n",
       "      <td>[{u'ipc_section': u'B', u'ipc_subclass': u'B',...</td>\n",
       "      <td>[{u'app_date': u'2004-09-02', u'app_type': u'1...</td>\n",
       "      <td>[{u'assignee_key_id': u'128907', u'assignee_co...</td>\n",
       "      <td>[{u'cpc_subgroup_title': u'Processes, other th...</td>\n",
       "      <td>[{u'nber_category_title': u'Others', u'nber_su...</td>\n",
       "      <td>A coated wood board flooring having improved m...</td>\n",
       "      <td>7972707</td>\n",
       "      <td>utility</td>\n",
       "      <td>[{u'uspc_mainclass_title': u'Stock material or...</td>\n",
       "      <td>[{u'wipo_field_title': u'Surface technology, c...</td>\n",
       "    </tr>\n",
       "    <tr>\n",
       "      <th>45074</th>\n",
       "      <td>3373</td>\n",
       "      <td>[{u'ipc_section': u'B', u'ipc_subclass': u'D',...</td>\n",
       "      <td>[{u'app_date': u'2004-07-01', u'app_type': u'1...</td>\n",
       "      <td>[{u'assignee_key_id': u'358202', u'assignee_co...</td>\n",
       "      <td>[{u'cpc_subgroup_title': u'Cartridge filters o...</td>\n",
       "      <td>[{u'nber_category_title': u'Chemical', u'nber_...</td>\n",
       "      <td>Single-use long-life faucet mounted water filt...</td>\n",
       "      <td>7252757</td>\n",
       "      <td>utility</td>\n",
       "      <td>[{u'uspc_mainclass_title': u'Liquid purificati...</td>\n",
       "      <td>[{u'wipo_field_title': u'Chemical engineering'...</td>\n",
       "    </tr>\n",
       "  </tbody>\n",
       "</table>\n",
       "</div>"
      ],
      "text/plain": [
       "       Unnamed: 0                                               IPCs  \\\n",
       "66161        1813  [{u'ipc_section': u'G', u'ipc_subclass': u'L',...   \n",
       "98885        4537  [{u'ipc_section': None, u'ipc_subclass': None,...   \n",
       "26688        6688  [{u'ipc_section': u'G', u'ipc_subclass': u'F',...   \n",
       "93118        8770  [{u'ipc_section': u'B', u'ipc_subclass': u'B',...   \n",
       "45074        3373  [{u'ipc_section': u'B', u'ipc_subclass': u'D',...   \n",
       "\n",
       "                                            applications  \\\n",
       "66161  [{u'app_date': u'2004-12-28', u'app_type': u'1...   \n",
       "98885  [{u'app_date': u'2004-09-21', u'app_type': u'2...   \n",
       "26688  [{u'app_date': u'2004-03-22', u'app_type': u'1...   \n",
       "93118  [{u'app_date': u'2004-09-02', u'app_type': u'1...   \n",
       "45074  [{u'app_date': u'2004-07-01', u'app_type': u'1...   \n",
       "\n",
       "                                               assignees  \\\n",
       "66161  [{u'assignee_key_id': u'50637', u'assignee_cou...   \n",
       "98885  [{u'assignee_key_id': u'307464', u'assignee_co...   \n",
       "26688  [{u'assignee_key_id': u'132861', u'assignee_co...   \n",
       "93118  [{u'assignee_key_id': u'128907', u'assignee_co...   \n",
       "45074  [{u'assignee_key_id': u'358202', u'assignee_co...   \n",
       "\n",
       "                                                    cpcs  \\\n",
       "66161  [{u'cpc_subgroup_title': u'Detecting, measurin...   \n",
       "98885  [{u'cpc_subgroup_title': None, u'cpc_category'...   \n",
       "26688  [{u'cpc_subgroup_title': u'Error detection; Er...   \n",
       "93118  [{u'cpc_subgroup_title': u'Processes, other th...   \n",
       "45074  [{u'cpc_subgroup_title': u'Cartridge filters o...   \n",
       "\n",
       "                                                   nbers  \\\n",
       "66161  [{u'nber_category_title': u'Elec', u'nber_subc...   \n",
       "98885  [{u'nber_category_title': None, u'nber_subcate...   \n",
       "26688  [{u'nber_category_title': u'Cmp&Cmm', u'nber_s...   \n",
       "93118  [{u'nber_category_title': u'Others', u'nber_su...   \n",
       "45074  [{u'nber_category_title': u'Chemical', u'nber_...   \n",
       "\n",
       "                                         patent_abstract patent_id  \\\n",
       "66161  Implantable pressure sensors and methods for m...   7028550   \n",
       "98885                                                NaN   D576802   \n",
       "26688  A computer cluster includes a first computer f...   7890798   \n",
       "93118  A coated wood board flooring having improved m...   7972707   \n",
       "45074  Single-use long-life faucet mounted water filt...   7252757   \n",
       "\n",
       "      patent_type                                              uspcs  \\\n",
       "66161     utility  [{u'uspc_mainclass_title': u'Measuring and tes...   \n",
       "98885      design  [{u'uspc_mainclass_title': u'Brushware', u'usp...   \n",
       "26688     utility  [{u'uspc_mainclass_title': u'Error detection/c...   \n",
       "93118     utility  [{u'uspc_mainclass_title': u'Stock material or...   \n",
       "45074     utility  [{u'uspc_mainclass_title': u'Liquid purificati...   \n",
       "\n",
       "                                                   wipos  \n",
       "66161  [{u'wipo_field_title': u'Medical technology', ...  \n",
       "98885  [{u'wipo_field_title': None, u'wipo_sector_tit...  \n",
       "26688  [{u'wipo_field_title': u'Computer technology',...  \n",
       "93118  [{u'wipo_field_title': u'Surface technology, c...  \n",
       "45074  [{u'wipo_field_title': u'Chemical engineering'...  "
      ]
     },
     "execution_count": 292,
     "metadata": {},
     "output_type": "execute_result"
    }
   ],
   "source": [
    "df_01.head()"
   ]
  },
  {
   "cell_type": "code",
   "execution_count": 6,
   "metadata": {},
   "outputs": [
    {
     "data": {
      "text/plain": [
       "66161    [{'uspc_mainclass_title': 'Measuring and testi...\n",
       "Name: uspcs, dtype: object"
      ]
     },
     "execution_count": 6,
     "metadata": {},
     "output_type": "execute_result"
    }
   ],
   "source": [
    "df_01.uspcs[0:1]"
   ]
  },
  {
   "cell_type": "markdown",
   "metadata": {},
   "source": [
    "## Goal: Make dataframe that has\n",
    "\n",
    "ID / Date / Abstract / app_id / USPCS: MainClass/  USPCS: subClass / CPC: MainClass / etc..."
   ]
  },
  {
   "cell_type": "code",
   "execution_count": null,
   "metadata": {},
   "outputs": [],
   "source": [
    "# First go obtain desired info from each part."
   ]
  },
  {
   "cell_type": "code",
   "execution_count": 92,
   "metadata": {},
   "outputs": [],
   "source": [
    "import ast\n",
    "s = ast.literal_eval(df_01.applications.tolist()[2])"
   ]
  },
  {
   "cell_type": "code",
   "execution_count": null,
   "metadata": {},
   "outputs": [],
   "source": [
    "# make whole column into literal values"
   ]
  },
  {
   "cell_type": "code",
   "execution_count": 123,
   "metadata": {},
   "outputs": [
    {
     "data": {
      "text/plain": [
       "array([\"[{'app_date': '2004-12-28', 'app_type': '11', 'app_id': '11/025657'}]\"], dtype=object)"
      ]
     },
     "execution_count": 123,
     "metadata": {},
     "output_type": "execute_result"
    }
   ],
   "source": [
    "df_01.applications[0:1].values"
   ]
  },
  {
   "cell_type": "code",
   "execution_count": 107,
   "metadata": {},
   "outputs": [],
   "source": [
    "df_01['date'] = df_01['applications'].apply(lambda x: ast.literal_eval(x)[0].values()[0])"
   ]
  },
  {
   "cell_type": "code",
   "execution_count": null,
   "metadata": {},
   "outputs": [],
   "source": []
  },
  {
   "cell_type": "code",
   "execution_count": null,
   "metadata": {},
   "outputs": [],
   "source": []
  },
  {
   "cell_type": "code",
   "execution_count": null,
   "metadata": {},
   "outputs": [],
   "source": [
    "# Start here"
   ]
  },
  {
   "cell_type": "code",
   "execution_count": 293,
   "metadata": {},
   "outputs": [],
   "source": [
    "def columnMaker(df, column, var):\n",
    "    \"\"\"Makes column from json dataframe nested list\"\"\"\n",
    "    return df[column].apply(lambda x: ast.literal_eval(x)[0].values()[var])"
   ]
  },
  {
   "cell_type": "code",
   "execution_count": 294,
   "metadata": {},
   "outputs": [],
   "source": [
    "df_01['date'] = columnMaker(df_01, \"applications\", 0)\n",
    "df_01['app_id'] = columnMaker(df_01, \"applications\", 2)"
   ]
  },
  {
   "cell_type": "code",
   "execution_count": 295,
   "metadata": {},
   "outputs": [
    {
     "data": {
      "text/plain": [
       "array([ \"[{u'nber_category_title': u'Elec', u'nber_subcategory_title': u'Measuring & Testing'}]\"], dtype=object)"
      ]
     },
     "execution_count": 295,
     "metadata": {},
     "output_type": "execute_result"
    }
   ],
   "source": [
    "df_01.nbers[0:1].values"
   ]
  },
  {
   "cell_type": "code",
   "execution_count": 296,
   "metadata": {},
   "outputs": [],
   "source": [
    "df_01['county'] = columnMaker(df_01, \"assignees\", 1)"
   ]
  },
  {
   "cell_type": "code",
   "execution_count": 254,
   "metadata": {},
   "outputs": [
    {
     "data": {
      "text/plain": [
       "[{u'nber_category_title': u'Elec',\n",
       "  u'nber_subcategory_title': u'Measuring & Testing'}]"
      ]
     },
     "execution_count": 254,
     "metadata": {},
     "output_type": "execute_result"
    }
   ],
   "source": [
    "ast.literal_eval(df_01.nbers[0:1].values[0])"
   ]
  },
  {
   "cell_type": "code",
   "execution_count": 297,
   "metadata": {},
   "outputs": [],
   "source": [
    "df_01['nber_cat'] = columnMaker(df_01, \"nbers\", 0)"
   ]
  },
  {
   "cell_type": "code",
   "execution_count": 298,
   "metadata": {},
   "outputs": [],
   "source": [
    "df_01['nber_subcat'] = columnMaker(df_01, \"nbers\", 1)"
   ]
  },
  {
   "cell_type": "code",
   "execution_count": 299,
   "metadata": {},
   "outputs": [],
   "source": [
    "df_01['wipos_cat'] = columnMaker(df_01, \"wipos\", 1)"
   ]
  },
  {
   "cell_type": "code",
   "execution_count": 300,
   "metadata": {},
   "outputs": [
    {
     "data": {
      "text/html": [
       "<div>\n",
       "<table border=\"1\" class=\"dataframe\">\n",
       "  <thead>\n",
       "    <tr style=\"text-align: right;\">\n",
       "      <th></th>\n",
       "      <th>Unnamed: 0</th>\n",
       "      <th>IPCs</th>\n",
       "      <th>applications</th>\n",
       "      <th>assignees</th>\n",
       "      <th>cpcs</th>\n",
       "      <th>nbers</th>\n",
       "      <th>patent_abstract</th>\n",
       "      <th>patent_id</th>\n",
       "      <th>patent_type</th>\n",
       "      <th>uspcs</th>\n",
       "      <th>wipos</th>\n",
       "      <th>date</th>\n",
       "      <th>app_id</th>\n",
       "      <th>county</th>\n",
       "      <th>nber_cat</th>\n",
       "      <th>nber_subcat</th>\n",
       "      <th>wipos_cat</th>\n",
       "    </tr>\n",
       "  </thead>\n",
       "  <tbody>\n",
       "    <tr>\n",
       "      <th>66161</th>\n",
       "      <td>1813</td>\n",
       "      <td>[{u'ipc_section': u'G', u'ipc_subclass': u'L',...</td>\n",
       "      <td>[{u'app_date': u'2004-12-28', u'app_type': u'1...</td>\n",
       "      <td>[{u'assignee_key_id': u'50637', u'assignee_cou...</td>\n",
       "      <td>[{u'cpc_subgroup_title': u'Detecting, measurin...</td>\n",
       "      <td>[{u'nber_category_title': u'Elec', u'nber_subc...</td>\n",
       "      <td>Implantable pressure sensors and methods for m...</td>\n",
       "      <td>7028550</td>\n",
       "      <td>utility</td>\n",
       "      <td>[{u'uspc_mainclass_title': u'Measuring and tes...</td>\n",
       "      <td>[{u'wipo_field_title': u'Medical technology', ...</td>\n",
       "      <td>2004-12-28</td>\n",
       "      <td>11/025657</td>\n",
       "      <td>Richland</td>\n",
       "      <td>Elec</td>\n",
       "      <td>Measuring &amp; Testing</td>\n",
       "      <td>Instruments</td>\n",
       "    </tr>\n",
       "    <tr>\n",
       "      <th>98885</th>\n",
       "      <td>4537</td>\n",
       "      <td>[{u'ipc_section': None, u'ipc_subclass': None,...</td>\n",
       "      <td>[{u'app_date': u'2004-09-21', u'app_type': u'2...</td>\n",
       "      <td>[{u'assignee_key_id': u'307464', u'assignee_co...</td>\n",
       "      <td>[{u'cpc_subgroup_title': None, u'cpc_category'...</td>\n",
       "      <td>[{u'nber_category_title': None, u'nber_subcate...</td>\n",
       "      <td>NaN</td>\n",
       "      <td>D576802</td>\n",
       "      <td>design</td>\n",
       "      <td>[{u'uspc_mainclass_title': u'Brushware', u'usp...</td>\n",
       "      <td>[{u'wipo_field_title': None, u'wipo_sector_tit...</td>\n",
       "      <td>2004-09-21</td>\n",
       "      <td>29/213606</td>\n",
       "      <td>Harris County</td>\n",
       "      <td>None</td>\n",
       "      <td>None</td>\n",
       "      <td>None</td>\n",
       "    </tr>\n",
       "    <tr>\n",
       "      <th>26688</th>\n",
       "      <td>6688</td>\n",
       "      <td>[{u'ipc_section': u'G', u'ipc_subclass': u'F',...</td>\n",
       "      <td>[{u'app_date': u'2004-03-22', u'app_type': u'1...</td>\n",
       "      <td>[{u'assignee_key_id': u'132861', u'assignee_co...</td>\n",
       "      <td>[{u'cpc_subgroup_title': u'Error detection; Er...</td>\n",
       "      <td>[{u'nber_category_title': u'Cmp&amp;Cmm', u'nber_s...</td>\n",
       "      <td>A computer cluster includes a first computer f...</td>\n",
       "      <td>7890798</td>\n",
       "      <td>utility</td>\n",
       "      <td>[{u'uspc_mainclass_title': u'Error detection/c...</td>\n",
       "      <td>[{u'wipo_field_title': u'Computer technology',...</td>\n",
       "      <td>2004-03-22</td>\n",
       "      <td>10/806261</td>\n",
       "      <td>Harris County</td>\n",
       "      <td>Cmp&amp;Cmm</td>\n",
       "      <td>Computer Hardware &amp; Software</td>\n",
       "      <td>Electrical engineering</td>\n",
       "    </tr>\n",
       "    <tr>\n",
       "      <th>93118</th>\n",
       "      <td>8770</td>\n",
       "      <td>[{u'ipc_section': u'B', u'ipc_subclass': u'B',...</td>\n",
       "      <td>[{u'app_date': u'2004-09-02', u'app_type': u'1...</td>\n",
       "      <td>[{u'assignee_key_id': u'128907', u'assignee_co...</td>\n",
       "      <td>[{u'cpc_subgroup_title': u'Processes, other th...</td>\n",
       "      <td>[{u'nber_category_title': u'Others', u'nber_su...</td>\n",
       "      <td>A coated wood board flooring having improved m...</td>\n",
       "      <td>7972707</td>\n",
       "      <td>utility</td>\n",
       "      <td>[{u'uspc_mainclass_title': u'Stock material or...</td>\n",
       "      <td>[{u'wipo_field_title': u'Surface technology, c...</td>\n",
       "      <td>2004-09-02</td>\n",
       "      <td>10/932519</td>\n",
       "      <td>None</td>\n",
       "      <td>Others</td>\n",
       "      <td>Miscellaneous</td>\n",
       "      <td>Chemistry</td>\n",
       "    </tr>\n",
       "    <tr>\n",
       "      <th>45074</th>\n",
       "      <td>3373</td>\n",
       "      <td>[{u'ipc_section': u'B', u'ipc_subclass': u'D',...</td>\n",
       "      <td>[{u'app_date': u'2004-07-01', u'app_type': u'1...</td>\n",
       "      <td>[{u'assignee_key_id': u'358202', u'assignee_co...</td>\n",
       "      <td>[{u'cpc_subgroup_title': u'Cartridge filters o...</td>\n",
       "      <td>[{u'nber_category_title': u'Chemical', u'nber_...</td>\n",
       "      <td>Single-use long-life faucet mounted water filt...</td>\n",
       "      <td>7252757</td>\n",
       "      <td>utility</td>\n",
       "      <td>[{u'uspc_mainclass_title': u'Liquid purificati...</td>\n",
       "      <td>[{u'wipo_field_title': u'Chemical engineering'...</td>\n",
       "      <td>2004-07-01</td>\n",
       "      <td>10/883156</td>\n",
       "      <td>Dover</td>\n",
       "      <td>Chemical</td>\n",
       "      <td>Miscellaneous</td>\n",
       "      <td>Chemistry</td>\n",
       "    </tr>\n",
       "  </tbody>\n",
       "</table>\n",
       "</div>"
      ],
      "text/plain": [
       "       Unnamed: 0                                               IPCs  \\\n",
       "66161        1813  [{u'ipc_section': u'G', u'ipc_subclass': u'L',...   \n",
       "98885        4537  [{u'ipc_section': None, u'ipc_subclass': None,...   \n",
       "26688        6688  [{u'ipc_section': u'G', u'ipc_subclass': u'F',...   \n",
       "93118        8770  [{u'ipc_section': u'B', u'ipc_subclass': u'B',...   \n",
       "45074        3373  [{u'ipc_section': u'B', u'ipc_subclass': u'D',...   \n",
       "\n",
       "                                            applications  \\\n",
       "66161  [{u'app_date': u'2004-12-28', u'app_type': u'1...   \n",
       "98885  [{u'app_date': u'2004-09-21', u'app_type': u'2...   \n",
       "26688  [{u'app_date': u'2004-03-22', u'app_type': u'1...   \n",
       "93118  [{u'app_date': u'2004-09-02', u'app_type': u'1...   \n",
       "45074  [{u'app_date': u'2004-07-01', u'app_type': u'1...   \n",
       "\n",
       "                                               assignees  \\\n",
       "66161  [{u'assignee_key_id': u'50637', u'assignee_cou...   \n",
       "98885  [{u'assignee_key_id': u'307464', u'assignee_co...   \n",
       "26688  [{u'assignee_key_id': u'132861', u'assignee_co...   \n",
       "93118  [{u'assignee_key_id': u'128907', u'assignee_co...   \n",
       "45074  [{u'assignee_key_id': u'358202', u'assignee_co...   \n",
       "\n",
       "                                                    cpcs  \\\n",
       "66161  [{u'cpc_subgroup_title': u'Detecting, measurin...   \n",
       "98885  [{u'cpc_subgroup_title': None, u'cpc_category'...   \n",
       "26688  [{u'cpc_subgroup_title': u'Error detection; Er...   \n",
       "93118  [{u'cpc_subgroup_title': u'Processes, other th...   \n",
       "45074  [{u'cpc_subgroup_title': u'Cartridge filters o...   \n",
       "\n",
       "                                                   nbers  \\\n",
       "66161  [{u'nber_category_title': u'Elec', u'nber_subc...   \n",
       "98885  [{u'nber_category_title': None, u'nber_subcate...   \n",
       "26688  [{u'nber_category_title': u'Cmp&Cmm', u'nber_s...   \n",
       "93118  [{u'nber_category_title': u'Others', u'nber_su...   \n",
       "45074  [{u'nber_category_title': u'Chemical', u'nber_...   \n",
       "\n",
       "                                         patent_abstract patent_id  \\\n",
       "66161  Implantable pressure sensors and methods for m...   7028550   \n",
       "98885                                                NaN   D576802   \n",
       "26688  A computer cluster includes a first computer f...   7890798   \n",
       "93118  A coated wood board flooring having improved m...   7972707   \n",
       "45074  Single-use long-life faucet mounted water filt...   7252757   \n",
       "\n",
       "      patent_type                                              uspcs  \\\n",
       "66161     utility  [{u'uspc_mainclass_title': u'Measuring and tes...   \n",
       "98885      design  [{u'uspc_mainclass_title': u'Brushware', u'usp...   \n",
       "26688     utility  [{u'uspc_mainclass_title': u'Error detection/c...   \n",
       "93118     utility  [{u'uspc_mainclass_title': u'Stock material or...   \n",
       "45074     utility  [{u'uspc_mainclass_title': u'Liquid purificati...   \n",
       "\n",
       "                                                   wipos        date  \\\n",
       "66161  [{u'wipo_field_title': u'Medical technology', ...  2004-12-28   \n",
       "98885  [{u'wipo_field_title': None, u'wipo_sector_tit...  2004-09-21   \n",
       "26688  [{u'wipo_field_title': u'Computer technology',...  2004-03-22   \n",
       "93118  [{u'wipo_field_title': u'Surface technology, c...  2004-09-02   \n",
       "45074  [{u'wipo_field_title': u'Chemical engineering'...  2004-07-01   \n",
       "\n",
       "          app_id         county  nber_cat                   nber_subcat  \\\n",
       "66161  11/025657       Richland      Elec           Measuring & Testing   \n",
       "98885  29/213606  Harris County      None                          None   \n",
       "26688  10/806261  Harris County   Cmp&Cmm  Computer Hardware & Software   \n",
       "93118  10/932519           None    Others                 Miscellaneous   \n",
       "45074  10/883156          Dover  Chemical                 Miscellaneous   \n",
       "\n",
       "                    wipos_cat  \n",
       "66161             Instruments  \n",
       "98885                    None  \n",
       "26688  Electrical engineering  \n",
       "93118               Chemistry  \n",
       "45074               Chemistry  "
      ]
     },
     "execution_count": 300,
     "metadata": {},
     "output_type": "execute_result"
    }
   ],
   "source": [
    "df_01.head()"
   ]
  },
  {
   "cell_type": "code",
   "execution_count": 215,
   "metadata": {},
   "outputs": [
    {
     "data": {
      "text/plain": [
       "array([ \"[{u'uspc_mainclass_title': u'Measuring and testing', u'uspc_sequence': u'0', u'uspc_subclass_title': u'Diaphragm'}]\"], dtype=object)"
      ]
     },
     "execution_count": 215,
     "metadata": {},
     "output_type": "execute_result"
    }
   ],
   "source": [
    "df_01.uspcs[0:1].values"
   ]
  },
  {
   "cell_type": "code",
   "execution_count": 230,
   "metadata": {},
   "outputs": [
    {
     "data": {
      "text/plain": [
       "u'2004-12-28'"
      ]
     },
     "execution_count": 230,
     "metadata": {},
     "output_type": "execute_result"
    }
   ],
   "source": [
    "ast.literal_eval(df_01.applications[0:1].values[0])[0].values()[0]"
   ]
  },
  {
   "cell_type": "code",
   "execution_count": 221,
   "metadata": {},
   "outputs": [
    {
     "data": {
      "text/plain": [
       "{u'app_date': u'2004-12-28', u'app_id': u'11/025657', u'app_type': u'11'}"
      ]
     },
     "execution_count": 221,
     "metadata": {},
     "output_type": "execute_result"
    }
   ],
   "source": [
    "ast.literal_eval(df_01.applications[0:1].values[0])[0]"
   ]
  },
  {
   "cell_type": "code",
   "execution_count": 271,
   "metadata": {},
   "outputs": [
    {
     "data": {
      "text/plain": [
       "u'Diagnosis; surgery; identification'"
      ]
     },
     "execution_count": 271,
     "metadata": {},
     "output_type": "execute_result"
    }
   ],
   "source": [
    "ast.literal_eval(df_01.cpcs[0:1].values[0])[0].values()[2]"
   ]
  },
  {
   "cell_type": "code",
   "execution_count": null,
   "metadata": {},
   "outputs": [],
   "source": [
    "## Not working for cpcs and ipcs"
   ]
  },
  {
   "cell_type": "code",
   "execution_count": 304,
   "metadata": {},
   "outputs": [
    {
     "data": {
      "text/plain": [
       "array([u'Measuring & Testing', None, u'Computer Hardware & Software',\n",
       "       u'Miscellaneous', u'Transportation', u'Communications',\n",
       "       u'Metal Working', u'Electronic business methods and software',\n",
       "       u'Coating', u'Organic Compounds', u'Drugs', u'Mat. Proc & Handling',\n",
       "       u'Receptacles', u'Electrical Lighting', u'Surgery & Med Inst.',\n",
       "       u'Electrical Devices', u'Nuclear & X-rays',\n",
       "       u'Computer Peripherials', u'Semiconductor Devices',\n",
       "       u'Pipes & Joints', u'Genetics', u'Resins', u'Information Storage',\n",
       "       u'Earth Working & Wells', u'Power Systems', u'Heating',\n",
       "       u'Agriculture,Husbandry,Food', u'Agriculture,Food,Textiles',\n",
       "       u'Motors & Engines + Parts', u'Optics', u'Apparel & Textile',\n",
       "       u'Amusement Devices', u'Furniture,House Fixtures', u'Gas'], dtype=object)"
      ]
     },
     "execution_count": 304,
     "metadata": {},
     "output_type": "execute_result"
    }
   ],
   "source": [
    "df_01.nber_subcat.unique()"
   ]
  },
  {
   "cell_type": "code",
   "execution_count": null,
   "metadata": {},
   "outputs": [],
   "source": [
    "# Group by Month"
   ]
  },
  {
   "cell_type": "code",
   "execution_count": 313,
   "metadata": {},
   "outputs": [],
   "source": [
    "df_01['date'] =  pd.to_datetime(df_01['date'])"
   ]
  },
  {
   "cell_type": "code",
   "execution_count": 314,
   "metadata": {},
   "outputs": [],
   "source": [
    "#Reindex by date\n",
    "df_01.index=df_01['date']"
   ]
  },
  {
   "cell_type": "code",
   "execution_count": 320,
   "metadata": {},
   "outputs": [
    {
     "data": {
      "text/plain": [
       "array([u'Electrical Devices', u'Drugs', u'Semiconductor Devices',\n",
       "       u'Miscellaneous', u'Measuring & Testing', None,\n",
       "       u'Computer Hardware & Software', u'Metal Working',\n",
       "       u'Communications', u'Electronic business methods and software',\n",
       "       u'Organic Compounds', u'Computer Peripherials',\n",
       "       u'Furniture,House Fixtures', u'Power Systems', u'Heating',\n",
       "       u'Apparel & Textile', u'Agriculture,Husbandry,Food',\n",
       "       u'Information Storage', u'Electrical Lighting', u'Optics'], dtype=object)"
      ]
     },
     "execution_count": 320,
     "metadata": {},
     "output_type": "execute_result"
    }
   ],
   "source": [
    "df_01[df_01.index.month == 1].nber_subcat.unique()"
   ]
  },
  {
   "cell_type": "code",
   "execution_count": 321,
   "metadata": {},
   "outputs": [
    {
     "data": {
      "text/plain": [
       "array([u'Metal Working', u'Miscellaneous', u'Computer Hardware & Software',\n",
       "       u'Electrical Devices', None, u'Electrical Lighting',\n",
       "       u'Communications', u'Resins',\n",
       "       u'Electronic business methods and software', u'Organic Compounds',\n",
       "       u'Information Storage', u'Motors & Engines + Parts',\n",
       "       u'Measuring & Testing', u'Transportation', u'Optics', u'Drugs',\n",
       "       u'Agriculture,Food,Textiles', u'Power Systems', u'Coating',\n",
       "       u'Pipes & Joints', u'Surgery & Med Inst.', u'Mat. Proc & Handling',\n",
       "       u'Semiconductor Devices', u'Earth Working & Wells',\n",
       "       u'Amusement Devices', u'Apparel & Textile', u'Nuclear & X-rays'], dtype=object)"
      ]
     },
     "execution_count": 321,
     "metadata": {},
     "output_type": "execute_result"
    }
   ],
   "source": [
    "df_01[df_01.index.month == 2].nber_subcat.unique()"
   ]
  },
  {
   "cell_type": "code",
   "execution_count": null,
   "metadata": {},
   "outputs": [],
   "source": []
  },
  {
   "cell_type": "code",
   "execution_count": null,
   "metadata": {},
   "outputs": [],
   "source": []
  },
  {
   "cell_type": "code",
   "execution_count": null,
   "metadata": {},
   "outputs": [],
   "source": []
  },
  {
   "cell_type": "code",
   "execution_count": null,
   "metadata": {},
   "outputs": [],
   "source": []
  },
  {
   "cell_type": "code",
   "execution_count": null,
   "metadata": {},
   "outputs": [],
   "source": []
  },
  {
   "cell_type": "code",
   "execution_count": null,
   "metadata": {},
   "outputs": [],
   "source": [
    "# Get shapefile for county"
   ]
  },
  {
   "cell_type": "code",
   "execution_count": null,
   "metadata": {},
   "outputs": [],
   "source": [
    "# not working for uspcs"
   ]
  },
  {
   "cell_type": "code",
   "execution_count": 206,
   "metadata": {},
   "outputs": [
    {
     "ename": "AttributeError",
     "evalue": "'list' object has no attribute 'values'",
     "output_type": "error",
     "traceback": [
      "\u001b[0;31m\u001b[0m",
      "\u001b[0;31mAttributeError\u001b[0mTraceback (most recent call last)",
      "\u001b[0;32m<ipython-input-206-33bdf6aacffd>\u001b[0m in \u001b[0;36m<module>\u001b[0;34m()\u001b[0m\n\u001b[0;32m----> 1\u001b[0;31m \u001b[0mast\u001b[0m\u001b[0;34m.\u001b[0m\u001b[0mliteral_eval\u001b[0m\u001b[0;34m(\u001b[0m\u001b[0mdf_01\u001b[0m\u001b[0;34m.\u001b[0m\u001b[0muspcs\u001b[0m\u001b[0;34m.\u001b[0m\u001b[0mtolist\u001b[0m\u001b[0;34m(\u001b[0m\u001b[0;34m)\u001b[0m\u001b[0;34m[\u001b[0m\u001b[0;36m1\u001b[0m\u001b[0;34m]\u001b[0m\u001b[0;34m)\u001b[0m\u001b[0;34m.\u001b[0m\u001b[0mvalues\u001b[0m\u001b[0;34m(\u001b[0m\u001b[0;34m)\u001b[0m\u001b[0;34m\u001b[0m\u001b[0m\n\u001b[0m",
      "\u001b[0;31mAttributeError\u001b[0m: 'list' object has no attribute 'values'"
     ]
    }
   ],
   "source": [
    "ast.literal_eval(df_01.uspcs.tolist()[1]).values()"
   ]
  },
  {
   "cell_type": "code",
   "execution_count": 147,
   "metadata": {},
   "outputs": [
    {
     "ename": "SyntaxError",
     "evalue": "invalid syntax (<unknown>, line 1)",
     "output_type": "error",
     "traceback": [
      "\u001b[0;36m  File \u001b[0;32m\"<unknown>\"\u001b[0;36m, line \u001b[0;32m1\u001b[0m\n\u001b[0;31m    [{u'uspc_mainclass_title': u'Communications:  electrical', u'uspc_sequence': u'0', u'uspc_subclass_title': u'Detectable device on protected article (e.g., 'tag')'}, {u'uspc_mainclass_title': u'Communications:  electrical', u'uspc_sequence': u'1', u'uspc_subclass_title': u'Specified antenna structure'}, {u'uspc_mainclass_title': u'Communications:  electrical', u'uspc_sequence': u'2', u'uspc_subclass_title': u'Specified device housing or attachment means'}]\u001b[0m\n\u001b[0m                                                                                                                                                                  ^\u001b[0m\n\u001b[0;31mSyntaxError\u001b[0m\u001b[0;31m:\u001b[0m invalid syntax\n"
     ]
    }
   ],
   "source": [
    "df_01['uspcs_mainclass'] = columnMaker(df_01, \"uspcs\", 0)"
   ]
  },
  {
   "cell_type": "code",
   "execution_count": 186,
   "metadata": {},
   "outputs": [],
   "source": [
    "df_01['app_id'] = df_01['applications'].apply(lambda x: x[0].values()[2])"
   ]
  },
  {
   "cell_type": "markdown",
   "metadata": {},
   "source": [
    "### First lets focus on USPCS, could be interesting to look into how the different classificaitons compare"
   ]
  },
  {
   "cell_type": "code",
   "execution_count": null,
   "metadata": {},
   "outputs": [],
   "source": [
    "# Next make column for USPCS"
   ]
  },
  {
   "cell_type": "code",
   "execution_count": 260,
   "metadata": {},
   "outputs": [
    {
     "ename": "AttributeError",
     "evalue": "'str' object has no attribute 'values'",
     "output_type": "error",
     "traceback": [
      "\u001b[0;31m\u001b[0m",
      "\u001b[0;31mAttributeError\u001b[0mTraceback (most recent call last)",
      "\u001b[0;32m<ipython-input-260-8a3624c3052a>\u001b[0m in \u001b[0;36m<module>\u001b[0;34m()\u001b[0m\n\u001b[0;32m----> 1\u001b[0;31m \u001b[0mdf_01\u001b[0m\u001b[0;34m[\u001b[0m\u001b[0;34m'uspcs_mainclass'\u001b[0m\u001b[0;34m]\u001b[0m \u001b[0;34m=\u001b[0m \u001b[0mdf_01\u001b[0m\u001b[0;34m[\u001b[0m\u001b[0;34m'uspcs'\u001b[0m\u001b[0;34m]\u001b[0m\u001b[0;34m.\u001b[0m\u001b[0mapply\u001b[0m\u001b[0;34m(\u001b[0m\u001b[0;32mlambda\u001b[0m \u001b[0mx\u001b[0m\u001b[0;34m:\u001b[0m \u001b[0mx\u001b[0m\u001b[0;34m[\u001b[0m\u001b[0;36m0\u001b[0m\u001b[0;34m]\u001b[0m\u001b[0;34m.\u001b[0m\u001b[0mvalues\u001b[0m\u001b[0;34m(\u001b[0m\u001b[0;34m)\u001b[0m\u001b[0;34m[\u001b[0m\u001b[0;36m0\u001b[0m\u001b[0;34m]\u001b[0m\u001b[0;34m)\u001b[0m\u001b[0;34m\u001b[0m\u001b[0m\n\u001b[0m",
      "\u001b[0;32m/usr/local/Anaconda3-5.0.0-Linux-x86_64/envs/Wagner/lib/python2.7/site-packages/pandas/core/series.pyc\u001b[0m in \u001b[0;36mapply\u001b[0;34m(self, func, convert_dtype, args, **kwds)\u001b[0m\n\u001b[1;32m   2218\u001b[0m         \u001b[0;32melse\u001b[0m\u001b[0;34m:\u001b[0m\u001b[0;34m\u001b[0m\u001b[0m\n\u001b[1;32m   2219\u001b[0m             \u001b[0mvalues\u001b[0m \u001b[0;34m=\u001b[0m \u001b[0mself\u001b[0m\u001b[0;34m.\u001b[0m\u001b[0masobject\u001b[0m\u001b[0;34m\u001b[0m\u001b[0m\n\u001b[0;32m-> 2220\u001b[0;31m             \u001b[0mmapped\u001b[0m \u001b[0;34m=\u001b[0m \u001b[0mlib\u001b[0m\u001b[0;34m.\u001b[0m\u001b[0mmap_infer\u001b[0m\u001b[0;34m(\u001b[0m\u001b[0mvalues\u001b[0m\u001b[0;34m,\u001b[0m \u001b[0mf\u001b[0m\u001b[0;34m,\u001b[0m \u001b[0mconvert\u001b[0m\u001b[0;34m=\u001b[0m\u001b[0mconvert_dtype\u001b[0m\u001b[0;34m)\u001b[0m\u001b[0;34m\u001b[0m\u001b[0m\n\u001b[0m\u001b[1;32m   2221\u001b[0m \u001b[0;34m\u001b[0m\u001b[0m\n\u001b[1;32m   2222\u001b[0m         \u001b[0;32mif\u001b[0m \u001b[0mlen\u001b[0m\u001b[0;34m(\u001b[0m\u001b[0mmapped\u001b[0m\u001b[0;34m)\u001b[0m \u001b[0;32mand\u001b[0m \u001b[0misinstance\u001b[0m\u001b[0;34m(\u001b[0m\u001b[0mmapped\u001b[0m\u001b[0;34m[\u001b[0m\u001b[0;36m0\u001b[0m\u001b[0;34m]\u001b[0m\u001b[0;34m,\u001b[0m \u001b[0mSeries\u001b[0m\u001b[0;34m)\u001b[0m\u001b[0;34m:\u001b[0m\u001b[0;34m\u001b[0m\u001b[0m\n",
      "\u001b[0;32mpandas/src/inference.pyx\u001b[0m in \u001b[0;36mpandas.lib.map_infer (pandas/lib.c:62658)\u001b[0;34m()\u001b[0m\n",
      "\u001b[0;32m<ipython-input-260-8a3624c3052a>\u001b[0m in \u001b[0;36m<lambda>\u001b[0;34m(x)\u001b[0m\n\u001b[0;32m----> 1\u001b[0;31m \u001b[0mdf_01\u001b[0m\u001b[0;34m[\u001b[0m\u001b[0;34m'uspcs_mainclass'\u001b[0m\u001b[0;34m]\u001b[0m \u001b[0;34m=\u001b[0m \u001b[0mdf_01\u001b[0m\u001b[0;34m[\u001b[0m\u001b[0;34m'uspcs'\u001b[0m\u001b[0;34m]\u001b[0m\u001b[0;34m.\u001b[0m\u001b[0mapply\u001b[0m\u001b[0;34m(\u001b[0m\u001b[0;32mlambda\u001b[0m \u001b[0mx\u001b[0m\u001b[0;34m:\u001b[0m \u001b[0mx\u001b[0m\u001b[0;34m[\u001b[0m\u001b[0;36m0\u001b[0m\u001b[0;34m]\u001b[0m\u001b[0;34m.\u001b[0m\u001b[0mvalues\u001b[0m\u001b[0;34m(\u001b[0m\u001b[0;34m)\u001b[0m\u001b[0;34m[\u001b[0m\u001b[0;36m0\u001b[0m\u001b[0;34m]\u001b[0m\u001b[0;34m)\u001b[0m\u001b[0;34m\u001b[0m\u001b[0m\n\u001b[0m",
      "\u001b[0;31mAttributeError\u001b[0m: 'str' object has no attribute 'values'"
     ]
    }
   ],
   "source": [
    "df_01['uspcs_mainclass'] = df_01['uspcs'].apply(lambda x: x[0].values()[0])"
   ]
  },
  {
   "cell_type": "code",
   "execution_count": 209,
   "metadata": {},
   "outputs": [],
   "source": [
    "df_01['uspcs_subclass'] = df_01['uspcs'].apply(lambda x: x[0].values()[2])"
   ]
  },
  {
   "cell_type": "code",
   "execution_count": null,
   "metadata": {},
   "outputs": [],
   "source": [
    "# CPCS"
   ]
  },
  {
   "cell_type": "code",
   "execution_count": 226,
   "metadata": {},
   "outputs": [],
   "source": [
    "df_01['cpc_group_title'] = df_01['cpcs'].apply(lambda x: x[0].values()[2])"
   ]
  },
  {
   "cell_type": "code",
   "execution_count": 231,
   "metadata": {},
   "outputs": [],
   "source": [
    "df_01['cpc_subsection_title'] = df_01['cpcs'].apply(lambda x: x[0].values()[4])"
   ]
  },
  {
   "cell_type": "code",
   "execution_count": 247,
   "metadata": {},
   "outputs": [],
   "source": [
    "# nber\n",
    "df_01['nber_category'] = df_01['nbers'].apply(lambda x: x[0].values()[0])"
   ]
  },
  {
   "cell_type": "code",
   "execution_count": 253,
   "metadata": {},
   "outputs": [],
   "source": [
    "df_01['nber_subcategory'] = df_01['nbers'].apply(lambda x: x[0].values()[1])"
   ]
  },
  {
   "cell_type": "code",
   "execution_count": 262,
   "metadata": {},
   "outputs": [],
   "source": [
    "# wipos\n",
    "df_01['wipos_field'] = df_01['wipos'].apply(lambda x: x[0].values()[0])\n",
    "df_01['wipos_sector'] = df_01['wipos'].apply(lambda x: x[0].values()[1])\n"
   ]
  },
  {
   "cell_type": "code",
   "execution_count": 263,
   "metadata": {},
   "outputs": [
    {
     "data": {
      "text/html": [
       "<div>\n",
       "<table border=\"1\" class=\"dataframe\">\n",
       "  <thead>\n",
       "    <tr style=\"text-align: right;\">\n",
       "      <th></th>\n",
       "      <th>IPCs</th>\n",
       "      <th>applications</th>\n",
       "      <th>cpcs</th>\n",
       "      <th>nbers</th>\n",
       "      <th>patent_abstract</th>\n",
       "      <th>patent_id</th>\n",
       "      <th>patent_type</th>\n",
       "      <th>uspcs</th>\n",
       "      <th>wipos</th>\n",
       "      <th>date</th>\n",
       "      <th>app_id</th>\n",
       "      <th>uspcs_mainclass</th>\n",
       "      <th>uspcs_subclass</th>\n",
       "      <th>cpc_group_title</th>\n",
       "      <th>cpc_subsection_title</th>\n",
       "      <th>nber_category</th>\n",
       "      <th>nber_subcategory</th>\n",
       "      <th>wipos_field</th>\n",
       "      <th>wipos_sector</th>\n",
       "    </tr>\n",
       "  </thead>\n",
       "  <tbody>\n",
       "    <tr>\n",
       "      <th>1813</th>\n",
       "      <td>[{u'ipc_section': u'G', u'ipc_subclass': u'L',...</td>\n",
       "      <td>[{u'app_date': u'2004-12-28', u'app_type': u'1...</td>\n",
       "      <td>[{u'cpc_subgroup_title': u'Detecting, measurin...</td>\n",
       "      <td>[{u'nber_category_title': u'Elec', u'nber_subc...</td>\n",
       "      <td>Implantable pressure sensors and methods for m...</td>\n",
       "      <td>7028550</td>\n",
       "      <td>utility</td>\n",
       "      <td>[{u'uspc_mainclass_title': u'Measuring and tes...</td>\n",
       "      <td>[{u'wipo_field_title': u'Medical technology', ...</td>\n",
       "      <td>2004-12-28</td>\n",
       "      <td>11/025657</td>\n",
       "      <td>Measuring and testing</td>\n",
       "      <td>Diaphragm</td>\n",
       "      <td>Diagnosis; surgery; identification</td>\n",
       "      <td>Medical or veterinary science; hygiene</td>\n",
       "      <td>Elec</td>\n",
       "      <td>Measuring &amp; Testing</td>\n",
       "      <td>Medical technology</td>\n",
       "      <td>Instruments</td>\n",
       "    </tr>\n",
       "    <tr>\n",
       "      <th>4537</th>\n",
       "      <td>[{u'ipc_section': None, u'ipc_subclass': None,...</td>\n",
       "      <td>[{u'app_date': u'2004-09-21', u'app_type': u'2...</td>\n",
       "      <td>[{u'cpc_subgroup_title': None, u'cpc_category'...</td>\n",
       "      <td>[{u'nber_category_title': None, u'nber_subcate...</td>\n",
       "      <td>None</td>\n",
       "      <td>D576802</td>\n",
       "      <td>design</td>\n",
       "      <td>[{u'uspc_mainclass_title': u'Brushware', u'usp...</td>\n",
       "      <td>[{u'wipo_field_title': None, u'wipo_sector_tit...</td>\n",
       "      <td>2004-09-21</td>\n",
       "      <td>29/213606</td>\n",
       "      <td>Brushware</td>\n",
       "      <td>Radially arranged bristles</td>\n",
       "      <td>None</td>\n",
       "      <td>None</td>\n",
       "      <td>None</td>\n",
       "      <td>None</td>\n",
       "      <td>None</td>\n",
       "      <td>None</td>\n",
       "    </tr>\n",
       "    <tr>\n",
       "      <th>6688</th>\n",
       "      <td>[{u'ipc_section': u'G', u'ipc_subclass': u'F',...</td>\n",
       "      <td>[{u'app_date': u'2004-03-22', u'app_type': u'1...</td>\n",
       "      <td>[{u'cpc_subgroup_title': u'Error detection; Er...</td>\n",
       "      <td>[{u'nber_category_title': u'Cmp&amp;Cmm', u'nber_s...</td>\n",
       "      <td>A computer cluster includes a first computer f...</td>\n",
       "      <td>7890798</td>\n",
       "      <td>utility</td>\n",
       "      <td>[{u'uspc_mainclass_title': u'Error detection/c...</td>\n",
       "      <td>[{u'wipo_field_title': u'Computer technology',...</td>\n",
       "      <td>2004-03-22</td>\n",
       "      <td>10/806261</td>\n",
       "      <td>Error detection/correction and fault detection...</td>\n",
       "      <td>Concurrent, redundantly operating processors</td>\n",
       "      <td>Electric digital data processing</td>\n",
       "      <td>Computing; calculating; counting</td>\n",
       "      <td>Cmp&amp;Cmm</td>\n",
       "      <td>Computer Hardware &amp; Software</td>\n",
       "      <td>Computer technology</td>\n",
       "      <td>Electrical engineering</td>\n",
       "    </tr>\n",
       "    <tr>\n",
       "      <th>8770</th>\n",
       "      <td>[{u'ipc_section': u'B', u'ipc_subclass': u'B',...</td>\n",
       "      <td>[{u'app_date': u'2004-09-02', u'app_type': u'1...</td>\n",
       "      <td>[{u'cpc_subgroup_title': u'Processes, other th...</td>\n",
       "      <td>[{u'nber_category_title': u'Others', u'nber_su...</td>\n",
       "      <td>A coated wood board flooring having improved m...</td>\n",
       "      <td>7972707</td>\n",
       "      <td>utility</td>\n",
       "      <td>[{u'uspc_mainclass_title': u'Stock material or...</td>\n",
       "      <td>[{u'wipo_field_title': u'Surface technology, c...</td>\n",
       "      <td>2004-09-02</td>\n",
       "      <td>10/932519</td>\n",
       "      <td>Stock material or miscellaneous articles</td>\n",
       "      <td>Of wood</td>\n",
       "      <td>Processes for applying liquids or other fluent...</td>\n",
       "      <td>Spraying or atomising in general; applying liq...</td>\n",
       "      <td>Others</td>\n",
       "      <td>Miscellaneous</td>\n",
       "      <td>Surface technology, coating</td>\n",
       "      <td>Chemistry</td>\n",
       "    </tr>\n",
       "    <tr>\n",
       "      <th>3373</th>\n",
       "      <td>[{u'ipc_section': u'B', u'ipc_subclass': u'D',...</td>\n",
       "      <td>[{u'app_date': u'2004-07-01', u'app_type': u'1...</td>\n",
       "      <td>[{u'cpc_subgroup_title': u'Cartridge filters o...</td>\n",
       "      <td>[{u'nber_category_title': u'Chemical', u'nber_...</td>\n",
       "      <td>Single-use long-life faucet mounted water filt...</td>\n",
       "      <td>7252757</td>\n",
       "      <td>utility</td>\n",
       "      <td>[{u'uspc_mainclass_title': u'Liquid purificati...</td>\n",
       "      <td>[{u'wipo_field_title': u'Chemical engineering'...</td>\n",
       "      <td>2004-07-01</td>\n",
       "      <td>10/883156</td>\n",
       "      <td>Liquid purification or separation</td>\n",
       "      <td>Responsive to fluid flow</td>\n",
       "      <td>Separation</td>\n",
       "      <td>Physical or chemical processes or apparatus in...</td>\n",
       "      <td>Chemical</td>\n",
       "      <td>Miscellaneous</td>\n",
       "      <td>Chemical engineering</td>\n",
       "      <td>Chemistry</td>\n",
       "    </tr>\n",
       "  </tbody>\n",
       "</table>\n",
       "</div>"
      ],
      "text/plain": [
       "                                                   IPCs  \\\n",
       "1813  [{u'ipc_section': u'G', u'ipc_subclass': u'L',...   \n",
       "4537  [{u'ipc_section': None, u'ipc_subclass': None,...   \n",
       "6688  [{u'ipc_section': u'G', u'ipc_subclass': u'F',...   \n",
       "8770  [{u'ipc_section': u'B', u'ipc_subclass': u'B',...   \n",
       "3373  [{u'ipc_section': u'B', u'ipc_subclass': u'D',...   \n",
       "\n",
       "                                           applications  \\\n",
       "1813  [{u'app_date': u'2004-12-28', u'app_type': u'1...   \n",
       "4537  [{u'app_date': u'2004-09-21', u'app_type': u'2...   \n",
       "6688  [{u'app_date': u'2004-03-22', u'app_type': u'1...   \n",
       "8770  [{u'app_date': u'2004-09-02', u'app_type': u'1...   \n",
       "3373  [{u'app_date': u'2004-07-01', u'app_type': u'1...   \n",
       "\n",
       "                                                   cpcs  \\\n",
       "1813  [{u'cpc_subgroup_title': u'Detecting, measurin...   \n",
       "4537  [{u'cpc_subgroup_title': None, u'cpc_category'...   \n",
       "6688  [{u'cpc_subgroup_title': u'Error detection; Er...   \n",
       "8770  [{u'cpc_subgroup_title': u'Processes, other th...   \n",
       "3373  [{u'cpc_subgroup_title': u'Cartridge filters o...   \n",
       "\n",
       "                                                  nbers  \\\n",
       "1813  [{u'nber_category_title': u'Elec', u'nber_subc...   \n",
       "4537  [{u'nber_category_title': None, u'nber_subcate...   \n",
       "6688  [{u'nber_category_title': u'Cmp&Cmm', u'nber_s...   \n",
       "8770  [{u'nber_category_title': u'Others', u'nber_su...   \n",
       "3373  [{u'nber_category_title': u'Chemical', u'nber_...   \n",
       "\n",
       "                                        patent_abstract patent_id patent_type  \\\n",
       "1813  Implantable pressure sensors and methods for m...   7028550     utility   \n",
       "4537                                               None   D576802      design   \n",
       "6688  A computer cluster includes a first computer f...   7890798     utility   \n",
       "8770  A coated wood board flooring having improved m...   7972707     utility   \n",
       "3373  Single-use long-life faucet mounted water filt...   7252757     utility   \n",
       "\n",
       "                                                  uspcs  \\\n",
       "1813  [{u'uspc_mainclass_title': u'Measuring and tes...   \n",
       "4537  [{u'uspc_mainclass_title': u'Brushware', u'usp...   \n",
       "6688  [{u'uspc_mainclass_title': u'Error detection/c...   \n",
       "8770  [{u'uspc_mainclass_title': u'Stock material or...   \n",
       "3373  [{u'uspc_mainclass_title': u'Liquid purificati...   \n",
       "\n",
       "                                                  wipos        date  \\\n",
       "1813  [{u'wipo_field_title': u'Medical technology', ...  2004-12-28   \n",
       "4537  [{u'wipo_field_title': None, u'wipo_sector_tit...  2004-09-21   \n",
       "6688  [{u'wipo_field_title': u'Computer technology',...  2004-03-22   \n",
       "8770  [{u'wipo_field_title': u'Surface technology, c...  2004-09-02   \n",
       "3373  [{u'wipo_field_title': u'Chemical engineering'...  2004-07-01   \n",
       "\n",
       "         app_id                                    uspcs_mainclass  \\\n",
       "1813  11/025657                              Measuring and testing   \n",
       "4537  29/213606                                          Brushware   \n",
       "6688  10/806261  Error detection/correction and fault detection...   \n",
       "8770  10/932519           Stock material or miscellaneous articles   \n",
       "3373  10/883156                  Liquid purification or separation   \n",
       "\n",
       "                                    uspcs_subclass  \\\n",
       "1813                                     Diaphragm   \n",
       "4537                    Radially arranged bristles   \n",
       "6688  Concurrent, redundantly operating processors   \n",
       "8770                                       Of wood   \n",
       "3373                      Responsive to fluid flow   \n",
       "\n",
       "                                        cpc_group_title  \\\n",
       "1813                 Diagnosis; surgery; identification   \n",
       "4537                                               None   \n",
       "6688                   Electric digital data processing   \n",
       "8770  Processes for applying liquids or other fluent...   \n",
       "3373                                         Separation   \n",
       "\n",
       "                                   cpc_subsection_title nber_category  \\\n",
       "1813             Medical or veterinary science; hygiene          Elec   \n",
       "4537                                               None          None   \n",
       "6688                   Computing; calculating; counting       Cmp&Cmm   \n",
       "8770  Spraying or atomising in general; applying liq...        Others   \n",
       "3373  Physical or chemical processes or apparatus in...      Chemical   \n",
       "\n",
       "                  nber_subcategory                  wipos_field  \\\n",
       "1813           Measuring & Testing           Medical technology   \n",
       "4537                          None                         None   \n",
       "6688  Computer Hardware & Software          Computer technology   \n",
       "8770                 Miscellaneous  Surface technology, coating   \n",
       "3373                 Miscellaneous         Chemical engineering   \n",
       "\n",
       "                wipos_sector  \n",
       "1813             Instruments  \n",
       "4537                    None  \n",
       "6688  Electrical engineering  \n",
       "8770               Chemistry  \n",
       "3373               Chemistry  "
      ]
     },
     "execution_count": 263,
     "metadata": {},
     "output_type": "execute_result"
    }
   ],
   "source": [
    "df_01.head()"
   ]
  },
  {
   "cell_type": "code",
   "execution_count": 269,
   "metadata": {},
   "outputs": [],
   "source": [
    "df_02 = df_01.drop([ u'IPCs',         u'applications',\n",
    "                       u'cpcs',                u'nbers', \n",
    "                u'patent_type',                u'uspcs',\n",
    "                      u'wipos',],axis=1)"
   ]
  },
  {
   "cell_type": "code",
   "execution_count": 270,
   "metadata": {},
   "outputs": [
    {
     "data": {
      "text/html": [
       "<div>\n",
       "<table border=\"1\" class=\"dataframe\">\n",
       "  <thead>\n",
       "    <tr style=\"text-align: right;\">\n",
       "      <th></th>\n",
       "      <th>patent_abstract</th>\n",
       "      <th>patent_id</th>\n",
       "      <th>date</th>\n",
       "      <th>app_id</th>\n",
       "      <th>uspcs_mainclass</th>\n",
       "      <th>uspcs_subclass</th>\n",
       "      <th>cpc_group_title</th>\n",
       "      <th>cpc_subsection_title</th>\n",
       "      <th>nber_category</th>\n",
       "      <th>nber_subcategory</th>\n",
       "      <th>wipos_field</th>\n",
       "      <th>wipos_sector</th>\n",
       "    </tr>\n",
       "  </thead>\n",
       "  <tbody>\n",
       "    <tr>\n",
       "      <th>1813</th>\n",
       "      <td>Implantable pressure sensors and methods for m...</td>\n",
       "      <td>7028550</td>\n",
       "      <td>2004-12-28</td>\n",
       "      <td>11/025657</td>\n",
       "      <td>Measuring and testing</td>\n",
       "      <td>Diaphragm</td>\n",
       "      <td>Diagnosis; surgery; identification</td>\n",
       "      <td>Medical or veterinary science; hygiene</td>\n",
       "      <td>Elec</td>\n",
       "      <td>Measuring &amp; Testing</td>\n",
       "      <td>Medical technology</td>\n",
       "      <td>Instruments</td>\n",
       "    </tr>\n",
       "    <tr>\n",
       "      <th>4537</th>\n",
       "      <td>None</td>\n",
       "      <td>D576802</td>\n",
       "      <td>2004-09-21</td>\n",
       "      <td>29/213606</td>\n",
       "      <td>Brushware</td>\n",
       "      <td>Radially arranged bristles</td>\n",
       "      <td>None</td>\n",
       "      <td>None</td>\n",
       "      <td>None</td>\n",
       "      <td>None</td>\n",
       "      <td>None</td>\n",
       "      <td>None</td>\n",
       "    </tr>\n",
       "    <tr>\n",
       "      <th>6688</th>\n",
       "      <td>A computer cluster includes a first computer f...</td>\n",
       "      <td>7890798</td>\n",
       "      <td>2004-03-22</td>\n",
       "      <td>10/806261</td>\n",
       "      <td>Error detection/correction and fault detection...</td>\n",
       "      <td>Concurrent, redundantly operating processors</td>\n",
       "      <td>Electric digital data processing</td>\n",
       "      <td>Computing; calculating; counting</td>\n",
       "      <td>Cmp&amp;Cmm</td>\n",
       "      <td>Computer Hardware &amp; Software</td>\n",
       "      <td>Computer technology</td>\n",
       "      <td>Electrical engineering</td>\n",
       "    </tr>\n",
       "    <tr>\n",
       "      <th>8770</th>\n",
       "      <td>A coated wood board flooring having improved m...</td>\n",
       "      <td>7972707</td>\n",
       "      <td>2004-09-02</td>\n",
       "      <td>10/932519</td>\n",
       "      <td>Stock material or miscellaneous articles</td>\n",
       "      <td>Of wood</td>\n",
       "      <td>Processes for applying liquids or other fluent...</td>\n",
       "      <td>Spraying or atomising in general; applying liq...</td>\n",
       "      <td>Others</td>\n",
       "      <td>Miscellaneous</td>\n",
       "      <td>Surface technology, coating</td>\n",
       "      <td>Chemistry</td>\n",
       "    </tr>\n",
       "    <tr>\n",
       "      <th>3373</th>\n",
       "      <td>Single-use long-life faucet mounted water filt...</td>\n",
       "      <td>7252757</td>\n",
       "      <td>2004-07-01</td>\n",
       "      <td>10/883156</td>\n",
       "      <td>Liquid purification or separation</td>\n",
       "      <td>Responsive to fluid flow</td>\n",
       "      <td>Separation</td>\n",
       "      <td>Physical or chemical processes or apparatus in...</td>\n",
       "      <td>Chemical</td>\n",
       "      <td>Miscellaneous</td>\n",
       "      <td>Chemical engineering</td>\n",
       "      <td>Chemistry</td>\n",
       "    </tr>\n",
       "  </tbody>\n",
       "</table>\n",
       "</div>"
      ],
      "text/plain": [
       "                                        patent_abstract patent_id        date  \\\n",
       "1813  Implantable pressure sensors and methods for m...   7028550  2004-12-28   \n",
       "4537                                               None   D576802  2004-09-21   \n",
       "6688  A computer cluster includes a first computer f...   7890798  2004-03-22   \n",
       "8770  A coated wood board flooring having improved m...   7972707  2004-09-02   \n",
       "3373  Single-use long-life faucet mounted water filt...   7252757  2004-07-01   \n",
       "\n",
       "         app_id                                    uspcs_mainclass  \\\n",
       "1813  11/025657                              Measuring and testing   \n",
       "4537  29/213606                                          Brushware   \n",
       "6688  10/806261  Error detection/correction and fault detection...   \n",
       "8770  10/932519           Stock material or miscellaneous articles   \n",
       "3373  10/883156                  Liquid purification or separation   \n",
       "\n",
       "                                    uspcs_subclass  \\\n",
       "1813                                     Diaphragm   \n",
       "4537                    Radially arranged bristles   \n",
       "6688  Concurrent, redundantly operating processors   \n",
       "8770                                       Of wood   \n",
       "3373                      Responsive to fluid flow   \n",
       "\n",
       "                                        cpc_group_title  \\\n",
       "1813                 Diagnosis; surgery; identification   \n",
       "4537                                               None   \n",
       "6688                   Electric digital data processing   \n",
       "8770  Processes for applying liquids or other fluent...   \n",
       "3373                                         Separation   \n",
       "\n",
       "                                   cpc_subsection_title nber_category  \\\n",
       "1813             Medical or veterinary science; hygiene          Elec   \n",
       "4537                                               None          None   \n",
       "6688                   Computing; calculating; counting       Cmp&Cmm   \n",
       "8770  Spraying or atomising in general; applying liq...        Others   \n",
       "3373  Physical or chemical processes or apparatus in...      Chemical   \n",
       "\n",
       "                  nber_subcategory                  wipos_field  \\\n",
       "1813           Measuring & Testing           Medical technology   \n",
       "4537                          None                         None   \n",
       "6688  Computer Hardware & Software          Computer technology   \n",
       "8770                 Miscellaneous  Surface technology, coating   \n",
       "3373                 Miscellaneous         Chemical engineering   \n",
       "\n",
       "                wipos_sector  \n",
       "1813             Instruments  \n",
       "4537                    None  \n",
       "6688  Electrical engineering  \n",
       "8770               Chemistry  \n",
       "3373               Chemistry  "
      ]
     },
     "execution_count": 270,
     "metadata": {},
     "output_type": "execute_result"
    }
   ],
   "source": [
    "df_02.head()"
   ]
  },
  {
   "cell_type": "code",
   "execution_count": 271,
   "metadata": {},
   "outputs": [
    {
     "data": {
      "text/plain": [
       "(991, 12)"
      ]
     },
     "execution_count": 271,
     "metadata": {},
     "output_type": "execute_result"
    }
   ],
   "source": [
    "df_02.shape"
   ]
  },
  {
   "cell_type": "code",
   "execution_count": 279,
   "metadata": {},
   "outputs": [
    {
     "data": {
      "text/plain": [
       "256"
      ]
     },
     "execution_count": 279,
     "metadata": {},
     "output_type": "execute_result"
    }
   ],
   "source": [
    "len(df_02.date.unique())"
   ]
  },
  {
   "cell_type": "code",
   "execution_count": 275,
   "metadata": {},
   "outputs": [
    {
     "data": {
      "text/plain": [
       "227"
      ]
     },
     "execution_count": 275,
     "metadata": {},
     "output_type": "execute_result"
    }
   ],
   "source": [
    "len(df_02.uspcs_mainclass.unique())"
   ]
  },
  {
   "cell_type": "code",
   "execution_count": 276,
   "metadata": {},
   "outputs": [
    {
     "data": {
      "text/plain": [
       "226"
      ]
     },
     "execution_count": 276,
     "metadata": {},
     "output_type": "execute_result"
    }
   ],
   "source": [
    "len(df_02.cpc_group_title.unique())"
   ]
  },
  {
   "cell_type": "code",
   "execution_count": 277,
   "metadata": {},
   "outputs": [
    {
     "data": {
      "text/plain": [
       "7"
      ]
     },
     "execution_count": 277,
     "metadata": {},
     "output_type": "execute_result"
    }
   ],
   "source": [
    "len(df_02.nber_category.unique())"
   ]
  },
  {
   "cell_type": "code",
   "execution_count": 278,
   "metadata": {},
   "outputs": [
    {
     "data": {
      "text/plain": [
       "array([u'Elec', None, u'Cmp&Cmm', u'Others', u'Chemical', u'Mech',\n",
       "       u'Drgs&Med'], dtype=object)"
      ]
     },
     "execution_count": 278,
     "metadata": {},
     "output_type": "execute_result"
    }
   ],
   "source": [
    "df_02.nber_category.unique()"
   ]
  },
  {
   "cell_type": "markdown",
   "metadata": {},
   "source": [
    "# By month, lets see what categories we see"
   ]
  },
  {
   "cell_type": "code",
   "execution_count": 298,
   "metadata": {},
   "outputs": [
    {
     "data": {
      "text/plain": [
       "pandas.core.series.Series"
      ]
     },
     "execution_count": 298,
     "metadata": {},
     "output_type": "execute_result"
    }
   ],
   "source": [
    "type(df_02.date)"
   ]
  },
  {
   "cell_type": "code",
   "execution_count": 285,
   "metadata": {},
   "outputs": [],
   "source": [
    "df_02['date'] =  pd.to_datetime(df_02['date'])"
   ]
  },
  {
   "cell_type": "code",
   "execution_count": 297,
   "metadata": {},
   "outputs": [
    {
     "data": {
      "text/plain": [
       "date    2004-12-28 00:00:00\n",
       "Name: 1813, dtype: object"
      ]
     },
     "execution_count": 297,
     "metadata": {},
     "output_type": "execute_result"
    }
   ],
   "source": [
    "df_02.loc[1813][['date']]"
   ]
  },
  {
   "cell_type": "code",
   "execution_count": 303,
   "metadata": {},
   "outputs": [
    {
     "data": {
      "text/plain": [
       "pandas.tslib.Timestamp"
      ]
     },
     "execution_count": 303,
     "metadata": {},
     "output_type": "execute_result"
    }
   ],
   "source": [
    "type(df_02['date'][1813])"
   ]
  },
  {
   "cell_type": "code",
   "execution_count": 308,
   "metadata": {},
   "outputs": [],
   "source": [
    "#Reindex by date\n",
    "df_02.index=df_02['date']"
   ]
  },
  {
   "cell_type": "code",
   "execution_count": 311,
   "metadata": {},
   "outputs": [
    {
     "data": {
      "text/html": [
       "<div>\n",
       "<table border=\"1\" class=\"dataframe\">\n",
       "  <thead>\n",
       "    <tr style=\"text-align: right;\">\n",
       "      <th></th>\n",
       "      <th>patent_abstract</th>\n",
       "      <th>patent_id</th>\n",
       "      <th>date</th>\n",
       "      <th>app_id</th>\n",
       "      <th>uspcs_mainclass</th>\n",
       "      <th>uspcs_subclass</th>\n",
       "      <th>cpc_group_title</th>\n",
       "      <th>cpc_subsection_title</th>\n",
       "      <th>nber_category</th>\n",
       "      <th>nber_subcategory</th>\n",
       "      <th>wipos_field</th>\n",
       "      <th>wipos_sector</th>\n",
       "    </tr>\n",
       "    <tr>\n",
       "      <th>date</th>\n",
       "      <th></th>\n",
       "      <th></th>\n",
       "      <th></th>\n",
       "      <th></th>\n",
       "      <th></th>\n",
       "      <th></th>\n",
       "      <th></th>\n",
       "      <th></th>\n",
       "      <th></th>\n",
       "      <th></th>\n",
       "      <th></th>\n",
       "      <th></th>\n",
       "    </tr>\n",
       "  </thead>\n",
       "  <tbody>\n",
       "    <tr>\n",
       "      <th>2004-12-28</th>\n",
       "      <td>Implantable pressure sensors and methods for m...</td>\n",
       "      <td>7028550</td>\n",
       "      <td>2004-12-28</td>\n",
       "      <td>11/025657</td>\n",
       "      <td>Measuring and testing</td>\n",
       "      <td>Diaphragm</td>\n",
       "      <td>Diagnosis; surgery; identification</td>\n",
       "      <td>Medical or veterinary science; hygiene</td>\n",
       "      <td>Elec</td>\n",
       "      <td>Measuring &amp; Testing</td>\n",
       "      <td>Medical technology</td>\n",
       "      <td>Instruments</td>\n",
       "    </tr>\n",
       "    <tr>\n",
       "      <th>2004-09-21</th>\n",
       "      <td>None</td>\n",
       "      <td>D576802</td>\n",
       "      <td>2004-09-21</td>\n",
       "      <td>29/213606</td>\n",
       "      <td>Brushware</td>\n",
       "      <td>Radially arranged bristles</td>\n",
       "      <td>None</td>\n",
       "      <td>None</td>\n",
       "      <td>None</td>\n",
       "      <td>None</td>\n",
       "      <td>None</td>\n",
       "      <td>None</td>\n",
       "    </tr>\n",
       "    <tr>\n",
       "      <th>2004-03-22</th>\n",
       "      <td>A computer cluster includes a first computer f...</td>\n",
       "      <td>7890798</td>\n",
       "      <td>2004-03-22</td>\n",
       "      <td>10/806261</td>\n",
       "      <td>Error detection/correction and fault detection...</td>\n",
       "      <td>Concurrent, redundantly operating processors</td>\n",
       "      <td>Electric digital data processing</td>\n",
       "      <td>Computing; calculating; counting</td>\n",
       "      <td>Cmp&amp;Cmm</td>\n",
       "      <td>Computer Hardware &amp; Software</td>\n",
       "      <td>Computer technology</td>\n",
       "      <td>Electrical engineering</td>\n",
       "    </tr>\n",
       "    <tr>\n",
       "      <th>2004-09-02</th>\n",
       "      <td>A coated wood board flooring having improved m...</td>\n",
       "      <td>7972707</td>\n",
       "      <td>2004-09-02</td>\n",
       "      <td>10/932519</td>\n",
       "      <td>Stock material or miscellaneous articles</td>\n",
       "      <td>Of wood</td>\n",
       "      <td>Processes for applying liquids or other fluent...</td>\n",
       "      <td>Spraying or atomising in general; applying liq...</td>\n",
       "      <td>Others</td>\n",
       "      <td>Miscellaneous</td>\n",
       "      <td>Surface technology, coating</td>\n",
       "      <td>Chemistry</td>\n",
       "    </tr>\n",
       "    <tr>\n",
       "      <th>2004-07-01</th>\n",
       "      <td>Single-use long-life faucet mounted water filt...</td>\n",
       "      <td>7252757</td>\n",
       "      <td>2004-07-01</td>\n",
       "      <td>10/883156</td>\n",
       "      <td>Liquid purification or separation</td>\n",
       "      <td>Responsive to fluid flow</td>\n",
       "      <td>Separation</td>\n",
       "      <td>Physical or chemical processes or apparatus in...</td>\n",
       "      <td>Chemical</td>\n",
       "      <td>Miscellaneous</td>\n",
       "      <td>Chemical engineering</td>\n",
       "      <td>Chemistry</td>\n",
       "    </tr>\n",
       "  </tbody>\n",
       "</table>\n",
       "</div>"
      ],
      "text/plain": [
       "                                              patent_abstract patent_id  \\\n",
       "date                                                                      \n",
       "2004-12-28  Implantable pressure sensors and methods for m...   7028550   \n",
       "2004-09-21                                               None   D576802   \n",
       "2004-03-22  A computer cluster includes a first computer f...   7890798   \n",
       "2004-09-02  A coated wood board flooring having improved m...   7972707   \n",
       "2004-07-01  Single-use long-life faucet mounted water filt...   7252757   \n",
       "\n",
       "                 date     app_id  \\\n",
       "date                               \n",
       "2004-12-28 2004-12-28  11/025657   \n",
       "2004-09-21 2004-09-21  29/213606   \n",
       "2004-03-22 2004-03-22  10/806261   \n",
       "2004-09-02 2004-09-02  10/932519   \n",
       "2004-07-01 2004-07-01  10/883156   \n",
       "\n",
       "                                              uspcs_mainclass  \\\n",
       "date                                                            \n",
       "2004-12-28                              Measuring and testing   \n",
       "2004-09-21                                          Brushware   \n",
       "2004-03-22  Error detection/correction and fault detection...   \n",
       "2004-09-02           Stock material or miscellaneous articles   \n",
       "2004-07-01                  Liquid purification or separation   \n",
       "\n",
       "                                          uspcs_subclass  \\\n",
       "date                                                       \n",
       "2004-12-28                                     Diaphragm   \n",
       "2004-09-21                    Radially arranged bristles   \n",
       "2004-03-22  Concurrent, redundantly operating processors   \n",
       "2004-09-02                                       Of wood   \n",
       "2004-07-01                      Responsive to fluid flow   \n",
       "\n",
       "                                              cpc_group_title  \\\n",
       "date                                                            \n",
       "2004-12-28                 Diagnosis; surgery; identification   \n",
       "2004-09-21                                               None   \n",
       "2004-03-22                   Electric digital data processing   \n",
       "2004-09-02  Processes for applying liquids or other fluent...   \n",
       "2004-07-01                                         Separation   \n",
       "\n",
       "                                         cpc_subsection_title nber_category  \\\n",
       "date                                                                          \n",
       "2004-12-28             Medical or veterinary science; hygiene          Elec   \n",
       "2004-09-21                                               None          None   \n",
       "2004-03-22                   Computing; calculating; counting       Cmp&Cmm   \n",
       "2004-09-02  Spraying or atomising in general; applying liq...        Others   \n",
       "2004-07-01  Physical or chemical processes or apparatus in...      Chemical   \n",
       "\n",
       "                        nber_subcategory                  wipos_field  \\\n",
       "date                                                                    \n",
       "2004-12-28           Measuring & Testing           Medical technology   \n",
       "2004-09-21                          None                         None   \n",
       "2004-03-22  Computer Hardware & Software          Computer technology   \n",
       "2004-09-02                 Miscellaneous  Surface technology, coating   \n",
       "2004-07-01                 Miscellaneous         Chemical engineering   \n",
       "\n",
       "                      wipos_sector  \n",
       "date                                \n",
       "2004-12-28             Instruments  \n",
       "2004-09-21                    None  \n",
       "2004-03-22  Electrical engineering  \n",
       "2004-09-02               Chemistry  \n",
       "2004-07-01               Chemistry  "
      ]
     },
     "execution_count": 311,
     "metadata": {},
     "output_type": "execute_result"
    }
   ],
   "source": [
    "df_02.head()"
   ]
  },
  {
   "cell_type": "code",
   "execution_count": 315,
   "metadata": {},
   "outputs": [
    {
     "data": {
      "text/html": [
       "<div>\n",
       "<table border=\"1\" class=\"dataframe\">\n",
       "  <thead>\n",
       "    <tr style=\"text-align: right;\">\n",
       "      <th></th>\n",
       "      <th>patent_abstract</th>\n",
       "      <th>patent_id</th>\n",
       "      <th>date</th>\n",
       "      <th>app_id</th>\n",
       "      <th>uspcs_mainclass</th>\n",
       "      <th>uspcs_subclass</th>\n",
       "      <th>cpc_group_title</th>\n",
       "      <th>cpc_subsection_title</th>\n",
       "      <th>nber_category</th>\n",
       "      <th>nber_subcategory</th>\n",
       "      <th>wipos_field</th>\n",
       "      <th>wipos_sector</th>\n",
       "    </tr>\n",
       "    <tr>\n",
       "      <th>date</th>\n",
       "      <th></th>\n",
       "      <th></th>\n",
       "      <th></th>\n",
       "      <th></th>\n",
       "      <th></th>\n",
       "      <th></th>\n",
       "      <th></th>\n",
       "      <th></th>\n",
       "      <th></th>\n",
       "      <th></th>\n",
       "      <th></th>\n",
       "      <th></th>\n",
       "    </tr>\n",
       "  </thead>\n",
       "  <tbody>\n",
       "    <tr>\n",
       "      <th>2004-01-31</th>\n",
       "      <td>56</td>\n",
       "      <td>59</td>\n",
       "      <td>59</td>\n",
       "      <td>59</td>\n",
       "      <td>59</td>\n",
       "      <td>59</td>\n",
       "      <td>55</td>\n",
       "      <td>55</td>\n",
       "      <td>55</td>\n",
       "      <td>55</td>\n",
       "      <td>55</td>\n",
       "      <td>55</td>\n",
       "    </tr>\n",
       "    <tr>\n",
       "      <th>2004-02-29</th>\n",
       "      <td>83</td>\n",
       "      <td>85</td>\n",
       "      <td>85</td>\n",
       "      <td>85</td>\n",
       "      <td>85</td>\n",
       "      <td>85</td>\n",
       "      <td>82</td>\n",
       "      <td>82</td>\n",
       "      <td>82</td>\n",
       "      <td>82</td>\n",
       "      <td>82</td>\n",
       "      <td>82</td>\n",
       "    </tr>\n",
       "    <tr>\n",
       "      <th>2004-03-31</th>\n",
       "      <td>72</td>\n",
       "      <td>78</td>\n",
       "      <td>78</td>\n",
       "      <td>78</td>\n",
       "      <td>77</td>\n",
       "      <td>77</td>\n",
       "      <td>72</td>\n",
       "      <td>72</td>\n",
       "      <td>71</td>\n",
       "      <td>71</td>\n",
       "      <td>72</td>\n",
       "      <td>72</td>\n",
       "    </tr>\n",
       "    <tr>\n",
       "      <th>2004-04-30</th>\n",
       "      <td>75</td>\n",
       "      <td>79</td>\n",
       "      <td>79</td>\n",
       "      <td>79</td>\n",
       "      <td>79</td>\n",
       "      <td>79</td>\n",
       "      <td>73</td>\n",
       "      <td>73</td>\n",
       "      <td>73</td>\n",
       "      <td>73</td>\n",
       "      <td>73</td>\n",
       "      <td>73</td>\n",
       "    </tr>\n",
       "    <tr>\n",
       "      <th>2004-05-31</th>\n",
       "      <td>80</td>\n",
       "      <td>87</td>\n",
       "      <td>87</td>\n",
       "      <td>87</td>\n",
       "      <td>87</td>\n",
       "      <td>87</td>\n",
       "      <td>79</td>\n",
       "      <td>79</td>\n",
       "      <td>79</td>\n",
       "      <td>79</td>\n",
       "      <td>79</td>\n",
       "      <td>79</td>\n",
       "    </tr>\n",
       "    <tr>\n",
       "      <th>2004-06-30</th>\n",
       "      <td>105</td>\n",
       "      <td>113</td>\n",
       "      <td>113</td>\n",
       "      <td>113</td>\n",
       "      <td>113</td>\n",
       "      <td>113</td>\n",
       "      <td>104</td>\n",
       "      <td>104</td>\n",
       "      <td>104</td>\n",
       "      <td>104</td>\n",
       "      <td>104</td>\n",
       "      <td>104</td>\n",
       "    </tr>\n",
       "    <tr>\n",
       "      <th>2004-07-31</th>\n",
       "      <td>55</td>\n",
       "      <td>61</td>\n",
       "      <td>61</td>\n",
       "      <td>61</td>\n",
       "      <td>61</td>\n",
       "      <td>61</td>\n",
       "      <td>55</td>\n",
       "      <td>55</td>\n",
       "      <td>55</td>\n",
       "      <td>55</td>\n",
       "      <td>55</td>\n",
       "      <td>55</td>\n",
       "    </tr>\n",
       "    <tr>\n",
       "      <th>2004-08-31</th>\n",
       "      <td>79</td>\n",
       "      <td>85</td>\n",
       "      <td>85</td>\n",
       "      <td>85</td>\n",
       "      <td>85</td>\n",
       "      <td>85</td>\n",
       "      <td>78</td>\n",
       "      <td>78</td>\n",
       "      <td>79</td>\n",
       "      <td>79</td>\n",
       "      <td>78</td>\n",
       "      <td>78</td>\n",
       "    </tr>\n",
       "    <tr>\n",
       "      <th>2004-09-30</th>\n",
       "      <td>81</td>\n",
       "      <td>87</td>\n",
       "      <td>87</td>\n",
       "      <td>87</td>\n",
       "      <td>87</td>\n",
       "      <td>87</td>\n",
       "      <td>80</td>\n",
       "      <td>80</td>\n",
       "      <td>80</td>\n",
       "      <td>80</td>\n",
       "      <td>80</td>\n",
       "      <td>80</td>\n",
       "    </tr>\n",
       "    <tr>\n",
       "      <th>2004-10-31</th>\n",
       "      <td>73</td>\n",
       "      <td>81</td>\n",
       "      <td>81</td>\n",
       "      <td>81</td>\n",
       "      <td>81</td>\n",
       "      <td>81</td>\n",
       "      <td>73</td>\n",
       "      <td>73</td>\n",
       "      <td>73</td>\n",
       "      <td>73</td>\n",
       "      <td>73</td>\n",
       "      <td>73</td>\n",
       "    </tr>\n",
       "    <tr>\n",
       "      <th>2004-11-30</th>\n",
       "      <td>81</td>\n",
       "      <td>84</td>\n",
       "      <td>84</td>\n",
       "      <td>84</td>\n",
       "      <td>84</td>\n",
       "      <td>84</td>\n",
       "      <td>80</td>\n",
       "      <td>80</td>\n",
       "      <td>81</td>\n",
       "      <td>81</td>\n",
       "      <td>80</td>\n",
       "      <td>80</td>\n",
       "    </tr>\n",
       "    <tr>\n",
       "      <th>2004-12-31</th>\n",
       "      <td>85</td>\n",
       "      <td>92</td>\n",
       "      <td>92</td>\n",
       "      <td>92</td>\n",
       "      <td>92</td>\n",
       "      <td>92</td>\n",
       "      <td>85</td>\n",
       "      <td>85</td>\n",
       "      <td>85</td>\n",
       "      <td>85</td>\n",
       "      <td>85</td>\n",
       "      <td>85</td>\n",
       "    </tr>\n",
       "  </tbody>\n",
       "</table>\n",
       "</div>"
      ],
      "text/plain": [
       "            patent_abstract  patent_id  date  app_id  uspcs_mainclass  \\\n",
       "date                                                                    \n",
       "2004-01-31               56         59    59      59               59   \n",
       "2004-02-29               83         85    85      85               85   \n",
       "2004-03-31               72         78    78      78               77   \n",
       "2004-04-30               75         79    79      79               79   \n",
       "2004-05-31               80         87    87      87               87   \n",
       "2004-06-30              105        113   113     113              113   \n",
       "2004-07-31               55         61    61      61               61   \n",
       "2004-08-31               79         85    85      85               85   \n",
       "2004-09-30               81         87    87      87               87   \n",
       "2004-10-31               73         81    81      81               81   \n",
       "2004-11-30               81         84    84      84               84   \n",
       "2004-12-31               85         92    92      92               92   \n",
       "\n",
       "            uspcs_subclass  cpc_group_title  cpc_subsection_title  \\\n",
       "date                                                                \n",
       "2004-01-31              59               55                    55   \n",
       "2004-02-29              85               82                    82   \n",
       "2004-03-31              77               72                    72   \n",
       "2004-04-30              79               73                    73   \n",
       "2004-05-31              87               79                    79   \n",
       "2004-06-30             113              104                   104   \n",
       "2004-07-31              61               55                    55   \n",
       "2004-08-31              85               78                    78   \n",
       "2004-09-30              87               80                    80   \n",
       "2004-10-31              81               73                    73   \n",
       "2004-11-30              84               80                    80   \n",
       "2004-12-31              92               85                    85   \n",
       "\n",
       "            nber_category  nber_subcategory  wipos_field  wipos_sector  \n",
       "date                                                                    \n",
       "2004-01-31             55                55           55            55  \n",
       "2004-02-29             82                82           82            82  \n",
       "2004-03-31             71                71           72            72  \n",
       "2004-04-30             73                73           73            73  \n",
       "2004-05-31             79                79           79            79  \n",
       "2004-06-30            104               104          104           104  \n",
       "2004-07-31             55                55           55            55  \n",
       "2004-08-31             79                79           78            78  \n",
       "2004-09-30             80                80           80            80  \n",
       "2004-10-31             73                73           73            73  \n",
       "2004-11-30             81                81           80            80  \n",
       "2004-12-31             85                85           85            85  "
      ]
     },
     "execution_count": 315,
     "metadata": {},
     "output_type": "execute_result"
    }
   ],
   "source": [
    "df_02.loc[df_02['date'].isin(['2010-08', '2011-08'])]"
   ]
  },
  {
   "cell_type": "code",
   "execution_count": null,
   "metadata": {},
   "outputs": [],
   "source": []
  }
 ],
 "metadata": {
  "kernelspec": {
   "display_name": "Wagner",
   "language": "python",
   "name": "wagner"
  },
  "language_info": {
   "codemirror_mode": {
    "name": "ipython",
    "version": 2
   },
   "file_extension": ".py",
   "mimetype": "text/x-python",
   "name": "python",
   "nbconvert_exporter": "python",
   "pygments_lexer": "ipython2",
   "version": "2.7.12"
  }
 },
 "nbformat": 4,
 "nbformat_minor": 2
}
