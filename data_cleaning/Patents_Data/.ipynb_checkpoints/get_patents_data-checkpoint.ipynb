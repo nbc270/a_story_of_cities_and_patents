{
 "cells": [
  {
   "cell_type": "code",
   "execution_count": 1,
   "metadata": {},
   "outputs": [],
   "source": [
    "import requests\n",
    "import json\n",
    "import pandas as pd"
   ]
  },
  {
   "cell_type": "code",
   "execution_count": 2,
   "metadata": {},
   "outputs": [],
   "source": [
    "\n",
    "fields = 'f=[\"patent_id\",\"assignee_city\", \"assignee_state\", \"assignee_latitude\", \"assignee_longitude\", \"assignee_organization\", \"assignee_type\", \"cited_patent_category\", \"citedby_patent_title\", \"citedby_patent_number\", \"examiner_group\", \"govint_org_level_one\", \"govint_org_level_two\", \"govint_org_level_three\", \"govint_raw_statement\", \"inventor_city\", \"inventor_state\", \"inventor_latitude\", \"inventor_longitude\", \"patent_abstract\", \"patent_num_us_application_citations\", \"patent_num_foreign_citations\", \"patent_processing_time\", \"patent_title\", \"patent_type\", \"inventor_last_name\", \"ipc_class\", \"ipc_main_group\",\"ipc_section\",\"ipc_sequence\",\"ipc_subclass\",\"ipc_subgroup\"]'\n",
    "\n",
    "\n",
    "\n"
   ]
  },
  {
   "cell_type": "code",
   "execution_count": 4,
   "metadata": {},
   "outputs": [
    {
     "name": "stdout",
     "output_type": "stream",
     "text": [
      "Done with 01\n",
      "Done with 05\n",
      "Done with 09\n",
      "Done with 01\n",
      "Done with 05\n",
      "Done with 09\n",
      "Done with 01\n",
      "Done with 05\n",
      "Done with 09\n",
      "Done with 01\n",
      "Done with 05\n",
      "Done with 09\n",
      "Done with 01\n",
      "Done with 05\n",
      "Done with 09\n",
      "Done with 01\n",
      "Done with 05\n",
      "Done with 09\n",
      "Done with 01\n",
      "Done with 09\n",
      "Done with 01\n",
      "Done with 05\n",
      "Done with 09\n",
      "Done with 01\n",
      "Done with 05\n",
      "Done with 09\n",
      "Done with 01\n",
      "Done with 05\n",
      "Done with 09\n"
     ]
    }
   ],
   "source": [
    "beg_year = 1990\n",
    "for i in range(0,10):\n",
    "    curr_year = str(beg_year + i)\n",
    "    url1 = 'http://www.patentsview.org/api/patents/query?q={\"_and\":[{\"_gte\":{\"app_date\":\"' + curr_year + '-01-01' + '\"}},{\"_lt\":{\"app_date\":\"' + curr_year + '-05-01' + '\"}},{\"assignee_country\":\"US\"}]}&' + fields + '&o={\"page\":'\n",
    "    resp1 = requests.request('GET', url1 + '1,\"per_page\":10000}')\n",
    "    page1 = json.loads(resp1.text)\n",
    "    count = -(-page1['total_patent_count']//10000)\n",
    "    if count > 10:\n",
    "        print ('Total nubmer of patents for this year and months exceeds 100,000!!')\n",
    "    df1 = pd.DataFrame(page1['patents'])\n",
    "    for k in range(2,count+1):\n",
    "        url = url1 + str(k) + ',\"per_page\":10000}'\n",
    "        resp1 = requests.request('GET', url)\n",
    "        patent1 = json.loads(resp1.text)\n",
    "        df1 = df1.append(pd.DataFrame(patent1['patents']))\n",
    "    print(\"Done with 01\")\n",
    "    \n",
    "    url2 = 'http://www.patentsview.org/api/patents/query?q={\"_and\":[{\"_gte\":{\"app_date\":\"' + curr_year + '-05-01' + '\"}},{\"_lt\":{\"app_date\":\"' + curr_year + '-09-01' + '\"}},{\"assignee_country\":\"US\"}]}&' + fields + '&o={\"page\":'\n",
    "    resp2 = requests.request('GET', url2 + '1,\"per_page\":10000}')\n",
    "    page2 = json.loads(resp2.text)\n",
    "    count = -(-page2['total_patent_count']//10000)\n",
    "    if count > 10:\n",
    "        print ('Total nubmer of patents for this year and months exceeds 100,000!!')\n",
    "    df2 = pd.DataFrame(page2['patents'])\n",
    "    for k in range(2,count+1):\n",
    "        url = url2 + str(k) + ',\"per_page\":10000}'\n",
    "        resp2 = requests.request('GET', url)\n",
    "        patent2 = json.loads(resp2.text)\n",
    "        df2 = df2.append(pd.DataFrame(patent2['patents']))\n",
    "    print(\"Done with 05\")\n",
    "\n",
    "    url3 = 'http://www.patentsview.org/api/patents/query?q={\"_and\":[{\"_gte\":{\"app_date\":\"' + curr_year + '-09-01' + '\"}},{\"_lt\":{\"app_date\":\"' + str(int(curr_year)+1) + '-01-01' + '\"}},{\"assignee_country\":\"US\"}]}&' + fields + '&o={\"page\":'\n",
    "    resp3 = requests.request('GET', url3 + '1,\"per_page\":10000}')\n",
    "    page3 = json.loads(resp3.text)\n",
    "    count = -(-page3['total_patent_count']//10000)\n",
    "    if count > 10:\n",
    "        print ('Total nubmer of patents for this year and months exceeds 100,000!!')\n",
    "    df3 = pd.DataFrame(page3['patents'])\n",
    "    for k in range(2,count+1):\n",
    "        url = url3 + str(k) + ',\"per_page\":10000}'\n",
    "        resp3 = requests.request('GET', url)\n",
    "        patent3 = json.loads(resp3.text)\n",
    "        df3 = df3.append(pd.DataFrame(patent3['patents']))\n",
    "    print(\"Done with 09\")\n",
    "\n",
    "    combined = [df1, df2, df3]\n",
    "    all_year = pd.concat(combined, ignore_index=True)\n",
    "    all_year.to_csv('/projects/cps2019_funding/shared/Data_Cleaning/Patents_Data/complete_patent_data/patents_{}.csv'.format(curr_year), encoding = 'utf-8')\n",
    "    "
   ]
  },
  {
   "cell_type": "code",
   "execution_count": null,
   "metadata": {},
   "outputs": [],
   "source": []
  }
 ],
 "metadata": {
  "kernelspec": {
   "display_name": "PUI2016_Python3",
   "language": "python",
   "name": "pui2016_python3"
  },
  "language_info": {
   "codemirror_mode": {
    "name": "ipython",
    "version": 3
   },
   "file_extension": ".py",
   "mimetype": "text/x-python",
   "name": "python",
   "nbconvert_exporter": "python",
   "pygments_lexer": "ipython3",
   "version": "3.5.4"
  }
 },
 "nbformat": 4,
 "nbformat_minor": 2
}
