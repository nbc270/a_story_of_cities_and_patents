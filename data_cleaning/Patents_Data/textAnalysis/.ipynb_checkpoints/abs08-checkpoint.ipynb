{
 "cells": [
  {
   "cell_type": "code",
   "execution_count": 2,
   "metadata": {},
   "outputs": [
    {
     "name": "stdout",
     "output_type": "stream",
     "text": [
      "[nltk_data] Downloading package stopwords to\n",
      "[nltk_data]     /nfshome/tc1767/nltk_data...\n",
      "[nltk_data]   Package stopwords is already up-to-date!\n",
      "[nltk_data] Downloading package averaged_perceptron_tagger to\n",
      "[nltk_data]     /nfshome/tc1767/nltk_data...\n",
      "[nltk_data]   Package averaged_perceptron_tagger is already up-to-\n",
      "[nltk_data]       date!\n",
      "[nltk_data] Downloading package punkt to /nfshome/tc1767/nltk_data...\n",
      "[nltk_data]   Package punkt is already up-to-date!\n"
     ]
    },
    {
     "data": {
      "text/plain": [
       "True"
      ]
     },
     "execution_count": 2,
     "metadata": {},
     "output_type": "execute_result"
    }
   ],
   "source": [
    "import pandas as pd\n",
    "import numpy as np\n",
    "from collections import Counter\n",
    "import itertools\n",
    "import ast\n",
    "from ast import literal_eval\n",
    "import nltk\n",
    "from nltk.corpus import stopwords\n",
    "nltk.download('stopwords')\n",
    "nltk.download('averaged_perceptron_tagger')\n",
    "nltk.download('punkt')"
   ]
  },
  {
   "cell_type": "code",
   "execution_count": 3,
   "metadata": {},
   "outputs": [],
   "source": [
    "#output a directory for each patent's city and ipc section matched with its index number so that we can use the \n",
    "#index number to extract rows from dataframe for each city and ipc section\n",
    "def get_directory(df):\n",
    "    for i in range(len(df)):\n",
    "        ipc = literal_eval(df['IPCs'][i])\n",
    "        for j in range(len(ipc)):  \n",
    "            sec = ipc[j]['ipc_section']\n",
    "            try:\n",
    "                asgn = literal_eval(df['assignees'][i])\n",
    "                for k in range(len(asgn)):\n",
    "                    yield (i, (asgn[k]['assignee_city'], sec))\n",
    "            except SyntaxError:\n",
    "                asgn = df.iloc[i]['assignees']\n",
    "                for k in range(asgn.count('city')):\n",
    "                    yield (i, (asgn.split(':')[2+k*3].split(',')[0][3:-1], sec))"
   ]
  },
  {
   "cell_type": "code",
   "execution_count": null,
   "metadata": {},
   "outputs": [],
   "source": [
    "#implement dataframe to get corresponding directory\n",
    "directory = sorted(list(set(get_directory(df))), key=lambda x: x[0])"
   ]
  },
  {
   "cell_type": "code",
   "execution_count": 5,
   "metadata": {},
   "outputs": [],
   "source": [
    "#output a list of tuples with unique values (city or ipc section) and corresponding number of patents\n",
    "#num: 0-city, 1-ipc section\n",
    "def count_unique(directory, num):\n",
    "    counts = {}\n",
    "    for tup in directory:\n",
    "        counts[tup[1][num]] = counts.get(tup[1][num], 0) + 1\n",
    "    return sorted(counts.items(), key=lambda x: x[1], reverse=True)"
   ]
  },
  {
   "cell_type": "code",
   "execution_count": 6,
   "metadata": {},
   "outputs": [],
   "source": [
    "#df: compete dataframe with all patents\n",
    "#directory: directory we get from above\n",
    "#num: 0-city, 1-ipc section\n",
    "#string: city or ipc section that we want to refine\n",
    "def df_by_index(df, directory, num, string):\n",
    "    return df.iloc[list(map(lambda x: x[0], filter(lambda x: x[1][num]==string, directory)))]"
   ]
  },
  {
   "cell_type": "code",
   "execution_count": 42,
   "metadata": {},
   "outputs": [],
   "source": [
    "def df_by_2index(df, directory, city, field):\n",
    "    cities = list(map(lambda x: x[0], filter(lambda x: x[1][0]==city, directory)))\n",
    "    fields = list(map(lambda x: x[0], filter(lambda x: x[1][1]==field, directory)))\n",
    "    return df.iloc[list(set(cities) & set(fields))]"
   ]
  },
  {
   "cell_type": "markdown",
   "metadata": {},
   "source": [
    "### For 2008"
   ]
  },
  {
   "cell_type": "code",
   "execution_count": 7,
   "metadata": {},
   "outputs": [],
   "source": [
    "pat08 = pd.read_csv(\"/projects/cps2019_funding/shared/Patents_Data/cityAnalysis/cleaned_patent_years/patents2008_full.csv\")"
   ]
  },
  {
   "cell_type": "code",
   "execution_count": 9,
   "metadata": {},
   "outputs": [],
   "source": [
    "dir08 = sorted(list(set(get_directory(pat08))), key=lambda x: x[0])"
   ]
  },
  {
   "cell_type": "code",
   "execution_count": 13,
   "metadata": {},
   "outputs": [],
   "source": [
    "top10 = list(map(lambda x: x[0], count_unique(dir08, 0)[:10]))"
   ]
  },
  {
   "cell_type": "code",
   "execution_count": 14,
   "metadata": {},
   "outputs": [
    {
     "data": {
      "text/plain": [
       "[u'Armonk',\n",
       " u'Houston',\n",
       " u'San Jose',\n",
       " u'Santa Clara',\n",
       " u'Redmond',\n",
       " u'San Diego',\n",
       " u'Sunnyvale',\n",
       " u'Atlanta',\n",
       " u'Wilmington',\n",
       " u'Mountain View']"
      ]
     },
     "execution_count": 14,
     "metadata": {},
     "output_type": "execute_result"
    }
   ],
   "source": [
    "top10"
   ]
  },
  {
   "cell_type": "code",
   "execution_count": 18,
   "metadata": {},
   "outputs": [],
   "source": [
    "ipcs = list(map(lambda x: x[0], count_unique(dir08, 1)))"
   ]
  },
  {
   "cell_type": "code",
   "execution_count": null,
   "metadata": {},
   "outputs": [],
   "source": [
    "ipcs[:10]"
   ]
  },
  {
   "cell_type": "code",
   "execution_count": null,
   "metadata": {},
   "outputs": [],
   "source": [
    "c01f01 = df_by_2index(pat08, dir08, top10[0], ipcs[0])"
   ]
  },
  {
   "cell_type": "code",
   "execution_count": null,
   "metadata": {},
   "outputs": [],
   "source": []
  }
 ],
 "metadata": {
  "kernelspec": {
   "display_name": "Wagner",
   "language": "python",
   "name": "wagner"
  },
  "language_info": {
   "codemirror_mode": {
    "name": "ipython",
    "version": 2
   },
   "file_extension": ".py",
   "mimetype": "text/x-python",
   "name": "python",
   "nbconvert_exporter": "python",
   "pygments_lexer": "ipython2",
   "version": "2.7.12"
  }
 },
 "nbformat": 4,
 "nbformat_minor": 2
}
