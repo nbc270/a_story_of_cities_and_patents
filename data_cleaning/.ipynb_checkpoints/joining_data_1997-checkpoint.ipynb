{
 "cells": [
  {
   "cell_type": "code",
   "execution_count": 15,
   "metadata": {},
   "outputs": [],
   "source": [
    "import pandas as pd\n",
    "import numpy as np"
   ]
  },
  {
   "cell_type": "markdown",
   "metadata": {},
   "source": [
    "# Get Datasets"
   ]
  },
  {
   "cell_type": "markdown",
   "metadata": {},
   "source": [
    "## Patents"
   ]
  },
  {
   "cell_type": "code",
   "execution_count": 16,
   "metadata": {},
   "outputs": [],
   "source": [
    "cities = pd.read_csv('Patents_Data/cities_with_scores.csv')"
   ]
  },
  {
   "cell_type": "code",
   "execution_count": 17,
   "metadata": {},
   "outputs": [
    {
     "data": {
      "text/html": [
       "<div>\n",
       "<table border=\"1\" class=\"dataframe\">\n",
       "  <thead>\n",
       "    <tr style=\"text-align: right;\">\n",
       "      <th></th>\n",
       "      <th>Unnamed: 0</th>\n",
       "      <th>city_state</th>\n",
       "      <th>Year</th>\n",
       "      <th>Score1</th>\n",
       "      <th>Score2</th>\n",
       "      <th>Score5</th>\n",
       "      <th>Score6</th>\n",
       "      <th>Score7</th>\n",
       "      <th>City</th>\n",
       "      <th>State</th>\n",
       "    </tr>\n",
       "  </thead>\n",
       "  <tbody>\n",
       "    <tr>\n",
       "      <th>0</th>\n",
       "      <td>0</td>\n",
       "      <td>New York_NY</td>\n",
       "      <td>1976</td>\n",
       "      <td>2.317268</td>\n",
       "      <td>2.718282</td>\n",
       "      <td>2.360150</td>\n",
       "      <td>2.718282</td>\n",
       "      <td>5.078432</td>\n",
       "      <td>New York</td>\n",
       "      <td>NY</td>\n",
       "    </tr>\n",
       "    <tr>\n",
       "      <th>1</th>\n",
       "      <td>1</td>\n",
       "      <td>Washington_DC</td>\n",
       "      <td>1976</td>\n",
       "      <td>1.558923</td>\n",
       "      <td>2.219101</td>\n",
       "      <td>1.738496</td>\n",
       "      <td>2.412346</td>\n",
       "      <td>4.150842</td>\n",
       "      <td>Washington</td>\n",
       "      <td>DC</td>\n",
       "    </tr>\n",
       "    <tr>\n",
       "      <th>2</th>\n",
       "      <td>2</td>\n",
       "      <td>Pittsburgh_PA</td>\n",
       "      <td>1976</td>\n",
       "      <td>2.718282</td>\n",
       "      <td>2.425776</td>\n",
       "      <td>2.564047</td>\n",
       "      <td>2.369092</td>\n",
       "      <td>4.933139</td>\n",
       "      <td>Pittsburgh</td>\n",
       "      <td>PA</td>\n",
       "    </tr>\n",
       "    <tr>\n",
       "      <th>3</th>\n",
       "      <td>3</td>\n",
       "      <td>Chicago_IL</td>\n",
       "      <td>1976</td>\n",
       "      <td>2.639930</td>\n",
       "      <td>2.393199</td>\n",
       "      <td>2.560876</td>\n",
       "      <td>2.358395</td>\n",
       "      <td>4.919271</td>\n",
       "      <td>Chicago</td>\n",
       "      <td>IL</td>\n",
       "    </tr>\n",
       "    <tr>\n",
       "      <th>4</th>\n",
       "      <td>4</td>\n",
       "      <td>Stamford_CT</td>\n",
       "      <td>1976</td>\n",
       "      <td>2.167678</td>\n",
       "      <td>2.186224</td>\n",
       "      <td>2.135113</td>\n",
       "      <td>2.301236</td>\n",
       "      <td>4.436350</td>\n",
       "      <td>Stamford</td>\n",
       "      <td>CT</td>\n",
       "    </tr>\n",
       "  </tbody>\n",
       "</table>\n",
       "</div>"
      ],
      "text/plain": [
       "   Unnamed: 0     city_state  Year    Score1    Score2    Score5    Score6  \\\n",
       "0           0    New York_NY  1976  2.317268  2.718282  2.360150  2.718282   \n",
       "1           1  Washington_DC  1976  1.558923  2.219101  1.738496  2.412346   \n",
       "2           2  Pittsburgh_PA  1976  2.718282  2.425776  2.564047  2.369092   \n",
       "3           3     Chicago_IL  1976  2.639930  2.393199  2.560876  2.358395   \n",
       "4           4    Stamford_CT  1976  2.167678  2.186224  2.135113  2.301236   \n",
       "\n",
       "     Score7        City State  \n",
       "0  5.078432    New York    NY  \n",
       "1  4.150842  Washington    DC  \n",
       "2  4.933139  Pittsburgh    PA  \n",
       "3  4.919271     Chicago    IL  \n",
       "4  4.436350    Stamford    CT  "
      ]
     },
     "execution_count": 17,
     "metadata": {},
     "output_type": "execute_result"
    }
   ],
   "source": [
    "cities.head()"
   ]
  },
  {
   "cell_type": "code",
   "execution_count": 18,
   "metadata": {},
   "outputs": [
    {
     "data": {
      "text/plain": [
       "(38573, 10)"
      ]
     },
     "execution_count": 18,
     "metadata": {},
     "output_type": "execute_result"
    }
   ],
   "source": [
    "cities.shape"
   ]
  },
  {
   "cell_type": "code",
   "execution_count": 19,
   "metadata": {},
   "outputs": [],
   "source": [
    "cities_1997 = cities.loc[cities['Year']==1997]"
   ]
  },
  {
   "cell_type": "code",
   "execution_count": 20,
   "metadata": {},
   "outputs": [
    {
     "data": {
      "text/plain": [
       "(989, 10)"
      ]
     },
     "execution_count": 20,
     "metadata": {},
     "output_type": "execute_result"
    }
   ],
   "source": [
    "cities_1997.shape"
   ]
  },
  {
   "cell_type": "code",
   "execution_count": 21,
   "metadata": {},
   "outputs": [
    {
     "name": "stderr",
     "output_type": "stream",
     "text": [
      "/usr/local/Anaconda3-5.0.0-Linux-x86_64/envs/PUI2016_Python3/lib/python3.5/site-packages/ipykernel/__main__.py:1: SettingWithCopyWarning: \n",
      "A value is trying to be set on a copy of a slice from a DataFrame.\n",
      "Try using .loc[row_indexer,col_indexer] = value instead\n",
      "\n",
      "See the caveats in the documentation: http://pandas.pydata.org/pandas-docs/stable/indexing.html#indexing-view-versus-copy\n",
      "  if __name__ == '__main__':\n",
      "/usr/local/Anaconda3-5.0.0-Linux-x86_64/envs/PUI2016_Python3/lib/python3.5/site-packages/ipykernel/__main__.py:2: SettingWithCopyWarning: \n",
      "A value is trying to be set on a copy of a slice from a DataFrame.\n",
      "Try using .loc[row_indexer,col_indexer] = value instead\n",
      "\n",
      "See the caveats in the documentation: http://pandas.pydata.org/pandas-docs/stable/indexing.html#indexing-view-versus-copy\n",
      "  from ipykernel import kernelapp as app\n",
      "/usr/local/Anaconda3-5.0.0-Linux-x86_64/envs/PUI2016_Python3/lib/python3.5/site-packages/ipykernel/__main__.py:3: SettingWithCopyWarning: \n",
      "A value is trying to be set on a copy of a slice from a DataFrame.\n",
      "Try using .loc[row_indexer,col_indexer] = value instead\n",
      "\n",
      "See the caveats in the documentation: http://pandas.pydata.org/pandas-docs/stable/indexing.html#indexing-view-versus-copy\n",
      "  app.launch_new_instance()\n"
     ]
    }
   ],
   "source": [
    "cities_1997['city_state'] = cities_1997['city_state'].str.replace(' ','')\n",
    "cities_1997['city_state'] = cities_1997['city_state'].str.replace(',','')\n",
    "cities_1997['city_state'] = cities_1997['city_state'].str.replace('.','')"
   ]
  },
  {
   "cell_type": "code",
   "execution_count": 22,
   "metadata": {},
   "outputs": [
    {
     "name": "stderr",
     "output_type": "stream",
     "text": [
      "/usr/local/Anaconda3-5.0.0-Linux-x86_64/envs/PUI2016_Python3/lib/python3.5/site-packages/ipykernel/__main__.py:1: SettingWithCopyWarning: \n",
      "A value is trying to be set on a copy of a slice from a DataFrame.\n",
      "Try using .loc[row_indexer,col_indexer] = value instead\n",
      "\n",
      "See the caveats in the documentation: http://pandas.pydata.org/pandas-docs/stable/indexing.html#indexing-view-versus-copy\n",
      "  if __name__ == '__main__':\n"
     ]
    }
   ],
   "source": [
    "cities_1997['city_state'] = cities_1997['city_state'].str.lower()"
   ]
  },
  {
   "cell_type": "markdown",
   "metadata": {},
   "source": [
    "## SBIR"
   ]
  },
  {
   "cell_type": "code",
   "execution_count": 23,
   "metadata": {},
   "outputs": [],
   "source": [
    "sbir = pd.read_csv('Regulation_Data/SBIR/clean_SBIR/clean_sbir_1997.csv')"
   ]
  },
  {
   "cell_type": "code",
   "execution_count": 24,
   "metadata": {},
   "outputs": [
    {
     "data": {
      "text/html": [
       "<div>\n",
       "<table border=\"1\" class=\"dataframe\">\n",
       "  <thead>\n",
       "    <tr style=\"text-align: right;\">\n",
       "      <th></th>\n",
       "      <th>Unnamed: 0</th>\n",
       "      <th>City_State</th>\n",
       "      <th>Award Mean</th>\n",
       "      <th>Award Sum</th>\n",
       "      <th>Company Count</th>\n",
       "      <th>City</th>\n",
       "      <th>State</th>\n",
       "    </tr>\n",
       "  </thead>\n",
       "  <tbody>\n",
       "    <tr>\n",
       "      <th>0</th>\n",
       "      <td>0</td>\n",
       "      <td>acton_ma</td>\n",
       "      <td>76487.333333</td>\n",
       "      <td>229462</td>\n",
       "      <td>3</td>\n",
       "      <td>Acton</td>\n",
       "      <td>MA</td>\n",
       "    </tr>\n",
       "    <tr>\n",
       "      <th>1</th>\n",
       "      <td>30</td>\n",
       "      <td>agoura hills_ca</td>\n",
       "      <td>242511.500000</td>\n",
       "      <td>970046</td>\n",
       "      <td>4</td>\n",
       "      <td>Agoura hills</td>\n",
       "      <td>CA</td>\n",
       "    </tr>\n",
       "    <tr>\n",
       "      <th>2</th>\n",
       "      <td>39</td>\n",
       "      <td>aiken_sc</td>\n",
       "      <td>100000.000000</td>\n",
       "      <td>100000</td>\n",
       "      <td>1</td>\n",
       "      <td>Aiken</td>\n",
       "      <td>SC</td>\n",
       "    </tr>\n",
       "    <tr>\n",
       "      <th>3</th>\n",
       "      <td>51</td>\n",
       "      <td>akron_oh</td>\n",
       "      <td>395054.200000</td>\n",
       "      <td>1975271</td>\n",
       "      <td>5</td>\n",
       "      <td>Akron</td>\n",
       "      <td>OH</td>\n",
       "    </tr>\n",
       "    <tr>\n",
       "      <th>4</th>\n",
       "      <td>90</td>\n",
       "      <td>alachua_fl</td>\n",
       "      <td>197524.571429</td>\n",
       "      <td>1382672</td>\n",
       "      <td>7</td>\n",
       "      <td>Alachua</td>\n",
       "      <td>FL</td>\n",
       "    </tr>\n",
       "  </tbody>\n",
       "</table>\n",
       "</div>"
      ],
      "text/plain": [
       "   Unnamed: 0       City_State     Award Mean  Award Sum  Company Count  \\\n",
       "0           0         acton_ma   76487.333333     229462              3   \n",
       "1          30  agoura hills_ca  242511.500000     970046              4   \n",
       "2          39         aiken_sc  100000.000000     100000              1   \n",
       "3          51         akron_oh  395054.200000    1975271              5   \n",
       "4          90       alachua_fl  197524.571429    1382672              7   \n",
       "\n",
       "           City State  \n",
       "0         Acton    MA  \n",
       "1  Agoura hills    CA  \n",
       "2         Aiken    SC  \n",
       "3         Akron    OH  \n",
       "4       Alachua    FL  "
      ]
     },
     "execution_count": 24,
     "metadata": {},
     "output_type": "execute_result"
    }
   ],
   "source": [
    "sbir.head()"
   ]
  },
  {
   "cell_type": "code",
   "execution_count": 25,
   "metadata": {},
   "outputs": [
    {
     "data": {
      "text/plain": [
       "(700, 7)"
      ]
     },
     "execution_count": 25,
     "metadata": {},
     "output_type": "execute_result"
    }
   ],
   "source": [
    "sbir.shape"
   ]
  },
  {
   "cell_type": "code",
   "execution_count": 26,
   "metadata": {},
   "outputs": [],
   "source": [
    "sbir['City_State'] = sbir['City_State'].str.replace(' ','')\n",
    "sbir['City_State'] = sbir['City_State'].str.replace(',','')\n",
    "sbir['City_State'] = sbir['City_State'].str.replace('.','')"
   ]
  },
  {
   "cell_type": "code",
   "execution_count": 27,
   "metadata": {},
   "outputs": [],
   "source": [
    "sbir['City_State'] = sbir['City_State'].str.lower()"
   ]
  },
  {
   "cell_type": "markdown",
   "metadata": {},
   "source": [
    "## Econ"
   ]
  },
  {
   "cell_type": "code",
   "execution_count": 28,
   "metadata": {},
   "outputs": [],
   "source": [
    "econ = pd.read_csv('econ_data/1997_creative_class.csv')"
   ]
  },
  {
   "cell_type": "code",
   "execution_count": 29,
   "metadata": {},
   "outputs": [
    {
     "data": {
      "text/html": [
       "<div>\n",
       "<table border=\"1\" class=\"dataframe\">\n",
       "  <thead>\n",
       "    <tr style=\"text-align: right;\">\n",
       "      <th></th>\n",
       "      <th>Unnamed: 0</th>\n",
       "      <th>city_state</th>\n",
       "      <th>creative_employees</th>\n",
       "      <th>regular_employees</th>\n",
       "      <th>creative_establishments</th>\n",
       "      <th>regular_establishments</th>\n",
       "    </tr>\n",
       "  </thead>\n",
       "  <tbody>\n",
       "    <tr>\n",
       "      <th>0</th>\n",
       "      <td>0</td>\n",
       "      <td>abbeville_al</td>\n",
       "      <td>0.0</td>\n",
       "      <td>138.0</td>\n",
       "      <td>0.0</td>\n",
       "      <td>44.0</td>\n",
       "    </tr>\n",
       "    <tr>\n",
       "      <th>1</th>\n",
       "      <td>1</td>\n",
       "      <td>abbeville_la</td>\n",
       "      <td>0.0</td>\n",
       "      <td>1396.0</td>\n",
       "      <td>56.0</td>\n",
       "      <td>440.0</td>\n",
       "    </tr>\n",
       "    <tr>\n",
       "      <th>2</th>\n",
       "      <td>2</td>\n",
       "      <td>abbeville_sc</td>\n",
       "      <td>0.0</td>\n",
       "      <td>528.0</td>\n",
       "      <td>0.0</td>\n",
       "      <td>111.0</td>\n",
       "    </tr>\n",
       "    <tr>\n",
       "      <th>3</th>\n",
       "      <td>3</td>\n",
       "      <td>aberdeentownship_nj</td>\n",
       "      <td>208.0</td>\n",
       "      <td>2676.0</td>\n",
       "      <td>32.0</td>\n",
       "      <td>465.0</td>\n",
       "    </tr>\n",
       "    <tr>\n",
       "      <th>4</th>\n",
       "      <td>4</td>\n",
       "      <td>aberdeen_md</td>\n",
       "      <td>0.0</td>\n",
       "      <td>2024.0</td>\n",
       "      <td>0.0</td>\n",
       "      <td>270.0</td>\n",
       "    </tr>\n",
       "  </tbody>\n",
       "</table>\n",
       "</div>"
      ],
      "text/plain": [
       "   Unnamed: 0           city_state  creative_employees  regular_employees  \\\n",
       "0           0         abbeville_al                 0.0              138.0   \n",
       "1           1         abbeville_la                 0.0             1396.0   \n",
       "2           2         abbeville_sc                 0.0              528.0   \n",
       "3           3  aberdeentownship_nj               208.0             2676.0   \n",
       "4           4          aberdeen_md                 0.0             2024.0   \n",
       "\n",
       "   creative_establishments  regular_establishments  \n",
       "0                      0.0                    44.0  \n",
       "1                     56.0                   440.0  \n",
       "2                      0.0                   111.0  \n",
       "3                     32.0                   465.0  \n",
       "4                      0.0                   270.0  "
      ]
     },
     "execution_count": 29,
     "metadata": {},
     "output_type": "execute_result"
    }
   ],
   "source": [
    "econ.head()"
   ]
  },
  {
   "cell_type": "code",
   "execution_count": 30,
   "metadata": {},
   "outputs": [],
   "source": [
    "econ['city_state'] = econ['city_state'].str.replace(' ','')"
   ]
  },
  {
   "cell_type": "code",
   "execution_count": 31,
   "metadata": {},
   "outputs": [],
   "source": [
    "econ['city_state'] = econ['city_state'].str.replace('.','')\n",
    "econ['city_state'] = econ['city_state'].str.replace(',','')"
   ]
  },
  {
   "cell_type": "code",
   "execution_count": 32,
   "metadata": {},
   "outputs": [],
   "source": [
    "econ['city_state'] = econ['city_state'].str.lower()"
   ]
  },
  {
   "cell_type": "markdown",
   "metadata": {},
   "source": [
    "## Demographics"
   ]
  },
  {
   "cell_type": "markdown",
   "metadata": {},
   "source": [
    "# Begin Joins"
   ]
  },
  {
   "cell_type": "code",
   "execution_count": 33,
   "metadata": {},
   "outputs": [],
   "source": [
    "#sbir with patents data\n",
    "sbir_cities = cities_1997.merge(sbir, left_on = 'city_state', right_on = 'City_State', how = 'left')"
   ]
  },
  {
   "cell_type": "code",
   "execution_count": 34,
   "metadata": {},
   "outputs": [],
   "source": [
    "sbir_creative_cities = sbir_cities.merge(econ,left_on = 'city_state', right_on = 'city_state', how = 'left')"
   ]
  },
  {
   "cell_type": "code",
   "execution_count": 35,
   "metadata": {},
   "outputs": [
    {
     "data": {
      "text/plain": [
       "Index(['Unnamed: 0_x', 'city_state', 'Year', 'Score1', 'Score2', 'Score5',\n",
       "       'Score6', 'Score7', 'City_x', 'State_x', 'Unnamed: 0_y', 'City_State',\n",
       "       'Award Mean', 'Award Sum', 'Company Count', 'City_y', 'State_y',\n",
       "       'Unnamed: 0', 'creative_employees', 'regular_employees',\n",
       "       'creative_establishments', 'regular_establishments'],\n",
       "      dtype='object')"
      ]
     },
     "execution_count": 35,
     "metadata": {},
     "output_type": "execute_result"
    }
   ],
   "source": [
    "sbir_creative_cities.columns"
   ]
  },
  {
   "cell_type": "code",
   "execution_count": 36,
   "metadata": {},
   "outputs": [
    {
     "data": {
      "text/plain": [
       "(753, 22)"
      ]
     },
     "execution_count": 36,
     "metadata": {},
     "output_type": "execute_result"
    }
   ],
   "source": [
    "sbir_creative_cities[~sbir_creative_cities['creative_establishments'].isnull()].shape"
   ]
  },
  {
   "cell_type": "code",
   "execution_count": 38,
   "metadata": {},
   "outputs": [],
   "source": [
    "sbir_creative_cities.to_csv('sbir_creative_cities_1997.csv')"
   ]
  },
  {
   "cell_type": "code",
   "execution_count": null,
   "metadata": {},
   "outputs": [],
   "source": []
  }
 ],
 "metadata": {
  "kernelspec": {
   "display_name": "PUI2016_Python3",
   "language": "python",
   "name": "pui2016_python3"
  },
  "language_info": {
   "codemirror_mode": {
    "name": "ipython",
    "version": 3
   },
   "file_extension": ".py",
   "mimetype": "text/x-python",
   "name": "python",
   "nbconvert_exporter": "python",
   "pygments_lexer": "ipython3",
   "version": "3.5.4"
  }
 },
 "nbformat": 4,
 "nbformat_minor": 2
}
