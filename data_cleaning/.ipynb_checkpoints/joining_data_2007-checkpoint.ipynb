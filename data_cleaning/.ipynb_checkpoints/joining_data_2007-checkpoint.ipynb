{
 "cells": [
  {
   "cell_type": "code",
   "execution_count": 28,
   "metadata": {},
   "outputs": [],
   "source": [
    "import pandas as pd\n",
    "import numpy as np"
   ]
  },
  {
   "cell_type": "markdown",
   "metadata": {},
   "source": [
    "# Get Datasets"
   ]
  },
  {
   "cell_type": "markdown",
   "metadata": {},
   "source": [
    "## Patents"
   ]
  },
  {
   "cell_type": "code",
   "execution_count": 29,
   "metadata": {},
   "outputs": [],
   "source": [
    "cities = pd.read_csv('Patents_Data/cities_with_scores.csv')"
   ]
  },
  {
   "cell_type": "code",
   "execution_count": 30,
   "metadata": {},
   "outputs": [
    {
     "data": {
      "text/html": [
       "<div>\n",
       "<table border=\"1\" class=\"dataframe\">\n",
       "  <thead>\n",
       "    <tr style=\"text-align: right;\">\n",
       "      <th></th>\n",
       "      <th>Unnamed: 0</th>\n",
       "      <th>city_state</th>\n",
       "      <th>Year</th>\n",
       "      <th>Score1</th>\n",
       "      <th>Score2</th>\n",
       "      <th>Score5</th>\n",
       "      <th>Score6</th>\n",
       "      <th>Score7</th>\n",
       "      <th>City</th>\n",
       "      <th>State</th>\n",
       "    </tr>\n",
       "  </thead>\n",
       "  <tbody>\n",
       "    <tr>\n",
       "      <th>0</th>\n",
       "      <td>0</td>\n",
       "      <td>New York_NY</td>\n",
       "      <td>1976</td>\n",
       "      <td>2.317268</td>\n",
       "      <td>2.718282</td>\n",
       "      <td>2.360150</td>\n",
       "      <td>2.718282</td>\n",
       "      <td>5.078432</td>\n",
       "      <td>New York</td>\n",
       "      <td>NY</td>\n",
       "    </tr>\n",
       "    <tr>\n",
       "      <th>1</th>\n",
       "      <td>1</td>\n",
       "      <td>Washington_DC</td>\n",
       "      <td>1976</td>\n",
       "      <td>1.558923</td>\n",
       "      <td>2.219101</td>\n",
       "      <td>1.738496</td>\n",
       "      <td>2.412346</td>\n",
       "      <td>4.150842</td>\n",
       "      <td>Washington</td>\n",
       "      <td>DC</td>\n",
       "    </tr>\n",
       "    <tr>\n",
       "      <th>2</th>\n",
       "      <td>2</td>\n",
       "      <td>Pittsburgh_PA</td>\n",
       "      <td>1976</td>\n",
       "      <td>2.718282</td>\n",
       "      <td>2.425776</td>\n",
       "      <td>2.564047</td>\n",
       "      <td>2.369092</td>\n",
       "      <td>4.933139</td>\n",
       "      <td>Pittsburgh</td>\n",
       "      <td>PA</td>\n",
       "    </tr>\n",
       "    <tr>\n",
       "      <th>3</th>\n",
       "      <td>3</td>\n",
       "      <td>Chicago_IL</td>\n",
       "      <td>1976</td>\n",
       "      <td>2.639930</td>\n",
       "      <td>2.393199</td>\n",
       "      <td>2.560876</td>\n",
       "      <td>2.358395</td>\n",
       "      <td>4.919271</td>\n",
       "      <td>Chicago</td>\n",
       "      <td>IL</td>\n",
       "    </tr>\n",
       "    <tr>\n",
       "      <th>4</th>\n",
       "      <td>4</td>\n",
       "      <td>Stamford_CT</td>\n",
       "      <td>1976</td>\n",
       "      <td>2.167678</td>\n",
       "      <td>2.186224</td>\n",
       "      <td>2.135113</td>\n",
       "      <td>2.301236</td>\n",
       "      <td>4.436350</td>\n",
       "      <td>Stamford</td>\n",
       "      <td>CT</td>\n",
       "    </tr>\n",
       "  </tbody>\n",
       "</table>\n",
       "</div>"
      ],
      "text/plain": [
       "   Unnamed: 0     city_state  Year    Score1    Score2    Score5    Score6  \\\n",
       "0           0    New York_NY  1976  2.317268  2.718282  2.360150  2.718282   \n",
       "1           1  Washington_DC  1976  1.558923  2.219101  1.738496  2.412346   \n",
       "2           2  Pittsburgh_PA  1976  2.718282  2.425776  2.564047  2.369092   \n",
       "3           3     Chicago_IL  1976  2.639930  2.393199  2.560876  2.358395   \n",
       "4           4    Stamford_CT  1976  2.167678  2.186224  2.135113  2.301236   \n",
       "\n",
       "     Score7        City State  \n",
       "0  5.078432    New York    NY  \n",
       "1  4.150842  Washington    DC  \n",
       "2  4.933139  Pittsburgh    PA  \n",
       "3  4.919271     Chicago    IL  \n",
       "4  4.436350    Stamford    CT  "
      ]
     },
     "execution_count": 30,
     "metadata": {},
     "output_type": "execute_result"
    }
   ],
   "source": [
    "cities.head()"
   ]
  },
  {
   "cell_type": "code",
   "execution_count": 31,
   "metadata": {},
   "outputs": [
    {
     "data": {
      "text/plain": [
       "(38573, 10)"
      ]
     },
     "execution_count": 31,
     "metadata": {},
     "output_type": "execute_result"
    }
   ],
   "source": [
    "cities.shape"
   ]
  },
  {
   "cell_type": "code",
   "execution_count": 32,
   "metadata": {},
   "outputs": [],
   "source": [
    "cities_2007 = cities.loc[cities['Year']==2007]"
   ]
  },
  {
   "cell_type": "code",
   "execution_count": 33,
   "metadata": {},
   "outputs": [
    {
     "data": {
      "text/plain": [
       "(976, 10)"
      ]
     },
     "execution_count": 33,
     "metadata": {},
     "output_type": "execute_result"
    }
   ],
   "source": [
    "cities_2007.shape"
   ]
  },
  {
   "cell_type": "code",
   "execution_count": 34,
   "metadata": {},
   "outputs": [
    {
     "name": "stderr",
     "output_type": "stream",
     "text": [
      "/usr/local/Anaconda3-5.0.0-Linux-x86_64/envs/PUI2016_Python3/lib/python3.5/site-packages/ipykernel/__main__.py:1: SettingWithCopyWarning: \n",
      "A value is trying to be set on a copy of a slice from a DataFrame.\n",
      "Try using .loc[row_indexer,col_indexer] = value instead\n",
      "\n",
      "See the caveats in the documentation: http://pandas.pydata.org/pandas-docs/stable/indexing.html#indexing-view-versus-copy\n",
      "  if __name__ == '__main__':\n",
      "/usr/local/Anaconda3-5.0.0-Linux-x86_64/envs/PUI2016_Python3/lib/python3.5/site-packages/ipykernel/__main__.py:2: SettingWithCopyWarning: \n",
      "A value is trying to be set on a copy of a slice from a DataFrame.\n",
      "Try using .loc[row_indexer,col_indexer] = value instead\n",
      "\n",
      "See the caveats in the documentation: http://pandas.pydata.org/pandas-docs/stable/indexing.html#indexing-view-versus-copy\n",
      "  from ipykernel import kernelapp as app\n",
      "/usr/local/Anaconda3-5.0.0-Linux-x86_64/envs/PUI2016_Python3/lib/python3.5/site-packages/ipykernel/__main__.py:3: SettingWithCopyWarning: \n",
      "A value is trying to be set on a copy of a slice from a DataFrame.\n",
      "Try using .loc[row_indexer,col_indexer] = value instead\n",
      "\n",
      "See the caveats in the documentation: http://pandas.pydata.org/pandas-docs/stable/indexing.html#indexing-view-versus-copy\n",
      "  app.launch_new_instance()\n"
     ]
    }
   ],
   "source": [
    "cities_2007['city_state'] = cities_2007['city_state'].str.replace(' ','')\n",
    "cities_2007['city_state'] = cities_2007['city_state'].str.replace(',','')\n",
    "cities_2007['city_state'] = cities_2007['city_state'].str.replace('.','')"
   ]
  },
  {
   "cell_type": "code",
   "execution_count": 35,
   "metadata": {},
   "outputs": [
    {
     "name": "stderr",
     "output_type": "stream",
     "text": [
      "/usr/local/Anaconda3-5.0.0-Linux-x86_64/envs/PUI2016_Python3/lib/python3.5/site-packages/ipykernel/__main__.py:1: SettingWithCopyWarning: \n",
      "A value is trying to be set on a copy of a slice from a DataFrame.\n",
      "Try using .loc[row_indexer,col_indexer] = value instead\n",
      "\n",
      "See the caveats in the documentation: http://pandas.pydata.org/pandas-docs/stable/indexing.html#indexing-view-versus-copy\n",
      "  if __name__ == '__main__':\n"
     ]
    }
   ],
   "source": [
    "cities_2007['city_state'] = cities_2007['city_state'].str.lower()"
   ]
  },
  {
   "cell_type": "markdown",
   "metadata": {},
   "source": [
    "## SBIR"
   ]
  },
  {
   "cell_type": "code",
   "execution_count": 36,
   "metadata": {},
   "outputs": [],
   "source": [
    "sbir = pd.read_csv('Regulation_Data/SBIR/clean_SBIR/clean_sbir_2007.csv')"
   ]
  },
  {
   "cell_type": "code",
   "execution_count": 37,
   "metadata": {},
   "outputs": [
    {
     "data": {
      "text/html": [
       "<div>\n",
       "<table border=\"1\" class=\"dataframe\">\n",
       "  <thead>\n",
       "    <tr style=\"text-align: right;\">\n",
       "      <th></th>\n",
       "      <th>Unnamed: 0</th>\n",
       "      <th>City_State</th>\n",
       "      <th>Award Mean</th>\n",
       "      <th>Award Sum</th>\n",
       "      <th>Company Count</th>\n",
       "      <th>City</th>\n",
       "      <th>State</th>\n",
       "    </tr>\n",
       "  </thead>\n",
       "  <tbody>\n",
       "    <tr>\n",
       "      <th>0</th>\n",
       "      <td>0</td>\n",
       "      <td>abilene_tx</td>\n",
       "      <td>89662.000000</td>\n",
       "      <td>89662.0</td>\n",
       "      <td>1</td>\n",
       "      <td>Abilene</td>\n",
       "      <td>TX</td>\n",
       "    </tr>\n",
       "    <tr>\n",
       "      <th>1</th>\n",
       "      <td>6</td>\n",
       "      <td>acton_ma</td>\n",
       "      <td>110974.857143</td>\n",
       "      <td>776824.0</td>\n",
       "      <td>7</td>\n",
       "      <td>Acton</td>\n",
       "      <td>MA</td>\n",
       "    </tr>\n",
       "    <tr>\n",
       "      <th>2</th>\n",
       "      <td>36</td>\n",
       "      <td>agoura hills_ca</td>\n",
       "      <td>316646.666667</td>\n",
       "      <td>949940.0</td>\n",
       "      <td>3</td>\n",
       "      <td>Agoura hills</td>\n",
       "      <td>CA</td>\n",
       "    </tr>\n",
       "    <tr>\n",
       "      <th>3</th>\n",
       "      <td>45</td>\n",
       "      <td>akron_oh</td>\n",
       "      <td>265178.000000</td>\n",
       "      <td>530356.0</td>\n",
       "      <td>2</td>\n",
       "      <td>Akron</td>\n",
       "      <td>OH</td>\n",
       "    </tr>\n",
       "    <tr>\n",
       "      <th>4</th>\n",
       "      <td>84</td>\n",
       "      <td>alachua_fl</td>\n",
       "      <td>259361.666667</td>\n",
       "      <td>778085.0</td>\n",
       "      <td>3</td>\n",
       "      <td>Alachua</td>\n",
       "      <td>FL</td>\n",
       "    </tr>\n",
       "  </tbody>\n",
       "</table>\n",
       "</div>"
      ],
      "text/plain": [
       "   Unnamed: 0       City_State     Award Mean  Award Sum  Company Count  \\\n",
       "0           0       abilene_tx   89662.000000    89662.0              1   \n",
       "1           6         acton_ma  110974.857143   776824.0              7   \n",
       "2          36  agoura hills_ca  316646.666667   949940.0              3   \n",
       "3          45         akron_oh  265178.000000   530356.0              2   \n",
       "4          84       alachua_fl  259361.666667   778085.0              3   \n",
       "\n",
       "           City State  \n",
       "0       Abilene    TX  \n",
       "1         Acton    MA  \n",
       "2  Agoura hills    CA  \n",
       "3         Akron    OH  \n",
       "4       Alachua    FL  "
      ]
     },
     "execution_count": 37,
     "metadata": {},
     "output_type": "execute_result"
    }
   ],
   "source": [
    "sbir.head()"
   ]
  },
  {
   "cell_type": "code",
   "execution_count": 38,
   "metadata": {},
   "outputs": [
    {
     "data": {
      "text/plain": [
       "(813, 7)"
      ]
     },
     "execution_count": 38,
     "metadata": {},
     "output_type": "execute_result"
    }
   ],
   "source": [
    "sbir.shape"
   ]
  },
  {
   "cell_type": "code",
   "execution_count": 39,
   "metadata": {},
   "outputs": [],
   "source": [
    "sbir['City_State'] = sbir['City_State'].str.replace(' ','')\n",
    "sbir['City_State'] = sbir['City_State'].str.replace(',','')\n",
    "sbir['City_State'] = sbir['City_State'].str.replace('.','')"
   ]
  },
  {
   "cell_type": "code",
   "execution_count": 40,
   "metadata": {},
   "outputs": [],
   "source": [
    "sbir['City_State'] = sbir['City_State'].str.lower()"
   ]
  },
  {
   "cell_type": "markdown",
   "metadata": {},
   "source": [
    "## Econ"
   ]
  },
  {
   "cell_type": "code",
   "execution_count": 41,
   "metadata": {},
   "outputs": [],
   "source": [
    "econ = pd.read_csv('econ_data/2007_creative_class.csv')"
   ]
  },
  {
   "cell_type": "code",
   "execution_count": 42,
   "metadata": {},
   "outputs": [
    {
     "data": {
      "text/html": [
       "<div>\n",
       "<table border=\"1\" class=\"dataframe\">\n",
       "  <thead>\n",
       "    <tr style=\"text-align: right;\">\n",
       "      <th></th>\n",
       "      <th>Unnamed: 0</th>\n",
       "      <th>city_state</th>\n",
       "      <th>creative_employees</th>\n",
       "      <th>regular_employees</th>\n",
       "      <th>creative_establishments</th>\n",
       "      <th>regular_establishments</th>\n",
       "    </tr>\n",
       "  </thead>\n",
       "  <tbody>\n",
       "    <tr>\n",
       "      <th>0</th>\n",
       "      <td>0</td>\n",
       "      <td>Abbeville _AL</td>\n",
       "      <td>0.0</td>\n",
       "      <td>0.0</td>\n",
       "      <td>0.0</td>\n",
       "      <td>0.0</td>\n",
       "    </tr>\n",
       "    <tr>\n",
       "      <th>1</th>\n",
       "      <td>1</td>\n",
       "      <td>Abbeville _GA</td>\n",
       "      <td>0.0</td>\n",
       "      <td>0.0</td>\n",
       "      <td>0.0</td>\n",
       "      <td>0.0</td>\n",
       "    </tr>\n",
       "    <tr>\n",
       "      <th>2</th>\n",
       "      <td>2</td>\n",
       "      <td>Abbeville _LA</td>\n",
       "      <td>700.0</td>\n",
       "      <td>9194.0</td>\n",
       "      <td>234.0</td>\n",
       "      <td>1420.0</td>\n",
       "    </tr>\n",
       "    <tr>\n",
       "      <th>3</th>\n",
       "      <td>3</td>\n",
       "      <td>Abbeville _SC</td>\n",
       "      <td>0.0</td>\n",
       "      <td>2512.0</td>\n",
       "      <td>0.0</td>\n",
       "      <td>352.0</td>\n",
       "    </tr>\n",
       "    <tr>\n",
       "      <th>4</th>\n",
       "      <td>4</td>\n",
       "      <td>Aberdeen Proving Ground _MD</td>\n",
       "      <td>0.0</td>\n",
       "      <td>33.0</td>\n",
       "      <td>10.0</td>\n",
       "      <td>120.0</td>\n",
       "    </tr>\n",
       "  </tbody>\n",
       "</table>\n",
       "</div>"
      ],
      "text/plain": [
       "   Unnamed: 0                   city_state  creative_employees  \\\n",
       "0           0                Abbeville _AL                 0.0   \n",
       "1           1                Abbeville _GA                 0.0   \n",
       "2           2                Abbeville _LA               700.0   \n",
       "3           3                Abbeville _SC                 0.0   \n",
       "4           4  Aberdeen Proving Ground _MD                 0.0   \n",
       "\n",
       "   regular_employees  creative_establishments  regular_establishments  \n",
       "0                0.0                      0.0                     0.0  \n",
       "1                0.0                      0.0                     0.0  \n",
       "2             9194.0                    234.0                  1420.0  \n",
       "3             2512.0                      0.0                   352.0  \n",
       "4               33.0                     10.0                   120.0  "
      ]
     },
     "execution_count": 42,
     "metadata": {},
     "output_type": "execute_result"
    }
   ],
   "source": [
    "econ.head()"
   ]
  },
  {
   "cell_type": "code",
   "execution_count": 43,
   "metadata": {},
   "outputs": [],
   "source": [
    "econ['city_state'] = econ['city_state'].str.replace(' ','')"
   ]
  },
  {
   "cell_type": "code",
   "execution_count": 44,
   "metadata": {},
   "outputs": [],
   "source": [
    "econ['city_state'] = econ['city_state'].str.replace('.','')\n",
    "econ['city_state'] = econ['city_state'].str.replace(',','')"
   ]
  },
  {
   "cell_type": "code",
   "execution_count": 45,
   "metadata": {},
   "outputs": [],
   "source": [
    "econ['city_state'] = econ['city_state'].str.lower()"
   ]
  },
  {
   "cell_type": "code",
   "execution_count": 46,
   "metadata": {},
   "outputs": [],
   "source": [
    "econ['percent_creative_class'] = (econ['creative_employees']/(econ['creative_employees']+econ['regular_employees']))*100\n",
    "\n"
   ]
  },
  {
   "cell_type": "code",
   "execution_count": 47,
   "metadata": {},
   "outputs": [
    {
     "data": {
      "text/html": [
       "<div>\n",
       "<table border=\"1\" class=\"dataframe\">\n",
       "  <thead>\n",
       "    <tr style=\"text-align: right;\">\n",
       "      <th></th>\n",
       "      <th>Unnamed: 0</th>\n",
       "      <th>city_state</th>\n",
       "      <th>creative_employees</th>\n",
       "      <th>regular_employees</th>\n",
       "      <th>creative_establishments</th>\n",
       "      <th>regular_establishments</th>\n",
       "      <th>percent_creative_class</th>\n",
       "    </tr>\n",
       "  </thead>\n",
       "  <tbody>\n",
       "    <tr>\n",
       "      <th>0</th>\n",
       "      <td>0</td>\n",
       "      <td>abbeville_al</td>\n",
       "      <td>0.0</td>\n",
       "      <td>0.0</td>\n",
       "      <td>0.0</td>\n",
       "      <td>0.0</td>\n",
       "      <td>NaN</td>\n",
       "    </tr>\n",
       "    <tr>\n",
       "      <th>1</th>\n",
       "      <td>1</td>\n",
       "      <td>abbeville_ga</td>\n",
       "      <td>0.0</td>\n",
       "      <td>0.0</td>\n",
       "      <td>0.0</td>\n",
       "      <td>0.0</td>\n",
       "      <td>NaN</td>\n",
       "    </tr>\n",
       "    <tr>\n",
       "      <th>2</th>\n",
       "      <td>2</td>\n",
       "      <td>abbeville_la</td>\n",
       "      <td>700.0</td>\n",
       "      <td>9194.0</td>\n",
       "      <td>234.0</td>\n",
       "      <td>1420.0</td>\n",
       "      <td>7.074995</td>\n",
       "    </tr>\n",
       "    <tr>\n",
       "      <th>3</th>\n",
       "      <td>3</td>\n",
       "      <td>abbeville_sc</td>\n",
       "      <td>0.0</td>\n",
       "      <td>2512.0</td>\n",
       "      <td>0.0</td>\n",
       "      <td>352.0</td>\n",
       "      <td>0.000000</td>\n",
       "    </tr>\n",
       "    <tr>\n",
       "      <th>4</th>\n",
       "      <td>4</td>\n",
       "      <td>aberdeenprovingground_md</td>\n",
       "      <td>0.0</td>\n",
       "      <td>33.0</td>\n",
       "      <td>10.0</td>\n",
       "      <td>120.0</td>\n",
       "      <td>0.000000</td>\n",
       "    </tr>\n",
       "  </tbody>\n",
       "</table>\n",
       "</div>"
      ],
      "text/plain": [
       "   Unnamed: 0                city_state  creative_employees  \\\n",
       "0           0              abbeville_al                 0.0   \n",
       "1           1              abbeville_ga                 0.0   \n",
       "2           2              abbeville_la               700.0   \n",
       "3           3              abbeville_sc                 0.0   \n",
       "4           4  aberdeenprovingground_md                 0.0   \n",
       "\n",
       "   regular_employees  creative_establishments  regular_establishments  \\\n",
       "0                0.0                      0.0                     0.0   \n",
       "1                0.0                      0.0                     0.0   \n",
       "2             9194.0                    234.0                  1420.0   \n",
       "3             2512.0                      0.0                   352.0   \n",
       "4               33.0                     10.0                   120.0   \n",
       "\n",
       "   percent_creative_class  \n",
       "0                     NaN  \n",
       "1                     NaN  \n",
       "2                7.074995  \n",
       "3                0.000000  \n",
       "4                0.000000  "
      ]
     },
     "execution_count": 47,
     "metadata": {},
     "output_type": "execute_result"
    }
   ],
   "source": [
    "econ.head()"
   ]
  },
  {
   "cell_type": "markdown",
   "metadata": {},
   "source": [
    "## Demographics"
   ]
  },
  {
   "cell_type": "markdown",
   "metadata": {},
   "source": [
    "# Begin Joins"
   ]
  },
  {
   "cell_type": "code",
   "execution_count": 48,
   "metadata": {},
   "outputs": [],
   "source": [
    "#sbir with patents data\n",
    "sbir_cities = cities_2007.merge(sbir, left_on = 'city_state', right_on = 'City_State', how = 'left')"
   ]
  },
  {
   "cell_type": "code",
   "execution_count": 49,
   "metadata": {},
   "outputs": [],
   "source": [
    "sbir_creative_cities = sbir_cities.merge(econ,left_on = 'city_state', right_on = 'city_state', how = 'left')"
   ]
  },
  {
   "cell_type": "code",
   "execution_count": 50,
   "metadata": {},
   "outputs": [
    {
     "data": {
      "text/plain": [
       "Index(['Unnamed: 0_x', 'city_state', 'Year', 'Score1', 'Score2', 'Score5',\n",
       "       'Score6', 'Score7', 'City_x', 'State_x', 'Unnamed: 0_y', 'City_State',\n",
       "       'Award Mean', 'Award Sum', 'Company Count', 'City_y', 'State_y',\n",
       "       'Unnamed: 0', 'creative_employees', 'regular_employees',\n",
       "       'creative_establishments', 'regular_establishments',\n",
       "       'percent_creative_class'],\n",
       "      dtype='object')"
      ]
     },
     "execution_count": 50,
     "metadata": {},
     "output_type": "execute_result"
    }
   ],
   "source": [
    "sbir_creative_cities.columns"
   ]
  },
  {
   "cell_type": "code",
   "execution_count": 51,
   "metadata": {},
   "outputs": [
    {
     "data": {
      "text/plain": [
       "(780, 23)"
      ]
     },
     "execution_count": 51,
     "metadata": {},
     "output_type": "execute_result"
    }
   ],
   "source": [
    "sbir_creative_cities[~sbir_creative_cities['creative_establishments'].isnull()].shape"
   ]
  },
  {
   "cell_type": "code",
   "execution_count": 52,
   "metadata": {},
   "outputs": [
    {
     "data": {
      "text/html": [
       "<div>\n",
       "<table border=\"1\" class=\"dataframe\">\n",
       "  <thead>\n",
       "    <tr style=\"text-align: right;\">\n",
       "      <th></th>\n",
       "      <th>Unnamed: 0_x</th>\n",
       "      <th>city_state</th>\n",
       "      <th>Year</th>\n",
       "      <th>Score1</th>\n",
       "      <th>Score2</th>\n",
       "      <th>Score5</th>\n",
       "      <th>Score6</th>\n",
       "      <th>Score7</th>\n",
       "      <th>City_x</th>\n",
       "      <th>State_x</th>\n",
       "      <th>...</th>\n",
       "      <th>Award Sum</th>\n",
       "      <th>Company Count</th>\n",
       "      <th>City_y</th>\n",
       "      <th>State_y</th>\n",
       "      <th>Unnamed: 0</th>\n",
       "      <th>creative_employees</th>\n",
       "      <th>regular_employees</th>\n",
       "      <th>creative_establishments</th>\n",
       "      <th>regular_establishments</th>\n",
       "      <th>percent_creative_class</th>\n",
       "    </tr>\n",
       "  </thead>\n",
       "  <tbody>\n",
       "    <tr>\n",
       "      <th>0</th>\n",
       "      <td>30784</td>\n",
       "      <td>armonk_ny</td>\n",
       "      <td>2007</td>\n",
       "      <td>1.725962</td>\n",
       "      <td>2.514172</td>\n",
       "      <td>1.444611</td>\n",
       "      <td>2.718282</td>\n",
       "      <td>4.162893</td>\n",
       "      <td>Armonk</td>\n",
       "      <td>NY</td>\n",
       "      <td>...</td>\n",
       "      <td>NaN</td>\n",
       "      <td>NaN</td>\n",
       "      <td>NaN</td>\n",
       "      <td>NaN</td>\n",
       "      <td>NaN</td>\n",
       "      <td>NaN</td>\n",
       "      <td>NaN</td>\n",
       "      <td>NaN</td>\n",
       "      <td>NaN</td>\n",
       "      <td>NaN</td>\n",
       "    </tr>\n",
       "    <tr>\n",
       "      <th>1</th>\n",
       "      <td>30785</td>\n",
       "      <td>santaclara_ca</td>\n",
       "      <td>2007</td>\n",
       "      <td>2.457342</td>\n",
       "      <td>2.613000</td>\n",
       "      <td>2.374604</td>\n",
       "      <td>2.542019</td>\n",
       "      <td>4.916622</td>\n",
       "      <td>Santa Clara</td>\n",
       "      <td>CA</td>\n",
       "      <td>...</td>\n",
       "      <td>10594411.0</td>\n",
       "      <td>30.0</td>\n",
       "      <td>Santa clara</td>\n",
       "      <td>CA</td>\n",
       "      <td>7963.0</td>\n",
       "      <td>21928.0</td>\n",
       "      <td>357887.0</td>\n",
       "      <td>1468.0</td>\n",
       "      <td>22886.0</td>\n",
       "      <td>5.773337</td>\n",
       "    </tr>\n",
       "    <tr>\n",
       "      <th>2</th>\n",
       "      <td>30786</td>\n",
       "      <td>houston_tx</td>\n",
       "      <td>2007</td>\n",
       "      <td>2.366360</td>\n",
       "      <td>2.518063</td>\n",
       "      <td>2.357407</td>\n",
       "      <td>2.533160</td>\n",
       "      <td>4.890567</td>\n",
       "      <td>Houston</td>\n",
       "      <td>TX</td>\n",
       "      <td>...</td>\n",
       "      <td>11744409.0</td>\n",
       "      <td>31.0</td>\n",
       "      <td>Houston</td>\n",
       "      <td>TX</td>\n",
       "      <td>4156.0</td>\n",
       "      <td>541333.0</td>\n",
       "      <td>5149469.0</td>\n",
       "      <td>26402.0</td>\n",
       "      <td>331584.0</td>\n",
       "      <td>9.512420</td>\n",
       "    </tr>\n",
       "    <tr>\n",
       "      <th>3</th>\n",
       "      <td>30787</td>\n",
       "      <td>sanjose_ca</td>\n",
       "      <td>2007</td>\n",
       "      <td>2.718282</td>\n",
       "      <td>2.718282</td>\n",
       "      <td>2.718282</td>\n",
       "      <td>2.525243</td>\n",
       "      <td>5.243525</td>\n",
       "      <td>San Jose</td>\n",
       "      <td>CA</td>\n",
       "      <td>...</td>\n",
       "      <td>2945508.0</td>\n",
       "      <td>11.0</td>\n",
       "      <td>San jose</td>\n",
       "      <td>CA</td>\n",
       "      <td>7912.0</td>\n",
       "      <td>130964.0</td>\n",
       "      <td>1541653.0</td>\n",
       "      <td>7521.0</td>\n",
       "      <td>104886.0</td>\n",
       "      <td>7.829886</td>\n",
       "    </tr>\n",
       "    <tr>\n",
       "      <th>4</th>\n",
       "      <td>30788</td>\n",
       "      <td>redmond_wa</td>\n",
       "      <td>2007</td>\n",
       "      <td>2.435712</td>\n",
       "      <td>2.549366</td>\n",
       "      <td>2.359712</td>\n",
       "      <td>2.445612</td>\n",
       "      <td>4.805324</td>\n",
       "      <td>Redmond</td>\n",
       "      <td>WA</td>\n",
       "      <td>...</td>\n",
       "      <td>1788239.0</td>\n",
       "      <td>7.0</td>\n",
       "      <td>Redmond</td>\n",
       "      <td>WA</td>\n",
       "      <td>7511.0</td>\n",
       "      <td>6483.0</td>\n",
       "      <td>131026.0</td>\n",
       "      <td>566.0</td>\n",
       "      <td>11545.0</td>\n",
       "      <td>4.714600</td>\n",
       "    </tr>\n",
       "  </tbody>\n",
       "</table>\n",
       "<p>5 rows × 23 columns</p>\n",
       "</div>"
      ],
      "text/plain": [
       "   Unnamed: 0_x     city_state  Year    Score1    Score2    Score5    Score6  \\\n",
       "0         30784      armonk_ny  2007  1.725962  2.514172  1.444611  2.718282   \n",
       "1         30785  santaclara_ca  2007  2.457342  2.613000  2.374604  2.542019   \n",
       "2         30786     houston_tx  2007  2.366360  2.518063  2.357407  2.533160   \n",
       "3         30787     sanjose_ca  2007  2.718282  2.718282  2.718282  2.525243   \n",
       "4         30788     redmond_wa  2007  2.435712  2.549366  2.359712  2.445612   \n",
       "\n",
       "     Score7       City_x State_x           ...             Award Sum  \\\n",
       "0  4.162893       Armonk      NY           ...                   NaN   \n",
       "1  4.916622  Santa Clara      CA           ...            10594411.0   \n",
       "2  4.890567      Houston      TX           ...            11744409.0   \n",
       "3  5.243525     San Jose      CA           ...             2945508.0   \n",
       "4  4.805324      Redmond      WA           ...             1788239.0   \n",
       "\n",
       "  Company Count       City_y  State_y  Unnamed: 0 creative_employees  \\\n",
       "0           NaN          NaN      NaN         NaN                NaN   \n",
       "1          30.0  Santa clara       CA      7963.0            21928.0   \n",
       "2          31.0      Houston       TX      4156.0           541333.0   \n",
       "3          11.0     San jose       CA      7912.0           130964.0   \n",
       "4           7.0      Redmond       WA      7511.0             6483.0   \n",
       "\n",
       "  regular_employees  creative_establishments  regular_establishments  \\\n",
       "0               NaN                      NaN                     NaN   \n",
       "1          357887.0                   1468.0                 22886.0   \n",
       "2         5149469.0                  26402.0                331584.0   \n",
       "3         1541653.0                   7521.0                104886.0   \n",
       "4          131026.0                    566.0                 11545.0   \n",
       "\n",
       "   percent_creative_class  \n",
       "0                     NaN  \n",
       "1                5.773337  \n",
       "2                9.512420  \n",
       "3                7.829886  \n",
       "4                4.714600  \n",
       "\n",
       "[5 rows x 23 columns]"
      ]
     },
     "execution_count": 52,
     "metadata": {},
     "output_type": "execute_result"
    }
   ],
   "source": [
    "sbir_creative_cities.head()"
   ]
  },
  {
   "cell_type": "code",
   "execution_count": 53,
   "metadata": {},
   "outputs": [],
   "source": [
    "sbir_creative_cities.to_csv('sbir_creative_cities_2007.csv')"
   ]
  },
  {
   "cell_type": "code",
   "execution_count": null,
   "metadata": {},
   "outputs": [],
   "source": []
  }
 ],
 "metadata": {
  "kernelspec": {
   "display_name": "PUI2016_Python3",
   "language": "python",
   "name": "pui2016_python3"
  },
  "language_info": {
   "codemirror_mode": {
    "name": "ipython",
    "version": 3
   },
   "file_extension": ".py",
   "mimetype": "text/x-python",
   "name": "python",
   "nbconvert_exporter": "python",
   "pygments_lexer": "ipython3",
   "version": "3.5.4"
  }
 },
 "nbformat": 4,
 "nbformat_minor": 2
}
