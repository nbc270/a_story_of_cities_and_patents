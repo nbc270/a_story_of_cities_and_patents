{
 "cells": [
  {
   "cell_type": "markdown",
   "metadata": {},
   "source": [
    "## Notebook Plan\n",
    "\n",
    "This notebook runs logistic regressions across the years 2001 - 2012 and outputs plots displaying said regressions.\n",
    "\n",
    "1. Read in Data\n",
    "2. Define Functions\n",
    "3. Plot Outputs"
   ]
  },
  {
   "cell_type": "code",
   "execution_count": 62,
   "metadata": {},
   "outputs": [],
   "source": [
    "import pandas as pd\n",
    "import numpy as np\n",
    "import matplotlib.pyplot as plt\n",
    "import seaborn as sns\n",
    "from scipy import stats\n",
    "import statistics\n",
    "import collections\n",
    "from IPython.display import display\n",
    "\n",
    "import statsmodels.formula.api as smf\n",
    "import statsmodels.api as sm\n",
    "from statsmodels.graphics.api import abline_plot\n",
    "\n",
    "\n",
    "from sklearn.linear_model import LogisticRegression, LogisticRegressionCV\n",
    "from sklearn.model_selection import cross_val_predict, GridSearchCV, cross_val_score, train_test_split, KFold\n",
    "from sklearn.decomposition import PCA\n",
    "from sklearn.cluster import KMeans\n",
    "%matplotlib inline\n"
   ]
  },
  {
   "cell_type": "markdown",
   "metadata": {},
   "source": [
    "## 1. Read in Data\n",
    "    1. Dataset: regression_ready_df.csv"
   ]
  },
  {
   "cell_type": "code",
   "execution_count": 63,
   "metadata": {},
   "outputs": [],
   "source": [
    "df_for_regressions = pd.read_csv('data/regression_ready_df.csv')\n",
    "df_for_regressions.drop(['Unnamed: 0'], axis =1 , inplace = True)"
   ]
  },
  {
   "cell_type": "code",
   "execution_count": 64,
   "metadata": {},
   "outputs": [],
   "source": [
    "years = list(df_for_regressions.Year.unique())"
   ]
  },
  {
   "cell_type": "code",
   "execution_count": 65,
   "metadata": {},
   "outputs": [],
   "source": [
    "df_for_regressions.drop(['award_sum', 'company_count', 'creative_employees', 'creative_establishments',\n",
    "                        'performance_amount', 'performance_count', 'recipient_amount', 'recipient_count',\n",
    "                        'regular_employees', 'regular_establishments', 'percent_creative_class', \n",
    "                        'total_earned_bachelor','total_earned_graduate_degree', 'total_foreign',\n",
    "                         'total_less_than_bachelor', 'total_native', 'total_population', 'scaled_population'], axis = 1, inplace = True)"
   ]
  },
  {
   "cell_type": "code",
   "execution_count": 66,
   "metadata": {},
   "outputs": [],
   "source": [
    "df_for_regressions.drop_duplicates(subset=['city_state', 'Year'], keep='last', inplace = True)"
   ]
  },
  {
   "cell_type": "markdown",
   "metadata": {},
   "source": [
    "## 2. Define Regression and Plot Functions\n",
    "\n",
    "1.  #### coef_logistic_reg\n",
    "    \n",
    "    1. Parameters:\n",
    "        1. score: 'Score_assigned' or 'Score_invented'\n",
    "        2. df: Cleaned DataFrame passed from by_year_plots\n",
    "    \n",
    "    2. Returns:\n",
    "        1. List of coefficients to plot by year and feature\n",
    "    \n",
    "2. #### by_year_plots\n",
    "    1. Parameters:\n",
    "        1. score: 'Score_assigned' or 'Score_invented'\n",
    "        2. df: df_for_regressions\n",
    "    2. Returns:\n",
    "        1. Plots by year and feature\n"
   ]
  },
  {
   "cell_type": "code",
   "execution_count": 67,
   "metadata": {},
   "outputs": [],
   "source": [
    "#Reads in scoring method and dataframe, returns list of coefficients to plot\n",
    "\n",
    "def coef_logistic_reg(score, df):\n",
    "    score_75_perc = df[score].describe()[-2]\n",
    "    y = df[score].apply(lambda x: 1 if x > score_75_perc else 0)\n",
    "    \n",
    "    #top 25% cities\n",
    "    df_top_25 = df.loc[df[score] > score_75_perc]\n",
    "    df_bottom = df.loc[df[score] < score_75_perc]\n",
    "    \n",
    "\n",
    "    y = y.fillna(0)\n",
    "    \n",
    "\n",
    "    X = df.drop(['Score_assigned', 'Score_invented','city_state', 'Year'], axis = 1)\n",
    "    \n",
    "    \n",
    "    x_train, x_test, y_train, y_test = train_test_split(X, y, test_size = 0.33, random_state = 3)\n",
    "    \n",
    "    #Simple Logistic Score\n",
    "    clf = LogisticRegression(random_state=0, solver='lbfgs',\n",
    "                            multi_class='multinomial')\n",
    "    clf.fit(x_train, y_train)\n",
    "    return((clf.coef_.tolist())[0])"
   ]
  },
  {
   "cell_type": "code",
   "execution_count": 78,
   "metadata": {},
   "outputs": [],
   "source": [
    "#Reads in scoring method and dataframe, returns all the plots divided into All cities, Bottom Cities and Top Cities\n",
    "\n",
    "def by_year_plots(score, df):\n",
    "    \n",
    "    #for all cities\n",
    "    for_coef_ = []\n",
    "    for year in years:\n",
    "        temp_df = df.loc[df.Year == year]\n",
    "        list_to_add = coef_logistic_reg(score, temp_df)\n",
    "        for_coef_.append(list_to_add)\n",
    "        \n",
    "    #for top cities\n",
    "    for_coef_top = []\n",
    "    for year in years:\n",
    "        temp_df = df.loc[df.Year == year]\n",
    "        score_75_perc = temp_df[score].describe()[-2]\n",
    "        temp_df = temp_df.loc[temp_df.Score_assigned >= score_75_perc]\n",
    "        list_to_add = coef_logistic_reg(score, temp_df)\n",
    "        for_coef_top.append(list_to_add)\n",
    "        \n",
    "    #for bottom cities\n",
    "    for_coef_bottom = []\n",
    "    for year in years:\n",
    "        temp_df = df.loc[df.Year == year]\n",
    "        score_75_perc = temp_df[score].describe()[-2]\n",
    "        temp_df = temp_df.loc[temp_df.Score_assigned < score_75_perc]\n",
    "        list_to_add = coef_logistic_reg(score, temp_df)\n",
    "        for_coef_bottom.append(list_to_add)\n",
    "        \n",
    "    coef_df = pd.DataFrame.from_records(for_coef_, columns=['award_mean', 'scaled_perc_creative_class',\n",
    "       'creative_establishment_ratio', 'company_count_perc',\n",
    "       'percent_bachelors', 'percent_graduate', 'percent_foreign_born',\n",
    "        'recipient_mean', 'performance_mean', 'empowerment_zone', \n",
    "                         'median_household_income'])\n",
    "    coef_df['Year'] = years\n",
    "    coef_df['which_cities'] = \"All Cities\" #0 for all cities, 1 for top cities, 2 for bottom cities\n",
    "    \n",
    "    \n",
    "    for_coef_top_df = pd.DataFrame.from_records(for_coef_top, columns=['award_mean', 'scaled_perc_creative_class',\n",
    "       'creative_establishment_ratio', 'company_count_perc',\n",
    "       'percent_bachelors', 'percent_graduate', 'percent_foreign_born',\n",
    "        'recipient_mean', 'performance_mean',\n",
    "       'empowerment_zone', 'median_household_income'])\n",
    "    for_coef_top_df['Year'] = years\n",
    "    for_coef_top_df['which_cities'] = \"Top Cities\" #0 for all cities, 1 for top cities, 2 for bottom cities\n",
    "    \n",
    "    \n",
    "    for_coef_bottom_df = pd.DataFrame.from_records(for_coef_bottom, columns=['award_mean', 'scaled_perc_creative_class',\n",
    "       'creative_establishment_ratio', 'company_count_perc',\n",
    "       'percent_bachelors', 'percent_graduate', 'percent_foreign_born',\n",
    "       'recipient_mean', 'performance_mean',\n",
    "       'empowerment_zone', 'median_household_income'])\n",
    "    for_coef_bottom_df['Year'] = years\n",
    "    for_coef_bottom_df['which_cities'] = \"Bottom Cities\" #0 for all cities, 1 for top cities, 2 for bottom cities\n",
    "    \n",
    "    #combine plots\n",
    "    coef_df = pd.concat([coef_df, for_coef_bottom_df, for_coef_top_df], ignore_index = True)\n",
    "    \n",
    "    coef_df.rename(columns = {'award_mean': 'SBIR Award Mean', 'scaled_perc_creative_class': 'Percent Creative Class',\n",
    "                             'creative_establishment_ratio': 'Creative Establishment Ratio', \n",
    "                              'company_count_perc': 'Company Count Percent', 'percent_bachelors': 'Percent Bachelors',\n",
    "                             'percent_graduate': 'Percent Graduate', 'percent_foreign_born': 'Percent Foreign Born',\n",
    "                             'recipient_mean': 'Federal Funding Recipient Mean', \n",
    "                              'performance_mean': 'Federal Funding Performance Mean', \n",
    "                              'empowerment_zone': 'Empowerment Zone', \n",
    "                              'median_household_income': 'Median Household Income', 'which_cities': 'Cities'}, \n",
    "                   inplace = True)\n",
    "    \n",
    "    df_columns = coef_df.columns[:-1]\n",
    "    \n",
    "    for col in df_columns:\n",
    "        #fig, ax = plt.subplots(figsize=(10, 8))\n",
    "        try: \n",
    "            ax = sns.lmplot(x=\"Year\", y=col, data=coef_df, hue=\"Cities\", col=\"Cities\", aspect=1)\n",
    "            y_axis = col + \" Feature Importance\"\n",
    "            ax.set(xlabel='Year', ylabel=y_axis)\n",
    "            plt.show()\n",
    "            filename = 'logistic_regressions_{0}_{1}.png'.format(score, col)\n",
    "            ax.savefig(filename)\n",
    "        except ValueError:\n",
    "            continue\n",
    "        \n",
    "    "
   ]
  },
  {
   "cell_type": "markdown",
   "metadata": {},
   "source": [
    "## 3. Plots"
   ]
  },
  {
   "cell_type": "code",
   "execution_count": 80,
   "metadata": {
    "scrolled": false
   },
   "outputs": [],
   "source": [
    "#by_year_plots('Score_assigned', df_for_regressions)"
   ]
  },
  {
   "cell_type": "code",
   "execution_count": 74,
   "metadata": {
    "scrolled": false
   },
   "outputs": [],
   "source": [
    "#by_year_plots('Score_invented', df_for_regressions)"
   ]
  },
  {
   "cell_type": "markdown",
   "metadata": {},
   "source": [
    "## 4. Create Coefficient Values DataFrame\n",
    "\n",
    "1.  #### get_coef_vals\n",
    "    \n",
    "    1. Parameters:\n",
    "        1. score: 'Score_assigned' or 'Score_invented'\n",
    "        2. df: df_for_regressions\n",
    "    \n",
    "    2. Returns:\n",
    "        1. A dataframe containing with features as columns for each year"
   ]
  },
  {
   "cell_type": "code",
   "execution_count": 33,
   "metadata": {},
   "outputs": [],
   "source": [
    "def get_coef_vals(score, df):\n",
    "        \n",
    "    #for all cities\n",
    "    for_coef_ = []\n",
    "    for year in years:\n",
    "        temp_df = df.loc[df.Year == year]\n",
    "        list_to_add = coef_logistic_reg(score, temp_df)\n",
    "        for_coef_.append(list_to_add)\n",
    "    \n",
    "    coef_df = pd.DataFrame.from_records(for_coef_, columns=['award_mean', 'scaled_perc_creative_class',\n",
    "       'creative_establishment_ratio', 'company_count_perc',\n",
    "       'percent_bachelors', 'percent_graduate', 'percent_foreign_born',\n",
    "        'recipient_mean', 'performance_mean', 'empowerment_zone', 'median_household_income'])\n",
    "    coef_df['Year'] = years\n",
    "    coef_df['score'] = score\n",
    "    \n",
    "    return(coef_df)"
   ]
  },
  {
   "cell_type": "code",
   "execution_count": 34,
   "metadata": {},
   "outputs": [],
   "source": [
    "coef_vals_sa = get_coef_vals('Score_assigned', df_for_regressions)\n",
    "coef_vals_si = get_coef_vals('Score_invented', df_for_regressions)\n",
    "coef_vals_df = pd.concat([coef_vals_sa, coef_vals_si], ignore_index=True)"
   ]
  },
  {
   "cell_type": "code",
   "execution_count": 35,
   "metadata": {},
   "outputs": [],
   "source": [
    "coef_vals_df.to_csv('regression_results.csv')"
   ]
  },
  {
   "cell_type": "code",
   "execution_count": null,
   "metadata": {},
   "outputs": [],
   "source": []
  }
 ],
 "metadata": {
  "kernelspec": {
   "display_name": "PUI2016_Python3",
   "language": "python",
   "name": "pui2016_python3"
  },
  "language_info": {
   "codemirror_mode": {
    "name": "ipython",
    "version": 3
   },
   "file_extension": ".py",
   "mimetype": "text/x-python",
   "name": "python",
   "nbconvert_exporter": "python",
   "pygments_lexer": "ipython3",
   "version": "3.5.4"
  }
 },
 "nbformat": 4,
 "nbformat_minor": 2
}
